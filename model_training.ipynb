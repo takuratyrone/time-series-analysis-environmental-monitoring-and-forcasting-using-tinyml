{
  "cells": [
    {
      "cell_type": "code",
      "execution_count": 107,
      "metadata": {
        "id": "3un3rUVk-A9t"
      },
      "outputs": [],
      "source": [
        "# !pip uninstall tensorflow"
      ]
    },
    {
      "cell_type": "code",
      "execution_count": 108,
      "metadata": {
        "id": "6mWuQLoU-F_E"
      },
      "outputs": [],
      "source": [
        "# !pip install tensorflow==2.4.0"
      ]
    },
    {
      "cell_type": "code",
      "execution_count": 109,
      "metadata": {
        "id": "EbrFD1vMR_qS"
      },
      "outputs": [],
      "source": [
        "import tensorflow as tf\n",
        "import os\n",
        "import pandas as pd\n",
        "import numpy as np\n",
        "import matplotlib.pyplot as plt"
      ]
    },
    {
      "cell_type": "code",
      "execution_count": 110,
      "metadata": {
        "id": "fp0xeEAJXhcN",
        "colab": {
          "base_uri": "https://localhost:8080/",
          "height": 35
        },
        "outputId": "811bae5b-6731-4505-c92d-e34a5cf1b188"
      },
      "outputs": [
        {
          "output_type": "execute_result",
          "data": {
            "text/plain": [
              "'2.9.2'"
            ],
            "application/vnd.google.colaboratory.intrinsic+json": {
              "type": "string"
            }
          },
          "metadata": {},
          "execution_count": 110
        }
      ],
      "source": [
        "tf.__version__"
      ]
    },
    {
      "cell_type": "code",
      "execution_count": 113,
      "metadata": {
        "id": "TEGu7YJNt457",
        "colab": {
          "base_uri": "https://localhost:8080/",
          "height": 424
        },
        "outputId": "45119c32-8a18-4a2d-a059-3affe58f388d"
      },
      "outputs": [
        {
          "output_type": "execute_result",
          "data": {
            "text/plain": [
              "                 created_at  entry_id  Temperature (degC)  Humidity (%)  \\\n",
              "0       2022-11-02 01:00:00         1            22.79945      52.08028   \n",
              "1       2022-11-02 01:10:00         2            21.54753      49.60780   \n",
              "2       2022-11-02 01:20:00         3            20.93671      48.81311   \n",
              "3       2022-11-02 01:30:00         4            19.51950      51.14481   \n",
              "4       2022-11-02 01:40:00         5            19.29297      52.39877   \n",
              "...                     ...       ...                 ...           ...   \n",
              "425731  2030-12-06 12:10:00    425732            24.41549      44.73242   \n",
              "425732  2030-12-06 12:20:00    425733            24.61931      43.59546   \n",
              "425733  2030-12-06 12:30:00    425734            24.64833      43.58143   \n",
              "425734  2030-12-06 12:40:00    425735            24.75088      42.18751   \n",
              "425735  2030-12-06 12:50:00    425736            24.63855      43.60923   \n",
              "\n",
              "        Pressure (hPa)  Air Quality (Ohm)  Unnamed: 6  Unnamed: 7  Unnamed: 8  \n",
              "0           1018.10999             170858         NaN         NaN         NaN  \n",
              "1           1018.03003             234857         NaN         NaN         NaN  \n",
              "2           1017.75000             238414         NaN         NaN         NaN  \n",
              "3           1017.65997             255752         NaN         NaN         NaN  \n",
              "4           1017.48999             244769         NaN         NaN         NaN  \n",
              "...                ...                ...         ...         ...         ...  \n",
              "425731      1011.44000             227424         NaN         NaN         NaN  \n",
              "425732      1011.50000             229000         NaN         NaN         NaN  \n",
              "425733      1011.32001             225716         NaN         NaN         NaN  \n",
              "425734      1010.84998             233036         NaN         NaN         NaN  \n",
              "425735      1011.15002             225562         NaN         NaN         NaN  \n",
              "\n",
              "[425736 rows x 9 columns]"
            ],
            "text/html": [
              "\n",
              "  <div id=\"df-aa4bf2bc-bc87-4d3e-8758-327b7f01caed\">\n",
              "    <div class=\"colab-df-container\">\n",
              "      <div>\n",
              "<style scoped>\n",
              "    .dataframe tbody tr th:only-of-type {\n",
              "        vertical-align: middle;\n",
              "    }\n",
              "\n",
              "    .dataframe tbody tr th {\n",
              "        vertical-align: top;\n",
              "    }\n",
              "\n",
              "    .dataframe thead th {\n",
              "        text-align: right;\n",
              "    }\n",
              "</style>\n",
              "<table border=\"1\" class=\"dataframe\">\n",
              "  <thead>\n",
              "    <tr style=\"text-align: right;\">\n",
              "      <th></th>\n",
              "      <th>created_at</th>\n",
              "      <th>entry_id</th>\n",
              "      <th>Temperature (degC)</th>\n",
              "      <th>Humidity (%)</th>\n",
              "      <th>Pressure (hPa)</th>\n",
              "      <th>Air Quality (Ohm)</th>\n",
              "      <th>Unnamed: 6</th>\n",
              "      <th>Unnamed: 7</th>\n",
              "      <th>Unnamed: 8</th>\n",
              "    </tr>\n",
              "  </thead>\n",
              "  <tbody>\n",
              "    <tr>\n",
              "      <th>0</th>\n",
              "      <td>2022-11-02 01:00:00</td>\n",
              "      <td>1</td>\n",
              "      <td>22.79945</td>\n",
              "      <td>52.08028</td>\n",
              "      <td>1018.10999</td>\n",
              "      <td>170858</td>\n",
              "      <td>NaN</td>\n",
              "      <td>NaN</td>\n",
              "      <td>NaN</td>\n",
              "    </tr>\n",
              "    <tr>\n",
              "      <th>1</th>\n",
              "      <td>2022-11-02 01:10:00</td>\n",
              "      <td>2</td>\n",
              "      <td>21.54753</td>\n",
              "      <td>49.60780</td>\n",
              "      <td>1018.03003</td>\n",
              "      <td>234857</td>\n",
              "      <td>NaN</td>\n",
              "      <td>NaN</td>\n",
              "      <td>NaN</td>\n",
              "    </tr>\n",
              "    <tr>\n",
              "      <th>2</th>\n",
              "      <td>2022-11-02 01:20:00</td>\n",
              "      <td>3</td>\n",
              "      <td>20.93671</td>\n",
              "      <td>48.81311</td>\n",
              "      <td>1017.75000</td>\n",
              "      <td>238414</td>\n",
              "      <td>NaN</td>\n",
              "      <td>NaN</td>\n",
              "      <td>NaN</td>\n",
              "    </tr>\n",
              "    <tr>\n",
              "      <th>3</th>\n",
              "      <td>2022-11-02 01:30:00</td>\n",
              "      <td>4</td>\n",
              "      <td>19.51950</td>\n",
              "      <td>51.14481</td>\n",
              "      <td>1017.65997</td>\n",
              "      <td>255752</td>\n",
              "      <td>NaN</td>\n",
              "      <td>NaN</td>\n",
              "      <td>NaN</td>\n",
              "    </tr>\n",
              "    <tr>\n",
              "      <th>4</th>\n",
              "      <td>2022-11-02 01:40:00</td>\n",
              "      <td>5</td>\n",
              "      <td>19.29297</td>\n",
              "      <td>52.39877</td>\n",
              "      <td>1017.48999</td>\n",
              "      <td>244769</td>\n",
              "      <td>NaN</td>\n",
              "      <td>NaN</td>\n",
              "      <td>NaN</td>\n",
              "    </tr>\n",
              "    <tr>\n",
              "      <th>...</th>\n",
              "      <td>...</td>\n",
              "      <td>...</td>\n",
              "      <td>...</td>\n",
              "      <td>...</td>\n",
              "      <td>...</td>\n",
              "      <td>...</td>\n",
              "      <td>...</td>\n",
              "      <td>...</td>\n",
              "      <td>...</td>\n",
              "    </tr>\n",
              "    <tr>\n",
              "      <th>425731</th>\n",
              "      <td>2030-12-06 12:10:00</td>\n",
              "      <td>425732</td>\n",
              "      <td>24.41549</td>\n",
              "      <td>44.73242</td>\n",
              "      <td>1011.44000</td>\n",
              "      <td>227424</td>\n",
              "      <td>NaN</td>\n",
              "      <td>NaN</td>\n",
              "      <td>NaN</td>\n",
              "    </tr>\n",
              "    <tr>\n",
              "      <th>425732</th>\n",
              "      <td>2030-12-06 12:20:00</td>\n",
              "      <td>425733</td>\n",
              "      <td>24.61931</td>\n",
              "      <td>43.59546</td>\n",
              "      <td>1011.50000</td>\n",
              "      <td>229000</td>\n",
              "      <td>NaN</td>\n",
              "      <td>NaN</td>\n",
              "      <td>NaN</td>\n",
              "    </tr>\n",
              "    <tr>\n",
              "      <th>425733</th>\n",
              "      <td>2030-12-06 12:30:00</td>\n",
              "      <td>425734</td>\n",
              "      <td>24.64833</td>\n",
              "      <td>43.58143</td>\n",
              "      <td>1011.32001</td>\n",
              "      <td>225716</td>\n",
              "      <td>NaN</td>\n",
              "      <td>NaN</td>\n",
              "      <td>NaN</td>\n",
              "    </tr>\n",
              "    <tr>\n",
              "      <th>425734</th>\n",
              "      <td>2030-12-06 12:40:00</td>\n",
              "      <td>425735</td>\n",
              "      <td>24.75088</td>\n",
              "      <td>42.18751</td>\n",
              "      <td>1010.84998</td>\n",
              "      <td>233036</td>\n",
              "      <td>NaN</td>\n",
              "      <td>NaN</td>\n",
              "      <td>NaN</td>\n",
              "    </tr>\n",
              "    <tr>\n",
              "      <th>425735</th>\n",
              "      <td>2030-12-06 12:50:00</td>\n",
              "      <td>425736</td>\n",
              "      <td>24.63855</td>\n",
              "      <td>43.60923</td>\n",
              "      <td>1011.15002</td>\n",
              "      <td>225562</td>\n",
              "      <td>NaN</td>\n",
              "      <td>NaN</td>\n",
              "      <td>NaN</td>\n",
              "    </tr>\n",
              "  </tbody>\n",
              "</table>\n",
              "<p>425736 rows × 9 columns</p>\n",
              "</div>\n",
              "      <button class=\"colab-df-convert\" onclick=\"convertToInteractive('df-aa4bf2bc-bc87-4d3e-8758-327b7f01caed')\"\n",
              "              title=\"Convert this dataframe to an interactive table.\"\n",
              "              style=\"display:none;\">\n",
              "        \n",
              "  <svg xmlns=\"http://www.w3.org/2000/svg\" height=\"24px\"viewBox=\"0 0 24 24\"\n",
              "       width=\"24px\">\n",
              "    <path d=\"M0 0h24v24H0V0z\" fill=\"none\"/>\n",
              "    <path d=\"M18.56 5.44l.94 2.06.94-2.06 2.06-.94-2.06-.94-.94-2.06-.94 2.06-2.06.94zm-11 1L8.5 8.5l.94-2.06 2.06-.94-2.06-.94L8.5 2.5l-.94 2.06-2.06.94zm10 10l.94 2.06.94-2.06 2.06-.94-2.06-.94-.94-2.06-.94 2.06-2.06.94z\"/><path d=\"M17.41 7.96l-1.37-1.37c-.4-.4-.92-.59-1.43-.59-.52 0-1.04.2-1.43.59L10.3 9.45l-7.72 7.72c-.78.78-.78 2.05 0 2.83L4 21.41c.39.39.9.59 1.41.59.51 0 1.02-.2 1.41-.59l7.78-7.78 2.81-2.81c.8-.78.8-2.07 0-2.86zM5.41 20L4 18.59l7.72-7.72 1.47 1.35L5.41 20z\"/>\n",
              "  </svg>\n",
              "      </button>\n",
              "      \n",
              "  <style>\n",
              "    .colab-df-container {\n",
              "      display:flex;\n",
              "      flex-wrap:wrap;\n",
              "      gap: 12px;\n",
              "    }\n",
              "\n",
              "    .colab-df-convert {\n",
              "      background-color: #E8F0FE;\n",
              "      border: none;\n",
              "      border-radius: 50%;\n",
              "      cursor: pointer;\n",
              "      display: none;\n",
              "      fill: #1967D2;\n",
              "      height: 32px;\n",
              "      padding: 0 0 0 0;\n",
              "      width: 32px;\n",
              "    }\n",
              "\n",
              "    .colab-df-convert:hover {\n",
              "      background-color: #E2EBFA;\n",
              "      box-shadow: 0px 1px 2px rgba(60, 64, 67, 0.3), 0px 1px 3px 1px rgba(60, 64, 67, 0.15);\n",
              "      fill: #174EA6;\n",
              "    }\n",
              "\n",
              "    [theme=dark] .colab-df-convert {\n",
              "      background-color: #3B4455;\n",
              "      fill: #D2E3FC;\n",
              "    }\n",
              "\n",
              "    [theme=dark] .colab-df-convert:hover {\n",
              "      background-color: #434B5C;\n",
              "      box-shadow: 0px 1px 3px 1px rgba(0, 0, 0, 0.15);\n",
              "      filter: drop-shadow(0px 1px 2px rgba(0, 0, 0, 0.3));\n",
              "      fill: #FFFFFF;\n",
              "    }\n",
              "  </style>\n",
              "\n",
              "      <script>\n",
              "        const buttonEl =\n",
              "          document.querySelector('#df-aa4bf2bc-bc87-4d3e-8758-327b7f01caed button.colab-df-convert');\n",
              "        buttonEl.style.display =\n",
              "          google.colab.kernel.accessAllowed ? 'block' : 'none';\n",
              "\n",
              "        async function convertToInteractive(key) {\n",
              "          const element = document.querySelector('#df-aa4bf2bc-bc87-4d3e-8758-327b7f01caed');\n",
              "          const dataTable =\n",
              "            await google.colab.kernel.invokeFunction('convertToInteractive',\n",
              "                                                     [key], {});\n",
              "          if (!dataTable) return;\n",
              "\n",
              "          const docLinkHtml = 'Like what you see? Visit the ' +\n",
              "            '<a target=\"_blank\" href=https://colab.research.google.com/notebooks/data_table.ipynb>data table notebook</a>'\n",
              "            + ' to learn more about interactive tables.';\n",
              "          element.innerHTML = '';\n",
              "          dataTable['output_type'] = 'display_data';\n",
              "          await google.colab.output.renderOutput(dataTable, element);\n",
              "          const docLink = document.createElement('div');\n",
              "          docLink.innerHTML = docLinkHtml;\n",
              "          element.appendChild(docLink);\n",
              "        }\n",
              "      </script>\n",
              "    </div>\n",
              "  </div>\n",
              "  "
            ]
          },
          "metadata": {},
          "execution_count": 113
        }
      ],
      "source": [
        "df = pd.read_csv(\"feed.csv\")\n",
        "df"
      ]
    },
    {
      "cell_type": "markdown",
      "source": [
        "## Time Steps used to train model"
      ],
      "metadata": {
        "id": "goSk7A5w9D4Z"
      }
    },
    {
      "cell_type": "code",
      "execution_count": 115,
      "metadata": {
        "id": "-y2kdU5ht7M7",
        "colab": {
          "base_uri": "https://localhost:8080/",
          "height": 424
        },
        "outputId": "4c433599-8ee5-4047-a311-3450066d7f59"
      },
      "outputs": [
        {
          "output_type": "execute_result",
          "data": {
            "text/plain": [
              "                 created_at  entry_id  Temperature (degC)  Humidity (%)  \\\n",
              "0       2022-11-02 01:00:00         1            22.79945      52.08028   \n",
              "6       2022-11-02 02:00:00         7            19.17245      53.46775   \n",
              "12      2022-11-02 03:00:00        13            19.33430      52.61555   \n",
              "18      2022-11-02 04:00:00        19            19.81102      52.53099   \n",
              "24      2022-11-02 05:00:00        25            19.65832      53.53024   \n",
              "...                     ...       ...                 ...           ...   \n",
              "425706  2030-12-06 08:00:00    425707            25.43744      42.04075   \n",
              "425712  2030-12-06 09:00:00    425713            24.72564      44.19883   \n",
              "425718  2030-12-06 10:00:00    425719            24.74930      44.03909   \n",
              "425724  2030-12-06 11:00:00    425725            25.10709      41.24293   \n",
              "425730  2030-12-06 12:00:00    425731            24.43063      45.28231   \n",
              "\n",
              "        Pressure (hPa)  Air Quality (Ohm)  Unnamed: 6  Unnamed: 7  Unnamed: 8  \n",
              "0           1018.10999             170858         NaN         NaN         NaN  \n",
              "6           1017.32001             235359         NaN         NaN         NaN  \n",
              "12          1016.89001             229636         NaN         NaN         NaN  \n",
              "18          1016.73999             220595         NaN         NaN         NaN  \n",
              "24          1016.76001             224338         NaN         NaN         NaN  \n",
              "...                ...                ...         ...         ...         ...  \n",
              "425706      1013.31000             223579         NaN         NaN         NaN  \n",
              "425712      1013.46997             225408         NaN         NaN         NaN  \n",
              "425718      1012.89001             222675         NaN         NaN         NaN  \n",
              "425724      1011.96002             233860         NaN         NaN         NaN  \n",
              "425730      1011.65997             226180         NaN         NaN         NaN  \n",
              "\n",
              "[70956 rows x 9 columns]"
            ],
            "text/html": [
              "\n",
              "  <div id=\"df-69303b75-29db-4ad9-b5ef-922f18f79e5a\">\n",
              "    <div class=\"colab-df-container\">\n",
              "      <div>\n",
              "<style scoped>\n",
              "    .dataframe tbody tr th:only-of-type {\n",
              "        vertical-align: middle;\n",
              "    }\n",
              "\n",
              "    .dataframe tbody tr th {\n",
              "        vertical-align: top;\n",
              "    }\n",
              "\n",
              "    .dataframe thead th {\n",
              "        text-align: right;\n",
              "    }\n",
              "</style>\n",
              "<table border=\"1\" class=\"dataframe\">\n",
              "  <thead>\n",
              "    <tr style=\"text-align: right;\">\n",
              "      <th></th>\n",
              "      <th>created_at</th>\n",
              "      <th>entry_id</th>\n",
              "      <th>Temperature (degC)</th>\n",
              "      <th>Humidity (%)</th>\n",
              "      <th>Pressure (hPa)</th>\n",
              "      <th>Air Quality (Ohm)</th>\n",
              "      <th>Unnamed: 6</th>\n",
              "      <th>Unnamed: 7</th>\n",
              "      <th>Unnamed: 8</th>\n",
              "    </tr>\n",
              "  </thead>\n",
              "  <tbody>\n",
              "    <tr>\n",
              "      <th>0</th>\n",
              "      <td>2022-11-02 01:00:00</td>\n",
              "      <td>1</td>\n",
              "      <td>22.79945</td>\n",
              "      <td>52.08028</td>\n",
              "      <td>1018.10999</td>\n",
              "      <td>170858</td>\n",
              "      <td>NaN</td>\n",
              "      <td>NaN</td>\n",
              "      <td>NaN</td>\n",
              "    </tr>\n",
              "    <tr>\n",
              "      <th>6</th>\n",
              "      <td>2022-11-02 02:00:00</td>\n",
              "      <td>7</td>\n",
              "      <td>19.17245</td>\n",
              "      <td>53.46775</td>\n",
              "      <td>1017.32001</td>\n",
              "      <td>235359</td>\n",
              "      <td>NaN</td>\n",
              "      <td>NaN</td>\n",
              "      <td>NaN</td>\n",
              "    </tr>\n",
              "    <tr>\n",
              "      <th>12</th>\n",
              "      <td>2022-11-02 03:00:00</td>\n",
              "      <td>13</td>\n",
              "      <td>19.33430</td>\n",
              "      <td>52.61555</td>\n",
              "      <td>1016.89001</td>\n",
              "      <td>229636</td>\n",
              "      <td>NaN</td>\n",
              "      <td>NaN</td>\n",
              "      <td>NaN</td>\n",
              "    </tr>\n",
              "    <tr>\n",
              "      <th>18</th>\n",
              "      <td>2022-11-02 04:00:00</td>\n",
              "      <td>19</td>\n",
              "      <td>19.81102</td>\n",
              "      <td>52.53099</td>\n",
              "      <td>1016.73999</td>\n",
              "      <td>220595</td>\n",
              "      <td>NaN</td>\n",
              "      <td>NaN</td>\n",
              "      <td>NaN</td>\n",
              "    </tr>\n",
              "    <tr>\n",
              "      <th>24</th>\n",
              "      <td>2022-11-02 05:00:00</td>\n",
              "      <td>25</td>\n",
              "      <td>19.65832</td>\n",
              "      <td>53.53024</td>\n",
              "      <td>1016.76001</td>\n",
              "      <td>224338</td>\n",
              "      <td>NaN</td>\n",
              "      <td>NaN</td>\n",
              "      <td>NaN</td>\n",
              "    </tr>\n",
              "    <tr>\n",
              "      <th>...</th>\n",
              "      <td>...</td>\n",
              "      <td>...</td>\n",
              "      <td>...</td>\n",
              "      <td>...</td>\n",
              "      <td>...</td>\n",
              "      <td>...</td>\n",
              "      <td>...</td>\n",
              "      <td>...</td>\n",
              "      <td>...</td>\n",
              "    </tr>\n",
              "    <tr>\n",
              "      <th>425706</th>\n",
              "      <td>2030-12-06 08:00:00</td>\n",
              "      <td>425707</td>\n",
              "      <td>25.43744</td>\n",
              "      <td>42.04075</td>\n",
              "      <td>1013.31000</td>\n",
              "      <td>223579</td>\n",
              "      <td>NaN</td>\n",
              "      <td>NaN</td>\n",
              "      <td>NaN</td>\n",
              "    </tr>\n",
              "    <tr>\n",
              "      <th>425712</th>\n",
              "      <td>2030-12-06 09:00:00</td>\n",
              "      <td>425713</td>\n",
              "      <td>24.72564</td>\n",
              "      <td>44.19883</td>\n",
              "      <td>1013.46997</td>\n",
              "      <td>225408</td>\n",
              "      <td>NaN</td>\n",
              "      <td>NaN</td>\n",
              "      <td>NaN</td>\n",
              "    </tr>\n",
              "    <tr>\n",
              "      <th>425718</th>\n",
              "      <td>2030-12-06 10:00:00</td>\n",
              "      <td>425719</td>\n",
              "      <td>24.74930</td>\n",
              "      <td>44.03909</td>\n",
              "      <td>1012.89001</td>\n",
              "      <td>222675</td>\n",
              "      <td>NaN</td>\n",
              "      <td>NaN</td>\n",
              "      <td>NaN</td>\n",
              "    </tr>\n",
              "    <tr>\n",
              "      <th>425724</th>\n",
              "      <td>2030-12-06 11:00:00</td>\n",
              "      <td>425725</td>\n",
              "      <td>25.10709</td>\n",
              "      <td>41.24293</td>\n",
              "      <td>1011.96002</td>\n",
              "      <td>233860</td>\n",
              "      <td>NaN</td>\n",
              "      <td>NaN</td>\n",
              "      <td>NaN</td>\n",
              "    </tr>\n",
              "    <tr>\n",
              "      <th>425730</th>\n",
              "      <td>2030-12-06 12:00:00</td>\n",
              "      <td>425731</td>\n",
              "      <td>24.43063</td>\n",
              "      <td>45.28231</td>\n",
              "      <td>1011.65997</td>\n",
              "      <td>226180</td>\n",
              "      <td>NaN</td>\n",
              "      <td>NaN</td>\n",
              "      <td>NaN</td>\n",
              "    </tr>\n",
              "  </tbody>\n",
              "</table>\n",
              "<p>70956 rows × 9 columns</p>\n",
              "</div>\n",
              "      <button class=\"colab-df-convert\" onclick=\"convertToInteractive('df-69303b75-29db-4ad9-b5ef-922f18f79e5a')\"\n",
              "              title=\"Convert this dataframe to an interactive table.\"\n",
              "              style=\"display:none;\">\n",
              "        \n",
              "  <svg xmlns=\"http://www.w3.org/2000/svg\" height=\"24px\"viewBox=\"0 0 24 24\"\n",
              "       width=\"24px\">\n",
              "    <path d=\"M0 0h24v24H0V0z\" fill=\"none\"/>\n",
              "    <path d=\"M18.56 5.44l.94 2.06.94-2.06 2.06-.94-2.06-.94-.94-2.06-.94 2.06-2.06.94zm-11 1L8.5 8.5l.94-2.06 2.06-.94-2.06-.94L8.5 2.5l-.94 2.06-2.06.94zm10 10l.94 2.06.94-2.06 2.06-.94-2.06-.94-.94-2.06-.94 2.06-2.06.94z\"/><path d=\"M17.41 7.96l-1.37-1.37c-.4-.4-.92-.59-1.43-.59-.52 0-1.04.2-1.43.59L10.3 9.45l-7.72 7.72c-.78.78-.78 2.05 0 2.83L4 21.41c.39.39.9.59 1.41.59.51 0 1.02-.2 1.41-.59l7.78-7.78 2.81-2.81c.8-.78.8-2.07 0-2.86zM5.41 20L4 18.59l7.72-7.72 1.47 1.35L5.41 20z\"/>\n",
              "  </svg>\n",
              "      </button>\n",
              "      \n",
              "  <style>\n",
              "    .colab-df-container {\n",
              "      display:flex;\n",
              "      flex-wrap:wrap;\n",
              "      gap: 12px;\n",
              "    }\n",
              "\n",
              "    .colab-df-convert {\n",
              "      background-color: #E8F0FE;\n",
              "      border: none;\n",
              "      border-radius: 50%;\n",
              "      cursor: pointer;\n",
              "      display: none;\n",
              "      fill: #1967D2;\n",
              "      height: 32px;\n",
              "      padding: 0 0 0 0;\n",
              "      width: 32px;\n",
              "    }\n",
              "\n",
              "    .colab-df-convert:hover {\n",
              "      background-color: #E2EBFA;\n",
              "      box-shadow: 0px 1px 2px rgba(60, 64, 67, 0.3), 0px 1px 3px 1px rgba(60, 64, 67, 0.15);\n",
              "      fill: #174EA6;\n",
              "    }\n",
              "\n",
              "    [theme=dark] .colab-df-convert {\n",
              "      background-color: #3B4455;\n",
              "      fill: #D2E3FC;\n",
              "    }\n",
              "\n",
              "    [theme=dark] .colab-df-convert:hover {\n",
              "      background-color: #434B5C;\n",
              "      box-shadow: 0px 1px 3px 1px rgba(0, 0, 0, 0.15);\n",
              "      filter: drop-shadow(0px 1px 2px rgba(0, 0, 0, 0.3));\n",
              "      fill: #FFFFFF;\n",
              "    }\n",
              "  </style>\n",
              "\n",
              "      <script>\n",
              "        const buttonEl =\n",
              "          document.querySelector('#df-69303b75-29db-4ad9-b5ef-922f18f79e5a button.colab-df-convert');\n",
              "        buttonEl.style.display =\n",
              "          google.colab.kernel.accessAllowed ? 'block' : 'none';\n",
              "\n",
              "        async function convertToInteractive(key) {\n",
              "          const element = document.querySelector('#df-69303b75-29db-4ad9-b5ef-922f18f79e5a');\n",
              "          const dataTable =\n",
              "            await google.colab.kernel.invokeFunction('convertToInteractive',\n",
              "                                                     [key], {});\n",
              "          if (!dataTable) return;\n",
              "\n",
              "          const docLinkHtml = 'Like what you see? Visit the ' +\n",
              "            '<a target=\"_blank\" href=https://colab.research.google.com/notebooks/data_table.ipynb>data table notebook</a>'\n",
              "            + ' to learn more about interactive tables.';\n",
              "          element.innerHTML = '';\n",
              "          dataTable['output_type'] = 'display_data';\n",
              "          await google.colab.output.renderOutput(dataTable, element);\n",
              "          const docLink = document.createElement('div');\n",
              "          docLink.innerHTML = docLinkHtml;\n",
              "          element.appendChild(docLink);\n",
              "        }\n",
              "      </script>\n",
              "    </div>\n",
              "  </div>\n",
              "  "
            ]
          },
          "metadata": {},
          "execution_count": 115
        }
      ],
      "source": [
        "df = df[::6]\n",
        "df"
      ]
    },
    {
      "cell_type": "code",
      "execution_count": 115,
      "metadata": {
        "id": "DP-DLrWttN_W"
      },
      "outputs": [],
      "source": []
    },
    {
      "cell_type": "code",
      "execution_count": 116,
      "metadata": {
        "id": "JgufRDaht9-A",
        "colab": {
          "base_uri": "https://localhost:8080/",
          "height": 896
        },
        "outputId": "69387e17-cfc9-4d58-9946-713cc9e98f6a"
      },
      "outputs": [
        {
          "output_type": "execute_result",
          "data": {
            "text/plain": [
              "                              created_at  entry_id  Temperature (degC)  \\\n",
              "created_at                                                               \n",
              "2022-11-02 01:00:00  2022-11-02 01:00:00         1            22.79945   \n",
              "2022-11-02 02:00:00  2022-11-02 02:00:00         7            19.17245   \n",
              "2022-11-02 03:00:00  2022-11-02 03:00:00        13            19.33430   \n",
              "2022-11-02 04:00:00  2022-11-02 04:00:00        19            19.81102   \n",
              "2022-11-02 05:00:00  2022-11-02 05:00:00        25            19.65832   \n",
              "2022-11-02 06:00:00  2022-11-02 06:00:00        31            19.96593   \n",
              "2022-11-02 07:00:00  2022-11-02 07:00:00        37            25.91166   \n",
              "2022-11-02 08:00:00  2022-11-02 08:00:00        43            24.30190   \n",
              "2022-11-02 09:00:00  2022-11-02 09:00:00        49            25.29325   \n",
              "2022-11-02 10:00:00  2022-11-02 10:00:00        55            27.81930   \n",
              "2022-11-02 11:00:00  2022-11-02 11:00:00        61            28.65417   \n",
              "2022-11-02 12:00:00  2022-11-02 12:00:00        67            29.79923   \n",
              "2022-11-02 13:00:00  2022-11-02 13:00:00        73            28.93279   \n",
              "2022-11-02 14:00:00  2022-11-02 14:00:00        79            29.32310   \n",
              "2022-11-02 15:00:00  2022-11-02 15:00:00        85            28.45413   \n",
              "2022-11-02 16:00:00  2022-11-02 16:00:00        91            28.07045   \n",
              "2022-11-02 17:00:00  2022-11-02 17:00:00        97            28.01176   \n",
              "2022-11-02 18:00:00  2022-11-02 18:00:00       103            27.03933   \n",
              "2022-11-02 19:00:00  2022-11-02 19:00:00       109            25.81006   \n",
              "2022-11-02 20:00:00  2022-11-02 20:00:00       115            25.54850   \n",
              "2022-11-02 21:00:00  2022-11-02 21:00:00       121            24.93892   \n",
              "2022-11-02 22:00:00  2022-11-02 22:00:00       127            24.32304   \n",
              "2022-11-02 23:00:00  2022-11-02 23:00:00       133            24.70671   \n",
              "2022-11-03 00:00:00  2022-11-03 00:00:00       139            25.27211   \n",
              "2022-11-03 01:00:00  2022-11-03 01:00:00       145            24.75088   \n",
              "2022-11-03 02:00:00  2022-11-03 02:00:00       151            19.29297   \n",
              "\n",
              "                     Humidity (%)  Pressure (hPa)  Air Quality (Ohm)  \\\n",
              "created_at                                                             \n",
              "2022-11-02 01:00:00      52.08028      1018.10999             170858   \n",
              "2022-11-02 02:00:00      53.46775      1017.32001             235359   \n",
              "2022-11-02 03:00:00      52.61555      1016.89001             229636   \n",
              "2022-11-02 04:00:00      52.53099      1016.73999             220595   \n",
              "2022-11-02 05:00:00      53.53024      1016.76001             224338   \n",
              "2022-11-02 06:00:00      53.27819      1017.02002             224490   \n",
              "2022-11-02 07:00:00      40.13583      1017.42999             197292   \n",
              "2022-11-02 08:00:00      43.46661      1017.22998             224795   \n",
              "2022-11-02 09:00:00      42.14506      1017.09003             218843   \n",
              "2022-11-02 10:00:00      37.22918      1016.90997             213748   \n",
              "2022-11-02 11:00:00      36.11098      1016.71997             214442   \n",
              "2022-11-02 12:00:00      31.82791      1016.03998             224186   \n",
              "2022-11-02 13:00:00      32.94163      1015.46997             228052   \n",
              "2022-11-02 14:00:00      30.87291      1015.07001             234857   \n",
              "2022-11-02 15:00:00      35.41993      1014.32001             224643   \n",
              "2022-11-02 16:00:00      36.75267      1013.81000             224948   \n",
              "2022-11-02 17:00:00      36.68534      1013.46002             225716   \n",
              "2022-11-02 18:00:00      38.43727      1013.28998             225871   \n",
              "2022-11-02 19:00:00      41.64111      1013.01001             214025   \n",
              "2022-11-02 20:00:00      41.80663      1013.41998             219133   \n",
              "2022-11-02 21:00:00      43.18134      1013.28998             225408   \n",
              "2022-11-02 22:00:00      45.84866      1013.45001             221334   \n",
              "2022-11-02 23:00:00      43.94717      1012.63000             219569   \n",
              "2022-11-03 00:00:00      41.55256      1011.65002             225716   \n",
              "2022-11-03 01:00:00      42.18751      1010.84998             233036   \n",
              "2022-11-03 02:00:00      52.39877      1017.48999             244769   \n",
              "\n",
              "                     Unnamed: 6  Unnamed: 7  Unnamed: 8  \n",
              "created_at                                               \n",
              "2022-11-02 01:00:00         NaN         NaN         NaN  \n",
              "2022-11-02 02:00:00         NaN         NaN         NaN  \n",
              "2022-11-02 03:00:00         NaN         NaN         NaN  \n",
              "2022-11-02 04:00:00         NaN         NaN         NaN  \n",
              "2022-11-02 05:00:00         NaN         NaN         NaN  \n",
              "2022-11-02 06:00:00         NaN         NaN         NaN  \n",
              "2022-11-02 07:00:00         NaN         NaN         NaN  \n",
              "2022-11-02 08:00:00         NaN         NaN         NaN  \n",
              "2022-11-02 09:00:00         NaN         NaN         NaN  \n",
              "2022-11-02 10:00:00         NaN         NaN         NaN  \n",
              "2022-11-02 11:00:00         NaN         NaN         NaN  \n",
              "2022-11-02 12:00:00         NaN         NaN         NaN  \n",
              "2022-11-02 13:00:00         NaN         NaN         NaN  \n",
              "2022-11-02 14:00:00         NaN         NaN         NaN  \n",
              "2022-11-02 15:00:00         NaN         NaN         NaN  \n",
              "2022-11-02 16:00:00         NaN         NaN         NaN  \n",
              "2022-11-02 17:00:00         NaN         NaN         NaN  \n",
              "2022-11-02 18:00:00         NaN         NaN         NaN  \n",
              "2022-11-02 19:00:00         NaN         NaN         NaN  \n",
              "2022-11-02 20:00:00         NaN         NaN         NaN  \n",
              "2022-11-02 21:00:00         NaN         NaN         NaN  \n",
              "2022-11-02 22:00:00         NaN         NaN         NaN  \n",
              "2022-11-02 23:00:00         NaN         NaN         NaN  \n",
              "2022-11-03 00:00:00         NaN         NaN         NaN  \n",
              "2022-11-03 01:00:00         NaN         NaN         NaN  \n",
              "2022-11-03 02:00:00         NaN         NaN         NaN  "
            ],
            "text/html": [
              "\n",
              "  <div id=\"df-2ffee788-5ca4-4866-b0c1-c17bf36c14e8\">\n",
              "    <div class=\"colab-df-container\">\n",
              "      <div>\n",
              "<style scoped>\n",
              "    .dataframe tbody tr th:only-of-type {\n",
              "        vertical-align: middle;\n",
              "    }\n",
              "\n",
              "    .dataframe tbody tr th {\n",
              "        vertical-align: top;\n",
              "    }\n",
              "\n",
              "    .dataframe thead th {\n",
              "        text-align: right;\n",
              "    }\n",
              "</style>\n",
              "<table border=\"1\" class=\"dataframe\">\n",
              "  <thead>\n",
              "    <tr style=\"text-align: right;\">\n",
              "      <th></th>\n",
              "      <th>created_at</th>\n",
              "      <th>entry_id</th>\n",
              "      <th>Temperature (degC)</th>\n",
              "      <th>Humidity (%)</th>\n",
              "      <th>Pressure (hPa)</th>\n",
              "      <th>Air Quality (Ohm)</th>\n",
              "      <th>Unnamed: 6</th>\n",
              "      <th>Unnamed: 7</th>\n",
              "      <th>Unnamed: 8</th>\n",
              "    </tr>\n",
              "    <tr>\n",
              "      <th>created_at</th>\n",
              "      <th></th>\n",
              "      <th></th>\n",
              "      <th></th>\n",
              "      <th></th>\n",
              "      <th></th>\n",
              "      <th></th>\n",
              "      <th></th>\n",
              "      <th></th>\n",
              "      <th></th>\n",
              "    </tr>\n",
              "  </thead>\n",
              "  <tbody>\n",
              "    <tr>\n",
              "      <th>2022-11-02 01:00:00</th>\n",
              "      <td>2022-11-02 01:00:00</td>\n",
              "      <td>1</td>\n",
              "      <td>22.79945</td>\n",
              "      <td>52.08028</td>\n",
              "      <td>1018.10999</td>\n",
              "      <td>170858</td>\n",
              "      <td>NaN</td>\n",
              "      <td>NaN</td>\n",
              "      <td>NaN</td>\n",
              "    </tr>\n",
              "    <tr>\n",
              "      <th>2022-11-02 02:00:00</th>\n",
              "      <td>2022-11-02 02:00:00</td>\n",
              "      <td>7</td>\n",
              "      <td>19.17245</td>\n",
              "      <td>53.46775</td>\n",
              "      <td>1017.32001</td>\n",
              "      <td>235359</td>\n",
              "      <td>NaN</td>\n",
              "      <td>NaN</td>\n",
              "      <td>NaN</td>\n",
              "    </tr>\n",
              "    <tr>\n",
              "      <th>2022-11-02 03:00:00</th>\n",
              "      <td>2022-11-02 03:00:00</td>\n",
              "      <td>13</td>\n",
              "      <td>19.33430</td>\n",
              "      <td>52.61555</td>\n",
              "      <td>1016.89001</td>\n",
              "      <td>229636</td>\n",
              "      <td>NaN</td>\n",
              "      <td>NaN</td>\n",
              "      <td>NaN</td>\n",
              "    </tr>\n",
              "    <tr>\n",
              "      <th>2022-11-02 04:00:00</th>\n",
              "      <td>2022-11-02 04:00:00</td>\n",
              "      <td>19</td>\n",
              "      <td>19.81102</td>\n",
              "      <td>52.53099</td>\n",
              "      <td>1016.73999</td>\n",
              "      <td>220595</td>\n",
              "      <td>NaN</td>\n",
              "      <td>NaN</td>\n",
              "      <td>NaN</td>\n",
              "    </tr>\n",
              "    <tr>\n",
              "      <th>2022-11-02 05:00:00</th>\n",
              "      <td>2022-11-02 05:00:00</td>\n",
              "      <td>25</td>\n",
              "      <td>19.65832</td>\n",
              "      <td>53.53024</td>\n",
              "      <td>1016.76001</td>\n",
              "      <td>224338</td>\n",
              "      <td>NaN</td>\n",
              "      <td>NaN</td>\n",
              "      <td>NaN</td>\n",
              "    </tr>\n",
              "    <tr>\n",
              "      <th>2022-11-02 06:00:00</th>\n",
              "      <td>2022-11-02 06:00:00</td>\n",
              "      <td>31</td>\n",
              "      <td>19.96593</td>\n",
              "      <td>53.27819</td>\n",
              "      <td>1017.02002</td>\n",
              "      <td>224490</td>\n",
              "      <td>NaN</td>\n",
              "      <td>NaN</td>\n",
              "      <td>NaN</td>\n",
              "    </tr>\n",
              "    <tr>\n",
              "      <th>2022-11-02 07:00:00</th>\n",
              "      <td>2022-11-02 07:00:00</td>\n",
              "      <td>37</td>\n",
              "      <td>25.91166</td>\n",
              "      <td>40.13583</td>\n",
              "      <td>1017.42999</td>\n",
              "      <td>197292</td>\n",
              "      <td>NaN</td>\n",
              "      <td>NaN</td>\n",
              "      <td>NaN</td>\n",
              "    </tr>\n",
              "    <tr>\n",
              "      <th>2022-11-02 08:00:00</th>\n",
              "      <td>2022-11-02 08:00:00</td>\n",
              "      <td>43</td>\n",
              "      <td>24.30190</td>\n",
              "      <td>43.46661</td>\n",
              "      <td>1017.22998</td>\n",
              "      <td>224795</td>\n",
              "      <td>NaN</td>\n",
              "      <td>NaN</td>\n",
              "      <td>NaN</td>\n",
              "    </tr>\n",
              "    <tr>\n",
              "      <th>2022-11-02 09:00:00</th>\n",
              "      <td>2022-11-02 09:00:00</td>\n",
              "      <td>49</td>\n",
              "      <td>25.29325</td>\n",
              "      <td>42.14506</td>\n",
              "      <td>1017.09003</td>\n",
              "      <td>218843</td>\n",
              "      <td>NaN</td>\n",
              "      <td>NaN</td>\n",
              "      <td>NaN</td>\n",
              "    </tr>\n",
              "    <tr>\n",
              "      <th>2022-11-02 10:00:00</th>\n",
              "      <td>2022-11-02 10:00:00</td>\n",
              "      <td>55</td>\n",
              "      <td>27.81930</td>\n",
              "      <td>37.22918</td>\n",
              "      <td>1016.90997</td>\n",
              "      <td>213748</td>\n",
              "      <td>NaN</td>\n",
              "      <td>NaN</td>\n",
              "      <td>NaN</td>\n",
              "    </tr>\n",
              "    <tr>\n",
              "      <th>2022-11-02 11:00:00</th>\n",
              "      <td>2022-11-02 11:00:00</td>\n",
              "      <td>61</td>\n",
              "      <td>28.65417</td>\n",
              "      <td>36.11098</td>\n",
              "      <td>1016.71997</td>\n",
              "      <td>214442</td>\n",
              "      <td>NaN</td>\n",
              "      <td>NaN</td>\n",
              "      <td>NaN</td>\n",
              "    </tr>\n",
              "    <tr>\n",
              "      <th>2022-11-02 12:00:00</th>\n",
              "      <td>2022-11-02 12:00:00</td>\n",
              "      <td>67</td>\n",
              "      <td>29.79923</td>\n",
              "      <td>31.82791</td>\n",
              "      <td>1016.03998</td>\n",
              "      <td>224186</td>\n",
              "      <td>NaN</td>\n",
              "      <td>NaN</td>\n",
              "      <td>NaN</td>\n",
              "    </tr>\n",
              "    <tr>\n",
              "      <th>2022-11-02 13:00:00</th>\n",
              "      <td>2022-11-02 13:00:00</td>\n",
              "      <td>73</td>\n",
              "      <td>28.93279</td>\n",
              "      <td>32.94163</td>\n",
              "      <td>1015.46997</td>\n",
              "      <td>228052</td>\n",
              "      <td>NaN</td>\n",
              "      <td>NaN</td>\n",
              "      <td>NaN</td>\n",
              "    </tr>\n",
              "    <tr>\n",
              "      <th>2022-11-02 14:00:00</th>\n",
              "      <td>2022-11-02 14:00:00</td>\n",
              "      <td>79</td>\n",
              "      <td>29.32310</td>\n",
              "      <td>30.87291</td>\n",
              "      <td>1015.07001</td>\n",
              "      <td>234857</td>\n",
              "      <td>NaN</td>\n",
              "      <td>NaN</td>\n",
              "      <td>NaN</td>\n",
              "    </tr>\n",
              "    <tr>\n",
              "      <th>2022-11-02 15:00:00</th>\n",
              "      <td>2022-11-02 15:00:00</td>\n",
              "      <td>85</td>\n",
              "      <td>28.45413</td>\n",
              "      <td>35.41993</td>\n",
              "      <td>1014.32001</td>\n",
              "      <td>224643</td>\n",
              "      <td>NaN</td>\n",
              "      <td>NaN</td>\n",
              "      <td>NaN</td>\n",
              "    </tr>\n",
              "    <tr>\n",
              "      <th>2022-11-02 16:00:00</th>\n",
              "      <td>2022-11-02 16:00:00</td>\n",
              "      <td>91</td>\n",
              "      <td>28.07045</td>\n",
              "      <td>36.75267</td>\n",
              "      <td>1013.81000</td>\n",
              "      <td>224948</td>\n",
              "      <td>NaN</td>\n",
              "      <td>NaN</td>\n",
              "      <td>NaN</td>\n",
              "    </tr>\n",
              "    <tr>\n",
              "      <th>2022-11-02 17:00:00</th>\n",
              "      <td>2022-11-02 17:00:00</td>\n",
              "      <td>97</td>\n",
              "      <td>28.01176</td>\n",
              "      <td>36.68534</td>\n",
              "      <td>1013.46002</td>\n",
              "      <td>225716</td>\n",
              "      <td>NaN</td>\n",
              "      <td>NaN</td>\n",
              "      <td>NaN</td>\n",
              "    </tr>\n",
              "    <tr>\n",
              "      <th>2022-11-02 18:00:00</th>\n",
              "      <td>2022-11-02 18:00:00</td>\n",
              "      <td>103</td>\n",
              "      <td>27.03933</td>\n",
              "      <td>38.43727</td>\n",
              "      <td>1013.28998</td>\n",
              "      <td>225871</td>\n",
              "      <td>NaN</td>\n",
              "      <td>NaN</td>\n",
              "      <td>NaN</td>\n",
              "    </tr>\n",
              "    <tr>\n",
              "      <th>2022-11-02 19:00:00</th>\n",
              "      <td>2022-11-02 19:00:00</td>\n",
              "      <td>109</td>\n",
              "      <td>25.81006</td>\n",
              "      <td>41.64111</td>\n",
              "      <td>1013.01001</td>\n",
              "      <td>214025</td>\n",
              "      <td>NaN</td>\n",
              "      <td>NaN</td>\n",
              "      <td>NaN</td>\n",
              "    </tr>\n",
              "    <tr>\n",
              "      <th>2022-11-02 20:00:00</th>\n",
              "      <td>2022-11-02 20:00:00</td>\n",
              "      <td>115</td>\n",
              "      <td>25.54850</td>\n",
              "      <td>41.80663</td>\n",
              "      <td>1013.41998</td>\n",
              "      <td>219133</td>\n",
              "      <td>NaN</td>\n",
              "      <td>NaN</td>\n",
              "      <td>NaN</td>\n",
              "    </tr>\n",
              "    <tr>\n",
              "      <th>2022-11-02 21:00:00</th>\n",
              "      <td>2022-11-02 21:00:00</td>\n",
              "      <td>121</td>\n",
              "      <td>24.93892</td>\n",
              "      <td>43.18134</td>\n",
              "      <td>1013.28998</td>\n",
              "      <td>225408</td>\n",
              "      <td>NaN</td>\n",
              "      <td>NaN</td>\n",
              "      <td>NaN</td>\n",
              "    </tr>\n",
              "    <tr>\n",
              "      <th>2022-11-02 22:00:00</th>\n",
              "      <td>2022-11-02 22:00:00</td>\n",
              "      <td>127</td>\n",
              "      <td>24.32304</td>\n",
              "      <td>45.84866</td>\n",
              "      <td>1013.45001</td>\n",
              "      <td>221334</td>\n",
              "      <td>NaN</td>\n",
              "      <td>NaN</td>\n",
              "      <td>NaN</td>\n",
              "    </tr>\n",
              "    <tr>\n",
              "      <th>2022-11-02 23:00:00</th>\n",
              "      <td>2022-11-02 23:00:00</td>\n",
              "      <td>133</td>\n",
              "      <td>24.70671</td>\n",
              "      <td>43.94717</td>\n",
              "      <td>1012.63000</td>\n",
              "      <td>219569</td>\n",
              "      <td>NaN</td>\n",
              "      <td>NaN</td>\n",
              "      <td>NaN</td>\n",
              "    </tr>\n",
              "    <tr>\n",
              "      <th>2022-11-03 00:00:00</th>\n",
              "      <td>2022-11-03 00:00:00</td>\n",
              "      <td>139</td>\n",
              "      <td>25.27211</td>\n",
              "      <td>41.55256</td>\n",
              "      <td>1011.65002</td>\n",
              "      <td>225716</td>\n",
              "      <td>NaN</td>\n",
              "      <td>NaN</td>\n",
              "      <td>NaN</td>\n",
              "    </tr>\n",
              "    <tr>\n",
              "      <th>2022-11-03 01:00:00</th>\n",
              "      <td>2022-11-03 01:00:00</td>\n",
              "      <td>145</td>\n",
              "      <td>24.75088</td>\n",
              "      <td>42.18751</td>\n",
              "      <td>1010.84998</td>\n",
              "      <td>233036</td>\n",
              "      <td>NaN</td>\n",
              "      <td>NaN</td>\n",
              "      <td>NaN</td>\n",
              "    </tr>\n",
              "    <tr>\n",
              "      <th>2022-11-03 02:00:00</th>\n",
              "      <td>2022-11-03 02:00:00</td>\n",
              "      <td>151</td>\n",
              "      <td>19.29297</td>\n",
              "      <td>52.39877</td>\n",
              "      <td>1017.48999</td>\n",
              "      <td>244769</td>\n",
              "      <td>NaN</td>\n",
              "      <td>NaN</td>\n",
              "      <td>NaN</td>\n",
              "    </tr>\n",
              "  </tbody>\n",
              "</table>\n",
              "</div>\n",
              "      <button class=\"colab-df-convert\" onclick=\"convertToInteractive('df-2ffee788-5ca4-4866-b0c1-c17bf36c14e8')\"\n",
              "              title=\"Convert this dataframe to an interactive table.\"\n",
              "              style=\"display:none;\">\n",
              "        \n",
              "  <svg xmlns=\"http://www.w3.org/2000/svg\" height=\"24px\"viewBox=\"0 0 24 24\"\n",
              "       width=\"24px\">\n",
              "    <path d=\"M0 0h24v24H0V0z\" fill=\"none\"/>\n",
              "    <path d=\"M18.56 5.44l.94 2.06.94-2.06 2.06-.94-2.06-.94-.94-2.06-.94 2.06-2.06.94zm-11 1L8.5 8.5l.94-2.06 2.06-.94-2.06-.94L8.5 2.5l-.94 2.06-2.06.94zm10 10l.94 2.06.94-2.06 2.06-.94-2.06-.94-.94-2.06-.94 2.06-2.06.94z\"/><path d=\"M17.41 7.96l-1.37-1.37c-.4-.4-.92-.59-1.43-.59-.52 0-1.04.2-1.43.59L10.3 9.45l-7.72 7.72c-.78.78-.78 2.05 0 2.83L4 21.41c.39.39.9.59 1.41.59.51 0 1.02-.2 1.41-.59l7.78-7.78 2.81-2.81c.8-.78.8-2.07 0-2.86zM5.41 20L4 18.59l7.72-7.72 1.47 1.35L5.41 20z\"/>\n",
              "  </svg>\n",
              "      </button>\n",
              "      \n",
              "  <style>\n",
              "    .colab-df-container {\n",
              "      display:flex;\n",
              "      flex-wrap:wrap;\n",
              "      gap: 12px;\n",
              "    }\n",
              "\n",
              "    .colab-df-convert {\n",
              "      background-color: #E8F0FE;\n",
              "      border: none;\n",
              "      border-radius: 50%;\n",
              "      cursor: pointer;\n",
              "      display: none;\n",
              "      fill: #1967D2;\n",
              "      height: 32px;\n",
              "      padding: 0 0 0 0;\n",
              "      width: 32px;\n",
              "    }\n",
              "\n",
              "    .colab-df-convert:hover {\n",
              "      background-color: #E2EBFA;\n",
              "      box-shadow: 0px 1px 2px rgba(60, 64, 67, 0.3), 0px 1px 3px 1px rgba(60, 64, 67, 0.15);\n",
              "      fill: #174EA6;\n",
              "    }\n",
              "\n",
              "    [theme=dark] .colab-df-convert {\n",
              "      background-color: #3B4455;\n",
              "      fill: #D2E3FC;\n",
              "    }\n",
              "\n",
              "    [theme=dark] .colab-df-convert:hover {\n",
              "      background-color: #434B5C;\n",
              "      box-shadow: 0px 1px 3px 1px rgba(0, 0, 0, 0.15);\n",
              "      filter: drop-shadow(0px 1px 2px rgba(0, 0, 0, 0.3));\n",
              "      fill: #FFFFFF;\n",
              "    }\n",
              "  </style>\n",
              "\n",
              "      <script>\n",
              "        const buttonEl =\n",
              "          document.querySelector('#df-2ffee788-5ca4-4866-b0c1-c17bf36c14e8 button.colab-df-convert');\n",
              "        buttonEl.style.display =\n",
              "          google.colab.kernel.accessAllowed ? 'block' : 'none';\n",
              "\n",
              "        async function convertToInteractive(key) {\n",
              "          const element = document.querySelector('#df-2ffee788-5ca4-4866-b0c1-c17bf36c14e8');\n",
              "          const dataTable =\n",
              "            await google.colab.kernel.invokeFunction('convertToInteractive',\n",
              "                                                     [key], {});\n",
              "          if (!dataTable) return;\n",
              "\n",
              "          const docLinkHtml = 'Like what you see? Visit the ' +\n",
              "            '<a target=\"_blank\" href=https://colab.research.google.com/notebooks/data_table.ipynb>data table notebook</a>'\n",
              "            + ' to learn more about interactive tables.';\n",
              "          element.innerHTML = '';\n",
              "          dataTable['output_type'] = 'display_data';\n",
              "          await google.colab.output.renderOutput(dataTable, element);\n",
              "          const docLink = document.createElement('div');\n",
              "          docLink.innerHTML = docLinkHtml;\n",
              "          element.appendChild(docLink);\n",
              "        }\n",
              "      </script>\n",
              "    </div>\n",
              "  </div>\n",
              "  "
            ]
          },
          "metadata": {},
          "execution_count": 116
        }
      ],
      "source": [
        "df.index = pd.to_datetime(df['created_at'], format='%Y.%m.%d %H:%M:%S')\n",
        "df[:26]"
      ]
    },
    {
      "cell_type": "code",
      "execution_count": 117,
      "metadata": {
        "id": "z_S9cjucuWh-",
        "colab": {
          "base_uri": "https://localhost:8080/"
        },
        "outputId": "67e8b4e9-6876-45b3-d81c-7667ff40119c"
      },
      "outputs": [
        {
          "output_type": "stream",
          "name": "stderr",
          "text": [
            "/usr/local/lib/python3.7/dist-packages/ipykernel_launcher.py:6: SettingWithCopyWarning: \n",
            "A value is trying to be set on a copy of a slice from a DataFrame.\n",
            "Try using .loc[row_indexer,col_indexer] = value instead\n",
            "\n",
            "See the caveats in the documentation: https://pandas.pydata.org/pandas-docs/stable/user_guide/indexing.html#returning-a-view-versus-a-copy\n",
            "  \n",
            "/usr/local/lib/python3.7/dist-packages/ipykernel_launcher.py:7: SettingWithCopyWarning: \n",
            "A value is trying to be set on a copy of a slice from a DataFrame.\n",
            "Try using .loc[row_indexer,col_indexer] = value instead\n",
            "\n",
            "See the caveats in the documentation: https://pandas.pydata.org/pandas-docs/stable/user_guide/indexing.html#returning-a-view-versus-a-copy\n",
            "  import sys\n",
            "/usr/local/lib/python3.7/dist-packages/ipykernel_launcher.py:8: SettingWithCopyWarning: \n",
            "A value is trying to be set on a copy of a slice from a DataFrame.\n",
            "Try using .loc[row_indexer,col_indexer] = value instead\n",
            "\n",
            "See the caveats in the documentation: https://pandas.pydata.org/pandas-docs/stable/user_guide/indexing.html#returning-a-view-versus-a-copy\n",
            "  \n",
            "/usr/local/lib/python3.7/dist-packages/ipykernel_launcher.py:9: SettingWithCopyWarning: \n",
            "A value is trying to be set on a copy of a slice from a DataFrame.\n",
            "Try using .loc[row_indexer,col_indexer] = value instead\n",
            "\n",
            "See the caveats in the documentation: https://pandas.pydata.org/pandas-docs/stable/user_guide/indexing.html#returning-a-view-versus-a-copy\n",
            "  if __name__ == '__main__':\n"
          ]
        }
      ],
      "source": [
        "# converting string date to seconds\n",
        "\n",
        "timestamp_s = df.index.map(pd.Timestamp.timestamp)\n",
        "\n",
        "day = 24*60*60\n",
        "year = (365.2425)*day\n",
        "\n",
        "df['Day sin'] = np.sin(timestamp_s * (2 * np.pi / day))\n",
        "df['Day cos'] = np.cos(timestamp_s * (2 * np.pi / day))\n",
        "df['Year sin'] = np.sin(timestamp_s * (2 * np.pi / year))\n",
        "df['Year cos'] = np.cos(timestamp_s * (2 * np.pi / year))"
      ]
    },
    {
      "cell_type": "code",
      "execution_count": 118,
      "metadata": {
        "id": "sDB9Oyz7vGs6",
        "colab": {
          "base_uri": "https://localhost:8080/",
          "height": 312
        },
        "outputId": "7953a787-ae0f-478b-b817-53a94221f86a"
      },
      "outputs": [
        {
          "output_type": "execute_result",
          "data": {
            "text/plain": [
              "Text(0.5, 1.0, 'Time of day signal')"
            ]
          },
          "metadata": {},
          "execution_count": 118
        },
        {
          "output_type": "display_data",
          "data": {
            "text/plain": [
              "<Figure size 432x288 with 1 Axes>"
            ],
            "image/png": "[encoded data removed]"
          },
          "metadata": {
            "needs_background": "light"
          }
        }
      ],
      "source": [
        "plt.plot(np.array(df['Day sin'])[:25])\n",
        "plt.plot(np.array(df['Day cos'])[:25])\n",
        "plt.xlabel('Time [h]')\n",
        "plt.title('Time of day signal')"
      ]
    },
    {
      "cell_type": "markdown",
      "source": [
        "## Standardising training data"
      ],
      "metadata": {
        "id": "4VgIUZsv9XnI"
      }
    },
    {
      "cell_type": "code",
      "execution_count": 119,
      "metadata": {
        "id": "9YcJ5lzqUw_s"
      },
      "outputs": [],
      "source": [
        "temp = df['Temperature (degC)']\n",
        "\n",
        "temp_avg = temp.mean()\n",
        "temp_std = temp.std()\n",
        "\n",
        "temp = (temp - temp_avg)/temp_std"
      ]
    },
    {
      "cell_type": "code",
      "execution_count": 120,
      "metadata": {
        "colab": {
          "base_uri": "https://localhost:8080/",
          "height": 578
        },
        "id": "fmeH0A6ZuARH",
        "outputId": "be5c0d76-2d96-4a06-a1f3-ff023b144a2a"
      },
      "outputs": [
        {
          "output_type": "display_data",
          "data": {
            "text/plain": [
              "<Figure size 432x288 with 1 Axes>"
            ],
            "image/png": "[encoded data removed]"
          },
          "metadata": {
            "needs_background": "light"
          }
        },
        {
          "output_type": "display_data",
          "data": {
            "text/plain": [
              "<Figure size 432x288 with 1 Axes>"
            ],
            "image/png": "[encoded data removed]"
          },
          "metadata": {
            "needs_background": "light"
          }
        }
      ],
      "source": [
        "\n",
        "\n",
        "plot_cols = ['Temperature (degC)']\n",
        "plot_features = df[plot_cols]\n",
        "plot_features.index = df.index # date_time\n",
        "_ = plot_features.plot(subplots=True)\n",
        "\n",
        "plot_features = df[plot_cols][:700]\n",
        "plot_features.index = df.index[:700]\n",
        "_ = plot_features.plot(subplots=True)"
      ]
    },
    {
      "cell_type": "code",
      "execution_count": 121,
      "metadata": {
        "colab": {
          "base_uri": "https://localhost:8080/"
        },
        "id": "G-lV7KhVq_cU",
        "outputId": "6ae57350-2605-45c2-bf6a-fd9e51e4f5d1"
      },
      "outputs": [
        {
          "output_type": "execute_result",
          "data": {
            "text/plain": [
              "count    70956.000000\n",
              "mean        25.319663\n",
              "std          3.562352\n",
              "min         19.163310\n",
              "25%         24.301900\n",
              "50%         25.428290\n",
              "75%         28.300790\n",
              "max         33.130350\n",
              "Name: Temperature (degC), dtype: float64"
            ]
          },
          "metadata": {},
          "execution_count": 121
        }
      ],
      "source": [
        "df['Temperature (degC)'].describe().transpose()"
      ]
    },
    {
      "cell_type": "markdown",
      "source": [
        "## Model Shape"
      ],
      "metadata": {
        "id": "QO8qrs8Z9fhx"
      }
    },
    {
      "cell_type": "code",
      "execution_count": 122,
      "metadata": {
        "id": "GaVkliyYuFNH"
      },
      "outputs": [],
      "source": [
        "# [[[1], [2], [3], [4], [5]]] [6]\n",
        "# [[[2], [3], [4], [5], [6]]] [7]\n",
        "# [[[3], [4], [5], [6], [7]]] [8]\n",
        "\n",
        "def df_to_X_y(df, window_size=5):\n",
        "  df_as_np = df.to_numpy()\n",
        "  X = []\n",
        "  y = []\n",
        "  for i in range(len(df_as_np)-window_size):\n",
        "    row = [[a] for a in df_as_np[i:i+window_size]]\n",
        "    X.append(row)\n",
        "    label = df_as_np[i+window_size]\n",
        "    y.append(label)\n",
        "  return np.array(X), np.array(y)"
      ]
    },
    {
      "cell_type": "code",
      "execution_count": 123,
      "metadata": {
        "colab": {
          "base_uri": "https://localhost:8080/"
        },
        "id": "GCQlD4TSuHjE",
        "outputId": "235dd9a3-2bef-41b0-b686-4bbddb303197"
      },
      "outputs": [
        {
          "output_type": "execute_result",
          "data": {
            "text/plain": [
              "((70951, 5, 1), (70951,))"
            ]
          },
          "metadata": {},
          "execution_count": 123
        }
      ],
      "source": [
        "WINDOW_SIZE = 5\n",
        "X1, y1 = df_to_X_y(temp, WINDOW_SIZE)\n",
        "X1.shape, y1.shape"
      ]
    },
    {
      "cell_type": "markdown",
      "source": [
        "## Data Splitting and Model Training"
      ],
      "metadata": {
        "id": "32sMu9rd9njB"
      }
    },
    {
      "cell_type": "code",
      "execution_count": 124,
      "metadata": {
        "colab": {
          "base_uri": "https://localhost:8080/"
        },
        "id": "xJo81OcEuKUQ",
        "outputId": "5c540e09-bd30-4c3d-ce32-d48d6b185227"
      },
      "outputs": [
        {
          "output_type": "execute_result",
          "data": {
            "text/plain": [
              "70951"
            ]
          },
          "metadata": {},
          "execution_count": 124
        }
      ],
      "source": [
        "n = len(X1)\n",
        "\n",
        "X_train1, y_train1 = X1[0:int(n*0.7)].astype(np.float32), y1[0:int(n*0.7)].astype(np.float32)\n",
        "X_val1, y_val1 = X1[int(n*0.7):int(n*0.9)].astype(np.float32), y1[int(n*0.7):int(n*0.9)].astype(np.float32)\n",
        "X_test1, y_test1 = X1[int(n*0.9):].astype(np.float32), y1[int(n*0.9):].astype(np.float32)\n",
        "X_train1.shape, y_train1.shape, X_val1.shape, y_val1.shape, X_test1.shape, y_test1.shape\n",
        "\n",
        "n"
      ]
    },
    {
      "cell_type": "code",
      "execution_count": 126,
      "metadata": {
        "id": "JjUZZwOTuOJY"
      },
      "outputs": [],
      "source": [
        "from tensorflow.keras.models import Sequential\n",
        "from tensorflow.keras.layers import *\n",
        "from tensorflow.keras.callbacks import ModelCheckpoint\n",
        "from tensorflow.keras.losses import MeanSquaredError\n",
        "from tensorflow.keras.metrics import RootMeanSquaredError\n",
        "from tensorflow.keras.optimizers import Adam\n",
        "from sklearn.metrics import accuracy_score\n",
        "\n",
        "# MLP model\n",
        "\n",
        "model1 = tf.keras.Sequential([\n",
        "    tf.keras.layers.Dense(units=100, activation='relu', input_dim=WINDOW_SIZE),\n",
        "    # tf.keras.layers.Dense(units=64, activation='relu'),\n",
        "    tf.keras.layers.Dense(units=1)\n",
        "])\n",
        "\n",
        "\n",
        "\n",
        "# model1.summary()"
      ]
    },
    {
      "cell_type": "code",
      "execution_count": 127,
      "metadata": {
        "id": "sS6wqwZAuP8N"
      },
      "outputs": [],
      "source": [
        "cp1 = ModelCheckpoint('model1/', save_best_only=True)\n",
        "model1.compile(loss=MeanSquaredError(), optimizer=Adam(learning_rate=0.0001), metrics=[tf.keras.metrics.RootMeanSquaredError()])"
      ]
    },
    {
      "cell_type": "code",
      "execution_count": 128,
      "metadata": {
        "colab": {
          "base_uri": "https://localhost:8080/"
        },
        "id": "sCn3qGPZuTq-",
        "outputId": "5882891e-18a4-4483-c755-9288e7f17b5f"
      },
      "outputs": [
        {
          "output_type": "stream",
          "name": "stdout",
          "text": [
            "Epoch 1/20\n",
            "1553/1553 [==============================] - 5s 3ms/step - loss: 0.3447 - root_mean_squared_error: 0.5871 - val_loss: 0.1751 - val_root_mean_squared_error: 0.4184\n",
            "Epoch 2/20\n",
            "1553/1553 [==============================] - 5s 3ms/step - loss: 0.1408 - root_mean_squared_error: 0.3752 - val_loss: 0.1181 - val_root_mean_squared_error: 0.3437\n",
            "Epoch 3/20\n",
            "1553/1553 [==============================] - 5s 3ms/step - loss: 0.1061 - root_mean_squared_error: 0.3257 - val_loss: 0.0958 - val_root_mean_squared_error: 0.3096\n",
            "Epoch 4/20\n",
            "1553/1553 [==============================] - 4s 3ms/step - loss: 0.0879 - root_mean_squared_error: 0.2964 - val_loss: 0.0809 - val_root_mean_squared_error: 0.2845\n",
            "Epoch 5/20\n",
            "1553/1553 [==============================] - 5s 3ms/step - loss: 0.0753 - root_mean_squared_error: 0.2743 - val_loss: 0.0697 - val_root_mean_squared_error: 0.2640\n",
            "Epoch 6/20\n",
            "1553/1553 [==============================] - 5s 3ms/step - loss: 0.0647 - root_mean_squared_error: 0.2544 - val_loss: 0.0604 - val_root_mean_squared_error: 0.2458\n",
            "Epoch 7/20\n",
            "1553/1553 [==============================] - 4s 3ms/step - loss: 0.0559 - root_mean_squared_error: 0.2364 - val_loss: 0.0516 - val_root_mean_squared_error: 0.2272\n",
            "Epoch 8/20\n",
            "1553/1553 [==============================] - 5s 3ms/step - loss: 0.0480 - root_mean_squared_error: 0.2191 - val_loss: 0.0446 - val_root_mean_squared_error: 0.2112\n",
            "Epoch 9/20\n",
            "1553/1553 [==============================] - 4s 3ms/step - loss: 0.0415 - root_mean_squared_error: 0.2037 - val_loss: 0.0393 - val_root_mean_squared_error: 0.1982\n",
            "Epoch 10/20\n",
            "1553/1553 [==============================] - 6s 4ms/step - loss: 0.0361 - root_mean_squared_error: 0.1900 - val_loss: 0.0338 - val_root_mean_squared_error: 0.1840\n",
            "Epoch 11/20\n",
            "1553/1553 [==============================] - 4s 3ms/step - loss: 0.0314 - root_mean_squared_error: 0.1771 - val_loss: 0.0292 - val_root_mean_squared_error: 0.1708\n",
            "Epoch 12/20\n",
            "1553/1553 [==============================] - 5s 3ms/step - loss: 0.0272 - root_mean_squared_error: 0.1648 - val_loss: 0.0252 - val_root_mean_squared_error: 0.1586\n",
            "Epoch 13/20\n",
            "1553/1553 [==============================] - 4s 3ms/step - loss: 0.0235 - root_mean_squared_error: 0.1534 - val_loss: 0.0220 - val_root_mean_squared_error: 0.1482\n",
            "Epoch 14/20\n",
            "1553/1553 [==============================] - 5s 3ms/step - loss: 0.0205 - root_mean_squared_error: 0.1431 - val_loss: 0.0192 - val_root_mean_squared_error: 0.1386\n",
            "Epoch 15/20\n",
            "1553/1553 [==============================] - 4s 3ms/step - loss: 0.0179 - root_mean_squared_error: 0.1338 - val_loss: 0.0169 - val_root_mean_squared_error: 0.1298\n",
            "Epoch 16/20\n",
            "1553/1553 [==============================] - 5s 3ms/step - loss: 0.0157 - root_mean_squared_error: 0.1252 - val_loss: 0.0147 - val_root_mean_squared_error: 0.1213\n",
            "Epoch 17/20\n",
            "1553/1553 [==============================] - 4s 3ms/step - loss: 0.0136 - root_mean_squared_error: 0.1168 - val_loss: 0.0130 - val_root_mean_squared_error: 0.1139\n",
            "Epoch 18/20\n",
            "1553/1553 [==============================] - 4s 3ms/step - loss: 0.0120 - root_mean_squared_error: 0.1097 - val_loss: 0.0113 - val_root_mean_squared_error: 0.1065\n",
            "Epoch 19/20\n",
            "1553/1553 [==============================] - 7s 4ms/step - loss: 0.0107 - root_mean_squared_error: 0.1036 - val_loss: 0.0101 - val_root_mean_squared_error: 0.1005\n",
            "Epoch 20/20\n",
            "1553/1553 [==============================] - 4s 3ms/step - loss: 0.0097 - root_mean_squared_error: 0.0984 - val_loss: 0.0092 - val_root_mean_squared_error: 0.0958\n"
          ]
        }
      ],
      "source": [
        "history = model1.fit(X_train1, y_train1, validation_data=(X_val1, y_val1), epochs=20, callbacks=[cp1])"
      ]
    },
    {
      "cell_type": "code",
      "execution_count": 129,
      "metadata": {
        "id": "eVqXRQaSMxNJ",
        "colab": {
          "base_uri": "https://localhost:8080/"
        },
        "outputId": "b7a66871-7143-4e03-b8ce-95001f46babd"
      },
      "outputs": [
        {
          "output_type": "stream",
          "name": "stdout",
          "text": [
            "444/444 [==============================] - 1s 2ms/step - loss: 0.0092 - root_mean_squared_error: 0.0958\n",
            "222/222 [==============================] - 0s 2ms/step - loss: 0.0092 - root_mean_squared_error: 0.0957\n"
          ]
        },
        {
          "output_type": "execute_result",
          "data": {
            "text/plain": [
              "{'MLP 1h': [0.009186048060655594, 0.09584387391805649]}"
            ]
          },
          "metadata": {},
          "execution_count": 129
        }
      ],
      "source": [
        "# collecting validation and testing results\n",
        "\n",
        "val_performance = {}\n",
        "performance = {}\n",
        "train_performance = {}\n",
        "\n",
        "val_performance['MLP 1h'] = model1.evaluate(X_val1, y_val1)\n",
        "performance['MLP 1h'] = model1.evaluate(X_test1, y_test1)\n"
      ]
    },
    {
      "cell_type": "code",
      "source": [
        "performance"
      ],
      "metadata": {
        "colab": {
          "base_uri": "https://localhost:8080/"
        },
        "id": "SKoELMQoOsJq",
        "outputId": "486d4175-09f8-4456-dd60-e44b06dc7554"
      },
      "execution_count": 130,
      "outputs": [
        {
          "output_type": "execute_result",
          "data": {
            "text/plain": [
              "{'MLP 1h': [0.00916055403649807, 0.09571078419685364]}"
            ]
          },
          "metadata": {},
          "execution_count": 130
        }
      ]
    },
    {
      "cell_type": "code",
      "source": [
        "print(history.history.keys())"
      ],
      "metadata": {
        "colab": {
          "base_uri": "https://localhost:8080/"
        },
        "id": "6N-O70pFOO6w",
        "outputId": "33f15c51-40fa-4088-ba0e-fca3445fabb8"
      },
      "execution_count": 131,
      "outputs": [
        {
          "output_type": "stream",
          "name": "stdout",
          "text": [
            "dict_keys(['loss', 'root_mean_squared_error', 'val_loss', 'val_root_mean_squared_error'])\n"
          ]
        }
      ]
    },
    {
      "cell_type": "code",
      "source": [
        "# validating trained model\n",
        "\n",
        "plt.plot(history.history['root_mean_squared_error'], '.-', label='Training RMSE (MLP)')\n",
        "plt.plot(history.history['val_root_mean_squared_error'], '.-', label='Val RMSE (MLP)')\n",
        "plt.ylabel('root_mean_squared_error')\n",
        "plt.xlabel('epochs')\n",
        "plt.legend()\n",
        "plt.show()"
      ],
      "metadata": {
        "colab": {
          "base_uri": "https://localhost:8080/",
          "height": 279
        },
        "id": "PTB-pfvqN2B8",
        "outputId": "a0736027-43b3-4ef7-f724-3feae60b4257"
      },
      "execution_count": 132,
      "outputs": [
        {
          "output_type": "display_data",
          "data": {
            "text/plain": [
              "<Figure size 432x288 with 1 Axes>"
            ],
            "image/png": "[encoded data removed]"
          },
          "metadata": {
            "needs_background": "light"
          }
        }
      ]
    },
    {
      "cell_type": "code",
      "execution_count": 133,
      "metadata": {
        "id": "e65h_kZ7uWev"
      },
      "outputs": [],
      "source": [
        "from tensorflow.keras.models import load_model\n",
        "model1 = load_model('model1/')"
      ]
    },
    {
      "cell_type": "code",
      "execution_count": 134,
      "metadata": {
        "id": "p0yRyL0Nua8N",
        "colab": {
          "base_uri": "https://localhost:8080/",
          "height": 441
        },
        "outputId": "5d637759-811e-48ef-e829-5b34780d8e7b"
      },
      "outputs": [
        {
          "output_type": "stream",
          "name": "stdout",
          "text": [
            "1553/1553 [==============================] - 2s 1ms/step\n"
          ]
        },
        {
          "output_type": "execute_result",
          "data": {
            "text/plain": [
              "       Train Predictions   Actuals\n",
              "0              -1.493226 -1.502865\n",
              "1               0.010962  0.166181\n",
              "2              -0.291085 -0.285700\n",
              "3              -0.007257 -0.007415\n",
              "4               0.671724  0.701682\n",
              "...                  ...       ...\n",
              "49660          -1.529354 -1.691774\n",
              "49661          -1.714544 -1.711435\n",
              "49662          -1.454379 -1.519250\n",
              "49663          -1.560055 -1.588064\n",
              "49664          -1.572840 -1.593291\n",
              "\n",
              "[49665 rows x 2 columns]"
            ],
            "text/html": [
              "\n",
              "  <div id=\"df-c40d58e1-74bb-43eb-b0ed-61bed7b57641\">\n",
              "    <div class=\"colab-df-container\">\n",
              "      <div>\n",
              "<style scoped>\n",
              "    .dataframe tbody tr th:only-of-type {\n",
              "        vertical-align: middle;\n",
              "    }\n",
              "\n",
              "    .dataframe tbody tr th {\n",
              "        vertical-align: top;\n",
              "    }\n",
              "\n",
              "    .dataframe thead th {\n",
              "        text-align: right;\n",
              "    }\n",
              "</style>\n",
              "<table border=\"1\" class=\"dataframe\">\n",
              "  <thead>\n",
              "    <tr style=\"text-align: right;\">\n",
              "      <th></th>\n",
              "      <th>Train Predictions</th>\n",
              "      <th>Actuals</th>\n",
              "    </tr>\n",
              "  </thead>\n",
              "  <tbody>\n",
              "    <tr>\n",
              "      <th>0</th>\n",
              "      <td>-1.493226</td>\n",
              "      <td>-1.502865</td>\n",
              "    </tr>\n",
              "    <tr>\n",
              "      <th>1</th>\n",
              "      <td>0.010962</td>\n",
              "      <td>0.166181</td>\n",
              "    </tr>\n",
              "    <tr>\n",
              "      <th>2</th>\n",
              "      <td>-0.291085</td>\n",
              "      <td>-0.285700</td>\n",
              "    </tr>\n",
              "    <tr>\n",
              "      <th>3</th>\n",
              "      <td>-0.007257</td>\n",
              "      <td>-0.007415</td>\n",
              "    </tr>\n",
              "    <tr>\n",
              "      <th>4</th>\n",
              "      <td>0.671724</td>\n",
              "      <td>0.701682</td>\n",
              "    </tr>\n",
              "    <tr>\n",
              "      <th>...</th>\n",
              "      <td>...</td>\n",
              "      <td>...</td>\n",
              "    </tr>\n",
              "    <tr>\n",
              "      <th>49660</th>\n",
              "      <td>-1.529354</td>\n",
              "      <td>-1.691774</td>\n",
              "    </tr>\n",
              "    <tr>\n",
              "      <th>49661</th>\n",
              "      <td>-1.714544</td>\n",
              "      <td>-1.711435</td>\n",
              "    </tr>\n",
              "    <tr>\n",
              "      <th>49662</th>\n",
              "      <td>-1.454379</td>\n",
              "      <td>-1.519250</td>\n",
              "    </tr>\n",
              "    <tr>\n",
              "      <th>49663</th>\n",
              "      <td>-1.560055</td>\n",
              "      <td>-1.588064</td>\n",
              "    </tr>\n",
              "    <tr>\n",
              "      <th>49664</th>\n",
              "      <td>-1.572840</td>\n",
              "      <td>-1.593291</td>\n",
              "    </tr>\n",
              "  </tbody>\n",
              "</table>\n",
              "<p>49665 rows × 2 columns</p>\n",
              "</div>\n",
              "      <button class=\"colab-df-convert\" onclick=\"convertToInteractive('df-c40d58e1-74bb-43eb-b0ed-61bed7b57641')\"\n",
              "              title=\"Convert this dataframe to an interactive table.\"\n",
              "              style=\"display:none;\">\n",
              "        \n",
              "  <svg xmlns=\"http://www.w3.org/2000/svg\" height=\"24px\"viewBox=\"0 0 24 24\"\n",
              "       width=\"24px\">\n",
              "    <path d=\"M0 0h24v24H0V0z\" fill=\"none\"/>\n",
              "    <path d=\"M18.56 5.44l.94 2.06.94-2.06 2.06-.94-2.06-.94-.94-2.06-.94 2.06-2.06.94zm-11 1L8.5 8.5l.94-2.06 2.06-.94-2.06-.94L8.5 2.5l-.94 2.06-2.06.94zm10 10l.94 2.06.94-2.06 2.06-.94-2.06-.94-.94-2.06-.94 2.06-2.06.94z\"/><path d=\"M17.41 7.96l-1.37-1.37c-.4-.4-.92-.59-1.43-.59-.52 0-1.04.2-1.43.59L10.3 9.45l-7.72 7.72c-.78.78-.78 2.05 0 2.83L4 21.41c.39.39.9.59 1.41.59.51 0 1.02-.2 1.41-.59l7.78-7.78 2.81-2.81c.8-.78.8-2.07 0-2.86zM5.41 20L4 18.59l7.72-7.72 1.47 1.35L5.41 20z\"/>\n",
              "  </svg>\n",
              "      </button>\n",
              "      \n",
              "  <style>\n",
              "    .colab-df-container {\n",
              "      display:flex;\n",
              "      flex-wrap:wrap;\n",
              "      gap: 12px;\n",
              "    }\n",
              "\n",
              "    .colab-df-convert {\n",
              "      background-color: #E8F0FE;\n",
              "      border: none;\n",
              "      border-radius: 50%;\n",
              "      cursor: pointer;\n",
              "      display: none;\n",
              "      fill: #1967D2;\n",
              "      height: 32px;\n",
              "      padding: 0 0 0 0;\n",
              "      width: 32px;\n",
              "    }\n",
              "\n",
              "    .colab-df-convert:hover {\n",
              "      background-color: #E2EBFA;\n",
              "      box-shadow: 0px 1px 2px rgba(60, 64, 67, 0.3), 0px 1px 3px 1px rgba(60, 64, 67, 0.15);\n",
              "      fill: #174EA6;\n",
              "    }\n",
              "\n",
              "    [theme=dark] .colab-df-convert {\n",
              "      background-color: #3B4455;\n",
              "      fill: #D2E3FC;\n",
              "    }\n",
              "\n",
              "    [theme=dark] .colab-df-convert:hover {\n",
              "      background-color: #434B5C;\n",
              "      box-shadow: 0px 1px 3px 1px rgba(0, 0, 0, 0.15);\n",
              "      filter: drop-shadow(0px 1px 2px rgba(0, 0, 0, 0.3));\n",
              "      fill: #FFFFFF;\n",
              "    }\n",
              "  </style>\n",
              "\n",
              "      <script>\n",
              "        const buttonEl =\n",
              "          document.querySelector('#df-c40d58e1-74bb-43eb-b0ed-61bed7b57641 button.colab-df-convert');\n",
              "        buttonEl.style.display =\n",
              "          google.colab.kernel.accessAllowed ? 'block' : 'none';\n",
              "\n",
              "        async function convertToInteractive(key) {\n",
              "          const element = document.querySelector('#df-c40d58e1-74bb-43eb-b0ed-61bed7b57641');\n",
              "          const dataTable =\n",
              "            await google.colab.kernel.invokeFunction('convertToInteractive',\n",
              "                                                     [key], {});\n",
              "          if (!dataTable) return;\n",
              "\n",
              "          const docLinkHtml = 'Like what you see? Visit the ' +\n",
              "            '<a target=\"_blank\" href=https://colab.research.google.com/notebooks/data_table.ipynb>data table notebook</a>'\n",
              "            + ' to learn more about interactive tables.';\n",
              "          element.innerHTML = '';\n",
              "          dataTable['output_type'] = 'display_data';\n",
              "          await google.colab.output.renderOutput(dataTable, element);\n",
              "          const docLink = document.createElement('div');\n",
              "          docLink.innerHTML = docLinkHtml;\n",
              "          element.appendChild(docLink);\n",
              "        }\n",
              "      </script>\n",
              "    </div>\n",
              "  </div>\n",
              "  "
            ]
          },
          "metadata": {},
          "execution_count": 134
        }
      ],
      "source": [
        "# training predictions vs actual temperature\n",
        "\n",
        "train_predictions = model1.predict(X_train1).flatten()\n",
        "train_results = pd.DataFrame(data={'Train Predictions':train_predictions, 'Actuals':y_train1})\n",
        "train_results"
      ]
    },
    {
      "cell_type": "code",
      "execution_count": 135,
      "metadata": {
        "id": "TdEsUnDuudEt",
        "colab": {
          "base_uri": "https://localhost:8080/",
          "height": 282
        },
        "outputId": "57aafaff-997e-498c-d19b-1b2b5505dad0"
      },
      "outputs": [
        {
          "output_type": "execute_result",
          "data": {
            "text/plain": [
              "<matplotlib.legend.Legend at 0x7fd7a04c07d0>"
            ]
          },
          "metadata": {},
          "execution_count": 135
        },
        {
          "output_type": "display_data",
          "data": {
            "text/plain": [
              "<Figure size 432x288 with 1 Axes>"
            ],
            "image/png": "[encoded data removed]"
          },
          "metadata": {
            "needs_background": "light"
          }
        }
      ],
      "source": [
        "plt.plot(train_results['Train Predictions'][50:150], label='Train Predictions(MLP 1h)')\n",
        "plt.plot(train_results['Actuals'][50:150], label='Actual')\n",
        "plt.ylabel('[T (degC), normalised] ')\n",
        "plt.legend()"
      ]
    },
    {
      "cell_type": "code",
      "execution_count": 136,
      "metadata": {
        "id": "zTw7TKTJugwL",
        "colab": {
          "base_uri": "https://localhost:8080/",
          "height": 441
        },
        "outputId": "02cee446-d3d0-4948-acd7-f2745a13c6e0"
      },
      "outputs": [
        {
          "output_type": "stream",
          "name": "stdout",
          "text": [
            "444/444 [==============================] - 1s 2ms/step\n"
          ]
        },
        {
          "output_type": "execute_result",
          "data": {
            "text/plain": [
              "       Val Predictions   Actuals\n",
              "0            -0.490008 -0.802580\n",
              "1             1.046742  0.806638\n",
              "2            -0.218067 -0.229989\n",
              "3             0.462509  0.451378\n",
              "4             0.954922  0.945608\n",
              "...                ...       ...\n",
              "14185        -1.556035 -1.566101\n",
              "14186        -1.139314 -1.117608\n",
              "14187         1.583405  2.036404\n",
              "14188        -0.242123 -0.232912\n",
              "14189         0.315813  0.321090\n",
              "\n",
              "[14190 rows x 2 columns]"
            ],
            "text/html": [
              "\n",
              "  <div id=\"df-42606d56-b3e8-4276-a8a0-8f2c80d54731\">\n",
              "    <div class=\"colab-df-container\">\n",
              "      <div>\n",
              "<style scoped>\n",
              "    .dataframe tbody tr th:only-of-type {\n",
              "        vertical-align: middle;\n",
              "    }\n",
              "\n",
              "    .dataframe tbody tr th {\n",
              "        vertical-align: top;\n",
              "    }\n",
              "\n",
              "    .dataframe thead th {\n",
              "        text-align: right;\n",
              "    }\n",
              "</style>\n",
              "<table border=\"1\" class=\"dataframe\">\n",
              "  <thead>\n",
              "    <tr style=\"text-align: right;\">\n",
              "      <th></th>\n",
              "      <th>Val Predictions</th>\n",
              "      <th>Actuals</th>\n",
              "    </tr>\n",
              "  </thead>\n",
              "  <tbody>\n",
              "    <tr>\n",
              "      <th>0</th>\n",
              "      <td>-0.490008</td>\n",
              "      <td>-0.802580</td>\n",
              "    </tr>\n",
              "    <tr>\n",
              "      <th>1</th>\n",
              "      <td>1.046742</td>\n",
              "      <td>0.806638</td>\n",
              "    </tr>\n",
              "    <tr>\n",
              "      <th>2</th>\n",
              "      <td>-0.218067</td>\n",
              "      <td>-0.229989</td>\n",
              "    </tr>\n",
              "    <tr>\n",
              "      <th>3</th>\n",
              "      <td>0.462509</td>\n",
              "      <td>0.451378</td>\n",
              "    </tr>\n",
              "    <tr>\n",
              "      <th>4</th>\n",
              "      <td>0.954922</td>\n",
              "      <td>0.945608</td>\n",
              "    </tr>\n",
              "    <tr>\n",
              "      <th>...</th>\n",
              "      <td>...</td>\n",
              "      <td>...</td>\n",
              "    </tr>\n",
              "    <tr>\n",
              "      <th>14185</th>\n",
              "      <td>-1.556035</td>\n",
              "      <td>-1.566101</td>\n",
              "    </tr>\n",
              "    <tr>\n",
              "      <th>14186</th>\n",
              "      <td>-1.139314</td>\n",
              "      <td>-1.117608</td>\n",
              "    </tr>\n",
              "    <tr>\n",
              "      <th>14187</th>\n",
              "      <td>1.583405</td>\n",
              "      <td>2.036404</td>\n",
              "    </tr>\n",
              "    <tr>\n",
              "      <th>14188</th>\n",
              "      <td>-0.242123</td>\n",
              "      <td>-0.232912</td>\n",
              "    </tr>\n",
              "    <tr>\n",
              "      <th>14189</th>\n",
              "      <td>0.315813</td>\n",
              "      <td>0.321090</td>\n",
              "    </tr>\n",
              "  </tbody>\n",
              "</table>\n",
              "<p>14190 rows × 2 columns</p>\n",
              "</div>\n",
              "      <button class=\"colab-df-convert\" onclick=\"convertToInteractive('df-42606d56-b3e8-4276-a8a0-8f2c80d54731')\"\n",
              "              title=\"Convert this dataframe to an interactive table.\"\n",
              "              style=\"display:none;\">\n",
              "        \n",
              "  <svg xmlns=\"http://www.w3.org/2000/svg\" height=\"24px\"viewBox=\"0 0 24 24\"\n",
              "       width=\"24px\">\n",
              "    <path d=\"M0 0h24v24H0V0z\" fill=\"none\"/>\n",
              "    <path d=\"M18.56 5.44l.94 2.06.94-2.06 2.06-.94-2.06-.94-.94-2.06-.94 2.06-2.06.94zm-11 1L8.5 8.5l.94-2.06 2.06-.94-2.06-.94L8.5 2.5l-.94 2.06-2.06.94zm10 10l.94 2.06.94-2.06 2.06-.94-2.06-.94-.94-2.06-.94 2.06-2.06.94z\"/><path d=\"M17.41 7.96l-1.37-1.37c-.4-.4-.92-.59-1.43-.59-.52 0-1.04.2-1.43.59L10.3 9.45l-7.72 7.72c-.78.78-.78 2.05 0 2.83L4 21.41c.39.39.9.59 1.41.59.51 0 1.02-.2 1.41-.59l7.78-7.78 2.81-2.81c.8-.78.8-2.07 0-2.86zM5.41 20L4 18.59l7.72-7.72 1.47 1.35L5.41 20z\"/>\n",
              "  </svg>\n",
              "      </button>\n",
              "      \n",
              "  <style>\n",
              "    .colab-df-container {\n",
              "      display:flex;\n",
              "      flex-wrap:wrap;\n",
              "      gap: 12px;\n",
              "    }\n",
              "\n",
              "    .colab-df-convert {\n",
              "      background-color: #E8F0FE;\n",
              "      border: none;\n",
              "      border-radius: 50%;\n",
              "      cursor: pointer;\n",
              "      display: none;\n",
              "      fill: #1967D2;\n",
              "      height: 32px;\n",
              "      padding: 0 0 0 0;\n",
              "      width: 32px;\n",
              "    }\n",
              "\n",
              "    .colab-df-convert:hover {\n",
              "      background-color: #E2EBFA;\n",
              "      box-shadow: 0px 1px 2px rgba(60, 64, 67, 0.3), 0px 1px 3px 1px rgba(60, 64, 67, 0.15);\n",
              "      fill: #174EA6;\n",
              "    }\n",
              "\n",
              "    [theme=dark] .colab-df-convert {\n",
              "      background-color: #3B4455;\n",
              "      fill: #D2E3FC;\n",
              "    }\n",
              "\n",
              "    [theme=dark] .colab-df-convert:hover {\n",
              "      background-color: #434B5C;\n",
              "      box-shadow: 0px 1px 3px 1px rgba(0, 0, 0, 0.15);\n",
              "      filter: drop-shadow(0px 1px 2px rgba(0, 0, 0, 0.3));\n",
              "      fill: #FFFFFF;\n",
              "    }\n",
              "  </style>\n",
              "\n",
              "      <script>\n",
              "        const buttonEl =\n",
              "          document.querySelector('#df-42606d56-b3e8-4276-a8a0-8f2c80d54731 button.colab-df-convert');\n",
              "        buttonEl.style.display =\n",
              "          google.colab.kernel.accessAllowed ? 'block' : 'none';\n",
              "\n",
              "        async function convertToInteractive(key) {\n",
              "          const element = document.querySelector('#df-42606d56-b3e8-4276-a8a0-8f2c80d54731');\n",
              "          const dataTable =\n",
              "            await google.colab.kernel.invokeFunction('convertToInteractive',\n",
              "                                                     [key], {});\n",
              "          if (!dataTable) return;\n",
              "\n",
              "          const docLinkHtml = 'Like what you see? Visit the ' +\n",
              "            '<a target=\"_blank\" href=https://colab.research.google.com/notebooks/data_table.ipynb>data table notebook</a>'\n",
              "            + ' to learn more about interactive tables.';\n",
              "          element.innerHTML = '';\n",
              "          dataTable['output_type'] = 'display_data';\n",
              "          await google.colab.output.renderOutput(dataTable, element);\n",
              "          const docLink = document.createElement('div');\n",
              "          docLink.innerHTML = docLinkHtml;\n",
              "          element.appendChild(docLink);\n",
              "        }\n",
              "      </script>\n",
              "    </div>\n",
              "  </div>\n",
              "  "
            ]
          },
          "metadata": {},
          "execution_count": 136
        }
      ],
      "source": [
        "# validation predictions vs actual temperature\n",
        "\n",
        "val_predictions = model1.predict(X_val1).flatten()\n",
        "val_results = pd.DataFrame(data={'Val Predictions':val_predictions, 'Actuals':y_val1})\n",
        "val_results"
      ]
    },
    {
      "cell_type": "code",
      "execution_count": 136,
      "metadata": {
        "id": "WSJCoQSmW8gr"
      },
      "outputs": [],
      "source": []
    },
    {
      "cell_type": "code",
      "execution_count": 137,
      "metadata": {
        "id": "OFi2x4DNuixq",
        "colab": {
          "base_uri": "https://localhost:8080/",
          "height": 282
        },
        "outputId": "1997500e-e33a-41f0-ec30-b64a054f4c9e"
      },
      "outputs": [
        {
          "output_type": "execute_result",
          "data": {
            "text/plain": [
              "<matplotlib.legend.Legend at 0x7fd7a27a9b90>"
            ]
          },
          "metadata": {},
          "execution_count": 137
        },
        {
          "output_type": "display_data",
          "data": {
            "text/plain": [
              "<Figure size 432x288 with 1 Axes>"
            ],
            "image/png": "[encoded data removed]"
          },
          "metadata": {
            "needs_background": "light"
          }
        }
      ],
      "source": [
        "plt.plot(val_results['Val Predictions'][:100], label='Val Predictions(MLP 1h)')\n",
        "plt.plot(val_results['Actuals'][:100], label='Actual')\n",
        "plt.ylabel('[T (degC), normalised] ')\n",
        "plt.legend()"
      ]
    },
    {
      "cell_type": "code",
      "execution_count": 138,
      "metadata": {
        "id": "fAH_whJjuk_J",
        "colab": {
          "base_uri": "https://localhost:8080/",
          "height": 441
        },
        "outputId": "bbac1324-4047-48de-9064-b704c8477e2d"
      },
      "outputs": [
        {
          "output_type": "stream",
          "name": "stdout",
          "text": [
            "222/222 [==============================] - 0s 1ms/step\n"
          ]
        },
        {
          "output_type": "execute_result",
          "data": {
            "text/plain": [
              "      Test Predictions   Actuals\n",
              "0             0.966119  0.967930\n",
              "1             2.195526  2.192565\n",
              "2             1.143753  1.163321\n",
              "3             1.124963  1.101940\n",
              "4             1.076379  1.061994\n",
              "...                ...       ...\n",
              "7091         -0.047294  0.033062\n",
              "7092         -0.145371 -0.166750\n",
              "7093         -0.171514 -0.160109\n",
              "7094         -0.053403 -0.059672\n",
              "7095         -0.111291 -0.249564\n",
              "\n",
              "[7096 rows x 2 columns]"
            ],
            "text/html": [
              "\n",
              "  <div id=\"df-e88d2663-13cb-4c80-aaba-156a241ad6f0\">\n",
              "    <div class=\"colab-df-container\">\n",
              "      <div>\n",
              "<style scoped>\n",
              "    .dataframe tbody tr th:only-of-type {\n",
              "        vertical-align: middle;\n",
              "    }\n",
              "\n",
              "    .dataframe tbody tr th {\n",
              "        vertical-align: top;\n",
              "    }\n",
              "\n",
              "    .dataframe thead th {\n",
              "        text-align: right;\n",
              "    }\n",
              "</style>\n",
              "<table border=\"1\" class=\"dataframe\">\n",
              "  <thead>\n",
              "    <tr style=\"text-align: right;\">\n",
              "      <th></th>\n",
              "      <th>Test Predictions</th>\n",
              "      <th>Actuals</th>\n",
              "    </tr>\n",
              "  </thead>\n",
              "  <tbody>\n",
              "    <tr>\n",
              "      <th>0</th>\n",
              "      <td>0.966119</td>\n",
              "      <td>0.967930</td>\n",
              "    </tr>\n",
              "    <tr>\n",
              "      <th>1</th>\n",
              "      <td>2.195526</td>\n",
              "      <td>2.192565</td>\n",
              "    </tr>\n",
              "    <tr>\n",
              "      <th>2</th>\n",
              "      <td>1.143753</td>\n",
              "      <td>1.163321</td>\n",
              "    </tr>\n",
              "    <tr>\n",
              "      <th>3</th>\n",
              "      <td>1.124963</td>\n",
              "      <td>1.101940</td>\n",
              "    </tr>\n",
              "    <tr>\n",
              "      <th>4</th>\n",
              "      <td>1.076379</td>\n",
              "      <td>1.061994</td>\n",
              "    </tr>\n",
              "    <tr>\n",
              "      <th>...</th>\n",
              "      <td>...</td>\n",
              "      <td>...</td>\n",
              "    </tr>\n",
              "    <tr>\n",
              "      <th>7091</th>\n",
              "      <td>-0.047294</td>\n",
              "      <td>0.033062</td>\n",
              "    </tr>\n",
              "    <tr>\n",
              "      <th>7092</th>\n",
              "      <td>-0.145371</td>\n",
              "      <td>-0.166750</td>\n",
              "    </tr>\n",
              "    <tr>\n",
              "      <th>7093</th>\n",
              "      <td>-0.171514</td>\n",
              "      <td>-0.160109</td>\n",
              "    </tr>\n",
              "    <tr>\n",
              "      <th>7094</th>\n",
              "      <td>-0.053403</td>\n",
              "      <td>-0.059672</td>\n",
              "    </tr>\n",
              "    <tr>\n",
              "      <th>7095</th>\n",
              "      <td>-0.111291</td>\n",
              "      <td>-0.249564</td>\n",
              "    </tr>\n",
              "  </tbody>\n",
              "</table>\n",
              "<p>7096 rows × 2 columns</p>\n",
              "</div>\n",
              "      <button class=\"colab-df-convert\" onclick=\"convertToInteractive('df-e88d2663-13cb-4c80-aaba-156a241ad6f0')\"\n",
              "              title=\"Convert this dataframe to an interactive table.\"\n",
              "              style=\"display:none;\">\n",
              "        \n",
              "  <svg xmlns=\"http://www.w3.org/2000/svg\" height=\"24px\"viewBox=\"0 0 24 24\"\n",
              "       width=\"24px\">\n",
              "    <path d=\"M0 0h24v24H0V0z\" fill=\"none\"/>\n",
              "    <path d=\"M18.56 5.44l.94 2.06.94-2.06 2.06-.94-2.06-.94-.94-2.06-.94 2.06-2.06.94zm-11 1L8.5 8.5l.94-2.06 2.06-.94-2.06-.94L8.5 2.5l-.94 2.06-2.06.94zm10 10l.94 2.06.94-2.06 2.06-.94-2.06-.94-.94-2.06-.94 2.06-2.06.94z\"/><path d=\"M17.41 7.96l-1.37-1.37c-.4-.4-.92-.59-1.43-.59-.52 0-1.04.2-1.43.59L10.3 9.45l-7.72 7.72c-.78.78-.78 2.05 0 2.83L4 21.41c.39.39.9.59 1.41.59.51 0 1.02-.2 1.41-.59l7.78-7.78 2.81-2.81c.8-.78.8-2.07 0-2.86zM5.41 20L4 18.59l7.72-7.72 1.47 1.35L5.41 20z\"/>\n",
              "  </svg>\n",
              "      </button>\n",
              "      \n",
              "  <style>\n",
              "    .colab-df-container {\n",
              "      display:flex;\n",
              "      flex-wrap:wrap;\n",
              "      gap: 12px;\n",
              "    }\n",
              "\n",
              "    .colab-df-convert {\n",
              "      background-color: #E8F0FE;\n",
              "      border: none;\n",
              "      border-radius: 50%;\n",
              "      cursor: pointer;\n",
              "      display: none;\n",
              "      fill: #1967D2;\n",
              "      height: 32px;\n",
              "      padding: 0 0 0 0;\n",
              "      width: 32px;\n",
              "    }\n",
              "\n",
              "    .colab-df-convert:hover {\n",
              "      background-color: #E2EBFA;\n",
              "      box-shadow: 0px 1px 2px rgba(60, 64, 67, 0.3), 0px 1px 3px 1px rgba(60, 64, 67, 0.15);\n",
              "      fill: #174EA6;\n",
              "    }\n",
              "\n",
              "    [theme=dark] .colab-df-convert {\n",
              "      background-color: #3B4455;\n",
              "      fill: #D2E3FC;\n",
              "    }\n",
              "\n",
              "    [theme=dark] .colab-df-convert:hover {\n",
              "      background-color: #434B5C;\n",
              "      box-shadow: 0px 1px 3px 1px rgba(0, 0, 0, 0.15);\n",
              "      filter: drop-shadow(0px 1px 2px rgba(0, 0, 0, 0.3));\n",
              "      fill: #FFFFFF;\n",
              "    }\n",
              "  </style>\n",
              "\n",
              "      <script>\n",
              "        const buttonEl =\n",
              "          document.querySelector('#df-e88d2663-13cb-4c80-aaba-156a241ad6f0 button.colab-df-convert');\n",
              "        buttonEl.style.display =\n",
              "          google.colab.kernel.accessAllowed ? 'block' : 'none';\n",
              "\n",
              "        async function convertToInteractive(key) {\n",
              "          const element = document.querySelector('#df-e88d2663-13cb-4c80-aaba-156a241ad6f0');\n",
              "          const dataTable =\n",
              "            await google.colab.kernel.invokeFunction('convertToInteractive',\n",
              "                                                     [key], {});\n",
              "          if (!dataTable) return;\n",
              "\n",
              "          const docLinkHtml = 'Like what you see? Visit the ' +\n",
              "            '<a target=\"_blank\" href=https://colab.research.google.com/notebooks/data_table.ipynb>data table notebook</a>'\n",
              "            + ' to learn more about interactive tables.';\n",
              "          element.innerHTML = '';\n",
              "          dataTable['output_type'] = 'display_data';\n",
              "          await google.colab.output.renderOutput(dataTable, element);\n",
              "          const docLink = document.createElement('div');\n",
              "          docLink.innerHTML = docLinkHtml;\n",
              "          element.appendChild(docLink);\n",
              "        }\n",
              "      </script>\n",
              "    </div>\n",
              "  </div>\n",
              "  "
            ]
          },
          "metadata": {},
          "execution_count": 138
        }
      ],
      "source": [
        "# test predictions vs actual temperature\n",
        "\n",
        "test_predictions = model1.predict(X_test1).flatten()\n",
        "test_results = pd.DataFrame(data={'Test Predictions':test_predictions, 'Actuals':y_test1})\n",
        "test_results"
      ]
    },
    {
      "cell_type": "code",
      "execution_count": 139,
      "metadata": {
        "id": "FB_eBoVGum_o",
        "colab": {
          "base_uri": "https://localhost:8080/",
          "height": 282
        },
        "outputId": "0fc6dc8d-498a-49e2-dce0-12aa03e9ca14"
      },
      "outputs": [
        {
          "output_type": "execute_result",
          "data": {
            "text/plain": [
              "<matplotlib.legend.Legend at 0x7fd7a2712a50>"
            ]
          },
          "metadata": {},
          "execution_count": 139
        },
        {
          "output_type": "display_data",
          "data": {
            "text/plain": [
              "<Figure size 432x288 with 1 Axes>"
            ],
            "image/png": "[encoded data removed]"
          },
          "metadata": {
            "needs_background": "light"
          }
        }
      ],
      "source": [
        "plt.plot(test_results['Test Predictions'][:100], label='Test Predictions(MLP 1h)')\n",
        "plt.plot(test_results['Actuals'][:100], label='Actual')\n",
        "plt.ylabel('[T (degC), normalised] ')\n",
        "plt.legend()"
      ]
    },
    {
      "cell_type": "code",
      "execution_count": 140,
      "metadata": {
        "colab": {
          "base_uri": "https://localhost:8080/"
        },
        "id": "6XlJWtkNxyqu",
        "outputId": "a254e311-b284-47b2-94cb-d4e9ca16283f"
      },
      "outputs": [
        {
          "output_type": "stream",
          "name": "stdout",
          "text": [
            "Model: \"sequential_5\"\n",
            "_________________________________________________________________\n",
            " Layer (type)                Output Shape              Param #   \n",
            "=================================================================\n",
            " conv1d_1 (Conv1D)           (None, 4, 64)             192       \n",
            "                                                                 \n",
            " flatten_1 (Flatten)         (None, 256)               0         \n",
            "                                                                 \n",
            " dense_10 (Dense)            (None, 50)                12850     \n",
            "                                                                 \n",
            " dense_11 (Dense)            (None, 1)                 51        \n",
            "                                                                 \n",
            "=================================================================\n",
            "Total params: 13,093\n",
            "Trainable params: 13,093\n",
            "Non-trainable params: 0\n",
            "_________________________________________________________________\n"
          ]
        }
      ],
      "source": [
        "# CNN Model\n",
        "\n",
        "conv_model = Sequential()\n",
        "conv_model.add(Conv1D(filters=64, kernel_size=2, activation='relu', input_shape=(WINDOW_SIZE, 1)))\n",
        "# conv_model.add(MaxPooling1D(pool_size=2))\n",
        "conv_model.add(Flatten())\n",
        "conv_model.add(Dense(50, activation='relu'))\n",
        "conv_model.add(Dense(1))\n",
        "\n",
        "conv_model.summary()"
      ]
    },
    {
      "cell_type": "code",
      "execution_count": 141,
      "metadata": {
        "id": "BTieGOgdyJcI"
      },
      "outputs": [],
      "source": [
        "conv_model.compile(loss=MeanSquaredError(), optimizer=Adam(learning_rate=0.0001), metrics=[tf.keras.metrics.RootMeanSquaredError()])"
      ]
    },
    {
      "cell_type": "code",
      "execution_count": 142,
      "metadata": {
        "colab": {
          "base_uri": "https://localhost:8080/"
        },
        "id": "Q2OP-3Y_xzth",
        "outputId": "a04978c7-2556-48c9-8168-5266b9d2cd43"
      },
      "outputs": [
        {
          "output_type": "stream",
          "name": "stdout",
          "text": [
            "Epoch 1/20\n",
            "1553/1553 [==============================] - 6s 3ms/step - loss: 0.2074 - root_mean_squared_error: 0.4554 - val_loss: 0.0866 - val_root_mean_squared_error: 0.2942\n",
            "Epoch 2/20\n",
            "1553/1553 [==============================] - 5s 3ms/step - loss: 0.0708 - root_mean_squared_error: 0.2661 - val_loss: 0.0587 - val_root_mean_squared_error: 0.2422\n",
            "Epoch 3/20\n",
            "1553/1553 [==============================] - 5s 3ms/step - loss: 0.0480 - root_mean_squared_error: 0.2191 - val_loss: 0.0371 - val_root_mean_squared_error: 0.1925\n",
            "Epoch 4/20\n",
            "1553/1553 [==============================] - 5s 3ms/step - loss: 0.0291 - root_mean_squared_error: 0.1705 - val_loss: 0.0217 - val_root_mean_squared_error: 0.1473\n",
            "Epoch 5/20\n",
            "1553/1553 [==============================] - 5s 3ms/step - loss: 0.0170 - root_mean_squared_error: 0.1302 - val_loss: 0.0128 - val_root_mean_squared_error: 0.1130\n",
            "Epoch 6/20\n",
            "1538/1553 [============================>.] - ETA: 0s - loss: 0.0100 - root_mean_squared_error: 0.1000"
          ]
        },
        {
          "output_type": "stream",
          "name": "stderr",
          "text": [
            "WARNING:absl:Found untraced functions such as _jit_compiled_convolution_op while saving (showing 1 of 1). These functions will not be directly callable after loading.\n"
          ]
        },
        {
          "output_type": "stream",
          "name": "stdout",
          "text": [
            "\b\b\b\b\b\b\b\b\b\b\b\b\b\b\b\b\b\b\b\b\b\b\b\b\b\b\b\b\b\b\b\b\b\b\b\b\b\b\b\b\b\b\b\b\b\b\b\b\b\b\b\b\b\b\b\b\b\b\b\b\b\b\b\b\b\b\b\b\b\b\b\b\b\b\b\b\b\b\b\b\b\b\b\b\b\b\b\b\b\b\b\b\b\b\b\b\b\b\b\b\b\r1553/1553 [==============================] - 5s 3ms/step - loss: 0.0100 - root_mean_squared_error: 0.0999 - val_loss: 0.0077 - val_root_mean_squared_error: 0.0877\n",
            "Epoch 7/20\n",
            "1537/1553 [============================>.] - ETA: 0s - loss: 0.0062 - root_mean_squared_error: 0.0789"
          ]
        },
        {
          "output_type": "stream",
          "name": "stderr",
          "text": [
            "WARNING:absl:Found untraced functions such as _jit_compiled_convolution_op while saving (showing 1 of 1). These functions will not be directly callable after loading.\n"
          ]
        },
        {
          "output_type": "stream",
          "name": "stdout",
          "text": [
            "\b\b\b\b\b\b\b\b\b\b\b\b\b\b\b\b\b\b\b\b\b\b\b\b\b\b\b\b\b\b\b\b\b\b\b\b\b\b\b\b\b\b\b\b\b\b\b\b\b\b\b\b\b\b\b\b\b\b\b\b\b\b\b\b\b\b\b\b\b\b\b\b\b\b\b\b\b\b\b\b\b\b\b\b\b\b\b\b\b\b\b\b\b\b\b\b\b\b\b\b\b\r1553/1553 [==============================] - 5s 3ms/step - loss: 0.0062 - root_mean_squared_error: 0.0789 - val_loss: 0.0050 - val_root_mean_squared_error: 0.0709\n",
            "Epoch 8/20\n",
            "1534/1553 [============================>.] - ETA: 0s - loss: 0.0042 - root_mean_squared_error: 0.0651"
          ]
        },
        {
          "output_type": "stream",
          "name": "stderr",
          "text": [
            "WARNING:absl:Found untraced functions such as _jit_compiled_convolution_op while saving (showing 1 of 1). These functions will not be directly callable after loading.\n"
          ]
        },
        {
          "output_type": "stream",
          "name": "stdout",
          "text": [
            "\b\b\b\b\b\b\b\b\b\b\b\b\b\b\b\b\b\b\b\b\b\b\b\b\b\b\b\b\b\b\b\b\b\b\b\b\b\b\b\b\b\b\b\b\b\b\b\b\b\b\b\b\b\b\b\b\b\b\b\b\b\b\b\b\b\b\b\b\b\b\b\b\b\b\b\b\b\b\b\b\b\b\b\b\b\b\b\b\b\b\b\b\b\b\b\b\b\b\b\b\b\r1553/1553 [==============================] - 5s 3ms/step - loss: 0.0042 - root_mean_squared_error: 0.0650 - val_loss: 0.0034 - val_root_mean_squared_error: 0.0580\n",
            "Epoch 9/20\n",
            "1553/1553 [==============================] - 4s 3ms/step - loss: 0.0030 - root_mean_squared_error: 0.0548 - val_loss: 0.0036 - val_root_mean_squared_error: 0.0597\n",
            "Epoch 10/20\n",
            "1537/1553 [============================>.] - ETA: 0s - loss: 0.0022 - root_mean_squared_error: 0.0472"
          ]
        },
        {
          "output_type": "stream",
          "name": "stderr",
          "text": [
            "WARNING:absl:Found untraced functions such as _jit_compiled_convolution_op while saving (showing 1 of 1). These functions will not be directly callable after loading.\n"
          ]
        },
        {
          "output_type": "stream",
          "name": "stdout",
          "text": [
            "\b\b\b\b\b\b\b\b\b\b\b\b\b\b\b\b\b\b\b\b\b\b\b\b\b\b\b\b\b\b\b\b\b\b\b\b\b\b\b\b\b\b\b\b\b\b\b\b\b\b\b\b\b\b\b\b\b\b\b\b\b\b\b\b\b\b\b\b\b\b\b\b\b\b\b\b\b\b\b\b\b\b\b\b\b\b\b\b\b\b\b\b\b\b\b\b\b\b\b\b\b\r1553/1553 [==============================] - 5s 3ms/step - loss: 0.0022 - root_mean_squared_error: 0.0472 - val_loss: 0.0023 - val_root_mean_squared_error: 0.0476\n",
            "Epoch 11/20\n",
            "1537/1553 [============================>.] - ETA: 0s - loss: 0.0017 - root_mean_squared_error: 0.0408"
          ]
        },
        {
          "output_type": "stream",
          "name": "stderr",
          "text": [
            "WARNING:absl:Found untraced functions such as _jit_compiled_convolution_op while saving (showing 1 of 1). These functions will not be directly callable after loading.\n"
          ]
        },
        {
          "output_type": "stream",
          "name": "stdout",
          "text": [
            "\b\b\b\b\b\b\b\b\b\b\b\b\b\b\b\b\b\b\b\b\b\b\b\b\b\b\b\b\b\b\b\b\b\b\b\b\b\b\b\b\b\b\b\b\b\b\b\b\b\b\b\b\b\b\b\b\b\b\b\b\b\b\b\b\b\b\b\b\b\b\b\b\b\b\b\b\b\b\b\b\b\b\b\b\b\b\b\b\b\b\b\b\b\b\b\b\b\b\b\b\b\r1553/1553 [==============================] - 5s 3ms/step - loss: 0.0017 - root_mean_squared_error: 0.0408 - val_loss: 0.0016 - val_root_mean_squared_error: 0.0395\n",
            "Epoch 12/20\n",
            "1546/1553 [============================>.] - ETA: 0s - loss: 0.0012 - root_mean_squared_error: 0.0351"
          ]
        },
        {
          "output_type": "stream",
          "name": "stderr",
          "text": [
            "WARNING:absl:Found untraced functions such as _jit_compiled_convolution_op while saving (showing 1 of 1). These functions will not be directly callable after loading.\n"
          ]
        },
        {
          "output_type": "stream",
          "name": "stdout",
          "text": [
            "\b\b\b\b\b\b\b\b\b\b\b\b\b\b\b\b\b\b\b\b\b\b\b\b\b\b\b\b\b\b\b\b\b\b\b\b\b\b\b\b\b\b\b\b\b\b\b\b\b\b\b\b\b\b\b\b\b\b\b\b\b\b\b\b\b\b\b\b\b\b\b\b\b\b\b\b\b\b\b\b\b\b\b\b\b\b\b\b\b\b\b\b\b\b\b\b\b\b\b\b\b\r1553/1553 [==============================] - 8s 5ms/step - loss: 0.0012 - root_mean_squared_error: 0.0351 - val_loss: 0.0012 - val_root_mean_squared_error: 0.0344\n",
            "Epoch 13/20\n",
            "1535/1553 [============================>.] - ETA: 0s - loss: 9.7383e-04 - root_mean_squared_error: 0.0312"
          ]
        },
        {
          "output_type": "stream",
          "name": "stderr",
          "text": [
            "WARNING:absl:Found untraced functions such as _jit_compiled_convolution_op while saving (showing 1 of 1). These functions will not be directly callable after loading.\n"
          ]
        },
        {
          "output_type": "stream",
          "name": "stdout",
          "text": [
            "\b\b\b\b\b\b\b\b\b\b\b\b\b\b\b\b\b\b\b\b\b\b\b\b\b\b\b\b\b\b\b\b\b\b\b\b\b\b\b\b\b\b\b\b\b\b\b\b\b\b\b\b\b\b\b\b\b\b\b\b\b\b\b\b\b\b\b\b\b\b\b\b\b\b\b\b\b\b\b\b\b\b\b\b\b\b\b\b\b\b\b\b\b\b\b\b\b\b\b\b\b\b\b\b\b\r1553/1553 [==============================] - 5s 3ms/step - loss: 9.7273e-04 - root_mean_squared_error: 0.0312 - val_loss: 7.9424e-04 - val_root_mean_squared_error: 0.0282\n",
            "Epoch 14/20\n",
            "1547/1553 [============================>.] - ETA: 0s - loss: 6.9508e-04 - root_mean_squared_error: 0.0264"
          ]
        },
        {
          "output_type": "stream",
          "name": "stderr",
          "text": [
            "WARNING:absl:Found untraced functions such as _jit_compiled_convolution_op while saving (showing 1 of 1). These functions will not be directly callable after loading.\n"
          ]
        },
        {
          "output_type": "stream",
          "name": "stdout",
          "text": [
            "\b\b\b\b\b\b\b\b\b\b\b\b\b\b\b\b\b\b\b\b\b\b\b\b\b\b\b\b\b\b\b\b\b\b\b\b\b\b\b\b\b\b\b\b\b\b\b\b\b\b\b\b\b\b\b\b\b\b\b\b\b\b\b\b\b\b\b\b\b\b\b\b\b\b\b\b\b\b\b\b\b\b\b\b\b\b\b\b\b\b\b\b\b\b\b\b\b\b\b\b\b\b\b\b\b\r1553/1553 [==============================] - 5s 3ms/step - loss: 6.9419e-04 - root_mean_squared_error: 0.0263 - val_loss: 5.1553e-04 - val_root_mean_squared_error: 0.0227\n",
            "Epoch 15/20\n",
            "1552/1553 [============================>.] - ETA: 0s - loss: 4.9277e-04 - root_mean_squared_error: 0.0222"
          ]
        },
        {
          "output_type": "stream",
          "name": "stderr",
          "text": [
            "WARNING:absl:Found untraced functions such as _jit_compiled_convolution_op while saving (showing 1 of 1). These functions will not be directly callable after loading.\n"
          ]
        },
        {
          "output_type": "stream",
          "name": "stdout",
          "text": [
            "\b\b\b\b\b\b\b\b\b\b\b\b\b\b\b\b\b\b\b\b\b\b\b\b\b\b\b\b\b\b\b\b\b\b\b\b\b\b\b\b\b\b\b\b\b\b\b\b\b\b\b\b\b\b\b\b\b\b\b\b\b\b\b\b\b\b\b\b\b\b\b\b\b\b\b\b\b\b\b\b\b\b\b\b\b\b\b\b\b\b\b\b\b\b\b\b\b\b\b\b\b\b\b\b\b\r1553/1553 [==============================] - 5s 3ms/step - loss: 4.9277e-04 - root_mean_squared_error: 0.0222 - val_loss: 4.9995e-04 - val_root_mean_squared_error: 0.0224\n",
            "Epoch 16/20\n",
            "1541/1553 [============================>.] - ETA: 0s - loss: 3.4205e-04 - root_mean_squared_error: 0.0185"
          ]
        },
        {
          "output_type": "stream",
          "name": "stderr",
          "text": [
            "WARNING:absl:Found untraced functions such as _jit_compiled_convolution_op while saving (showing 1 of 1). These functions will not be directly callable after loading.\n"
          ]
        },
        {
          "output_type": "stream",
          "name": "stdout",
          "text": [
            "\b\b\b\b\b\b\b\b\b\b\b\b\b\b\b\b\b\b\b\b\b\b\b\b\b\b\b\b\b\b\b\b\b\b\b\b\b\b\b\b\b\b\b\b\b\b\b\b\b\b\b\b\b\b\b\b\b\b\b\b\b\b\b\b\b\b\b\b\b\b\b\b\b\b\b\b\b\b\b\b\b\b\b\b\b\b\b\b\b\b\b\b\b\b\b\b\b\b\b\b\b\b\b\b\b\r1553/1553 [==============================] - 5s 4ms/step - loss: 3.4138e-04 - root_mean_squared_error: 0.0185 - val_loss: 2.7852e-04 - val_root_mean_squared_error: 0.0167\n",
            "Epoch 17/20\n",
            "1538/1553 [============================>.] - ETA: 0s - loss: 2.2131e-04 - root_mean_squared_error: 0.0149"
          ]
        },
        {
          "output_type": "stream",
          "name": "stderr",
          "text": [
            "WARNING:absl:Found untraced functions such as _jit_compiled_convolution_op while saving (showing 1 of 1). These functions will not be directly callable after loading.\n"
          ]
        },
        {
          "output_type": "stream",
          "name": "stdout",
          "text": [
            "\b\b\b\b\b\b\b\b\b\b\b\b\b\b\b\b\b\b\b\b\b\b\b\b\b\b\b\b\b\b\b\b\b\b\b\b\b\b\b\b\b\b\b\b\b\b\b\b\b\b\b\b\b\b\b\b\b\b\b\b\b\b\b\b\b\b\b\b\b\b\b\b\b\b\b\b\b\b\b\b\b\b\b\b\b\b\b\b\b\b\b\b\b\b\b\b\b\b\b\b\b\b\b\b\b\r1553/1553 [==============================] - 5s 3ms/step - loss: 2.2050e-04 - root_mean_squared_error: 0.0148 - val_loss: 2.3749e-04 - val_root_mean_squared_error: 0.0154\n",
            "Epoch 18/20\n",
            "1544/1553 [============================>.] - ETA: 0s - loss: 1.3522e-04 - root_mean_squared_error: 0.0116"
          ]
        },
        {
          "output_type": "stream",
          "name": "stderr",
          "text": [
            "WARNING:absl:Found untraced functions such as _jit_compiled_convolution_op while saving (showing 1 of 1). These functions will not be directly callable after loading.\n"
          ]
        },
        {
          "output_type": "stream",
          "name": "stdout",
          "text": [
            "\b\b\b\b\b\b\b\b\b\b\b\b\b\b\b\b\b\b\b\b\b\b\b\b\b\b\b\b\b\b\b\b\b\b\b\b\b\b\b\b\b\b\b\b\b\b\b\b\b\b\b\b\b\b\b\b\b\b\b\b\b\b\b\b\b\b\b\b\b\b\b\b\b\b\b\b\b\b\b\b\b\b\b\b\b\b\b\b\b\b\b\b\b\b\b\b\b\b\b\b\b\b\b\b\b\r1553/1553 [==============================] - 6s 4ms/step - loss: 1.3499e-04 - root_mean_squared_error: 0.0116 - val_loss: 1.0835e-04 - val_root_mean_squared_error: 0.0104\n",
            "Epoch 19/20\n",
            "1548/1553 [============================>.] - ETA: 0s - loss: 8.6985e-05 - root_mean_squared_error: 0.0093"
          ]
        },
        {
          "output_type": "stream",
          "name": "stderr",
          "text": [
            "WARNING:absl:Found untraced functions such as _jit_compiled_convolution_op while saving (showing 1 of 1). These functions will not be directly callable after loading.\n"
          ]
        },
        {
          "output_type": "stream",
          "name": "stdout",
          "text": [
            "\b\b\b\b\b\b\b\b\b\b\b\b\b\b\b\b\b\b\b\b\b\b\b\b\b\b\b\b\b\b\b\b\b\b\b\b\b\b\b\b\b\b\b\b\b\b\b\b\b\b\b\b\b\b\b\b\b\b\b\b\b\b\b\b\b\b\b\b\b\b\b\b\b\b\b\b\b\b\b\b\b\b\b\b\b\b\b\b\b\b\b\b\b\b\b\b\b\b\b\b\b\b\b\b\b\r1553/1553 [==============================] - 6s 4ms/step - loss: 8.6935e-05 - root_mean_squared_error: 0.0093 - val_loss: 9.8184e-05 - val_root_mean_squared_error: 0.0099\n",
            "Epoch 20/20\n",
            "1542/1553 [============================>.] - ETA: 0s - loss: 5.6442e-05 - root_mean_squared_error: 0.0075"
          ]
        },
        {
          "output_type": "stream",
          "name": "stderr",
          "text": [
            "WARNING:absl:Found untraced functions such as _jit_compiled_convolution_op while saving (showing 1 of 1). These functions will not be directly callable after loading.\n"
          ]
        },
        {
          "output_type": "stream",
          "name": "stdout",
          "text": [
            "\b\b\b\b\b\b\b\b\b\b\b\b\b\b\b\b\b\b\b\b\b\b\b\b\b\b\b\b\b\b\b\b\b\b\b\b\b\b\b\b\b\b\b\b\b\b\b\b\b\b\b\b\b\b\b\b\b\b\b\b\b\b\b\b\b\b\b\b\b\b\b\b\b\b\b\b\b\b\b\b\b\b\b\b\b\b\b\b\b\b\b\b\b\b\b\b\b\b\b\b\b\b\b\b\b\r1553/1553 [==============================] - 6s 4ms/step - loss: 5.6374e-05 - root_mean_squared_error: 0.0075 - val_loss: 7.4144e-05 - val_root_mean_squared_error: 0.0086\n"
          ]
        }
      ],
      "source": [
        "history = conv_model.fit(X_train1, y_train1, validation_data=(X_val1, y_val1), epochs=20, callbacks=[cp1])"
      ]
    },
    {
      "cell_type": "code",
      "execution_count": 143,
      "metadata": {
        "id": "U5e_PpC_yd_Z",
        "colab": {
          "base_uri": "https://localhost:8080/"
        },
        "outputId": "2df5259f-c16e-4c3c-95df-91dbcfd4b240"
      },
      "outputs": [
        {
          "output_type": "stream",
          "name": "stdout",
          "text": [
            "444/444 [==============================] - 1s 2ms/step - loss: 7.4144e-05 - root_mean_squared_error: 0.0086\n",
            "222/222 [==============================] - 0s 2ms/step - loss: 7.4215e-05 - root_mean_squared_error: 0.0086\n"
          ]
        }
      ],
      "source": [
        "val_performance['Convolutional 1h'] = conv_model.evaluate(X_val1, y_val1)\n",
        "performance['Convolutional 1h'] = conv_model.evaluate(X_test1, y_test1)"
      ]
    },
    {
      "cell_type": "code",
      "source": [
        "plt.plot(history.history['root_mean_squared_error'], '.-', label='Training RMSE (Conv)')\n",
        "plt.plot(history.history['val_root_mean_squared_error'], '.-', label='Val RMSE (Conv)')\n",
        "plt.ylabel('root_mean_squared_error')\n",
        "plt.xlabel('epochs')\n",
        "plt.legend()\n",
        "plt.show()"
      ],
      "metadata": {
        "colab": {
          "base_uri": "https://localhost:8080/",
          "height": 279
        },
        "id": "cWj8r44gUEWb",
        "outputId": "013dc363-8e5a-4054-dfaa-d006ffcef03d"
      },
      "execution_count": 144,
      "outputs": [
        {
          "output_type": "display_data",
          "data": {
            "text/plain": [
              "<Figure size 432x288 with 1 Axes>"
            ],
            "image/png": "[encoded data removed]"
          },
          "metadata": {
            "needs_background": "light"
          }
        }
      ]
    },
    {
      "cell_type": "code",
      "execution_count": 145,
      "metadata": {
        "id": "gYldTmN99D4B",
        "colab": {
          "base_uri": "https://localhost:8080/",
          "height": 441
        },
        "outputId": "4cc0b39c-9664-4515-de59-27ce2dc2577c"
      },
      "outputs": [
        {
          "output_type": "stream",
          "name": "stdout",
          "text": [
            "1553/1553 [==============================] - 3s 2ms/step\n"
          ]
        },
        {
          "output_type": "execute_result",
          "data": {
            "text/plain": [
              "       Train Predictions   Actuals\n",
              "0              -1.501072 -1.502865\n",
              "1               0.162261  0.166181\n",
              "2              -0.274353 -0.285700\n",
              "3               0.003068 -0.007415\n",
              "4               0.706059  0.701682\n",
              "...                  ...       ...\n",
              "49660          -1.690557 -1.691774\n",
              "49661          -1.713215 -1.711435\n",
              "49662          -1.521964 -1.519250\n",
              "49663          -1.587232 -1.588064\n",
              "49664          -1.591281 -1.593291\n",
              "\n",
              "[49665 rows x 2 columns]"
            ],
            "text/html": [
              "\n",
              "  <div id=\"df-85146ad4-4f4b-482d-ae87-83f366fa02e7\">\n",
              "    <div class=\"colab-df-container\">\n",
              "      <div>\n",
              "<style scoped>\n",
              "    .dataframe tbody tr th:only-of-type {\n",
              "        vertical-align: middle;\n",
              "    }\n",
              "\n",
              "    .dataframe tbody tr th {\n",
              "        vertical-align: top;\n",
              "    }\n",
              "\n",
              "    .dataframe thead th {\n",
              "        text-align: right;\n",
              "    }\n",
              "</style>\n",
              "<table border=\"1\" class=\"dataframe\">\n",
              "  <thead>\n",
              "    <tr style=\"text-align: right;\">\n",
              "      <th></th>\n",
              "      <th>Train Predictions</th>\n",
              "      <th>Actuals</th>\n",
              "    </tr>\n",
              "  </thead>\n",
              "  <tbody>\n",
              "    <tr>\n",
              "      <th>0</th>\n",
              "      <td>-1.501072</td>\n",
              "      <td>-1.502865</td>\n",
              "    </tr>\n",
              "    <tr>\n",
              "      <th>1</th>\n",
              "      <td>0.162261</td>\n",
              "      <td>0.166181</td>\n",
              "    </tr>\n",
              "    <tr>\n",
              "      <th>2</th>\n",
              "      <td>-0.274353</td>\n",
              "      <td>-0.285700</td>\n",
              "    </tr>\n",
              "    <tr>\n",
              "      <th>3</th>\n",
              "      <td>0.003068</td>\n",
              "      <td>-0.007415</td>\n",
              "    </tr>\n",
              "    <tr>\n",
              "      <th>4</th>\n",
              "      <td>0.706059</td>\n",
              "      <td>0.701682</td>\n",
              "    </tr>\n",
              "    <tr>\n",
              "      <th>...</th>\n",
              "      <td>...</td>\n",
              "      <td>...</td>\n",
              "    </tr>\n",
              "    <tr>\n",
              "      <th>49660</th>\n",
              "      <td>-1.690557</td>\n",
              "      <td>-1.691774</td>\n",
              "    </tr>\n",
              "    <tr>\n",
              "      <th>49661</th>\n",
              "      <td>-1.713215</td>\n",
              "      <td>-1.711435</td>\n",
              "    </tr>\n",
              "    <tr>\n",
              "      <th>49662</th>\n",
              "      <td>-1.521964</td>\n",
              "      <td>-1.519250</td>\n",
              "    </tr>\n",
              "    <tr>\n",
              "      <th>49663</th>\n",
              "      <td>-1.587232</td>\n",
              "      <td>-1.588064</td>\n",
              "    </tr>\n",
              "    <tr>\n",
              "      <th>49664</th>\n",
              "      <td>-1.591281</td>\n",
              "      <td>-1.593291</td>\n",
              "    </tr>\n",
              "  </tbody>\n",
              "</table>\n",
              "<p>49665 rows × 2 columns</p>\n",
              "</div>\n",
              "      <button class=\"colab-df-convert\" onclick=\"convertToInteractive('df-85146ad4-4f4b-482d-ae87-83f366fa02e7')\"\n",
              "              title=\"Convert this dataframe to an interactive table.\"\n",
              "              style=\"display:none;\">\n",
              "        \n",
              "  <svg xmlns=\"http://www.w3.org/2000/svg\" height=\"24px\"viewBox=\"0 0 24 24\"\n",
              "       width=\"24px\">\n",
              "    <path d=\"M0 0h24v24H0V0z\" fill=\"none\"/>\n",
              "    <path d=\"M18.56 5.44l.94 2.06.94-2.06 2.06-.94-2.06-.94-.94-2.06-.94 2.06-2.06.94zm-11 1L8.5 8.5l.94-2.06 2.06-.94-2.06-.94L8.5 2.5l-.94 2.06-2.06.94zm10 10l.94 2.06.94-2.06 2.06-.94-2.06-.94-.94-2.06-.94 2.06-2.06.94z\"/><path d=\"M17.41 7.96l-1.37-1.37c-.4-.4-.92-.59-1.43-.59-.52 0-1.04.2-1.43.59L10.3 9.45l-7.72 7.72c-.78.78-.78 2.05 0 2.83L4 21.41c.39.39.9.59 1.41.59.51 0 1.02-.2 1.41-.59l7.78-7.78 2.81-2.81c.8-.78.8-2.07 0-2.86zM5.41 20L4 18.59l7.72-7.72 1.47 1.35L5.41 20z\"/>\n",
              "  </svg>\n",
              "      </button>\n",
              "      \n",
              "  <style>\n",
              "    .colab-df-container {\n",
              "      display:flex;\n",
              "      flex-wrap:wrap;\n",
              "      gap: 12px;\n",
              "    }\n",
              "\n",
              "    .colab-df-convert {\n",
              "      background-color: #E8F0FE;\n",
              "      border: none;\n",
              "      border-radius: 50%;\n",
              "      cursor: pointer;\n",
              "      display: none;\n",
              "      fill: #1967D2;\n",
              "      height: 32px;\n",
              "      padding: 0 0 0 0;\n",
              "      width: 32px;\n",
              "    }\n",
              "\n",
              "    .colab-df-convert:hover {\n",
              "      background-color: #E2EBFA;\n",
              "      box-shadow: 0px 1px 2px rgba(60, 64, 67, 0.3), 0px 1px 3px 1px rgba(60, 64, 67, 0.15);\n",
              "      fill: #174EA6;\n",
              "    }\n",
              "\n",
              "    [theme=dark] .colab-df-convert {\n",
              "      background-color: #3B4455;\n",
              "      fill: #D2E3FC;\n",
              "    }\n",
              "\n",
              "    [theme=dark] .colab-df-convert:hover {\n",
              "      background-color: #434B5C;\n",
              "      box-shadow: 0px 1px 3px 1px rgba(0, 0, 0, 0.15);\n",
              "      filter: drop-shadow(0px 1px 2px rgba(0, 0, 0, 0.3));\n",
              "      fill: #FFFFFF;\n",
              "    }\n",
              "  </style>\n",
              "\n",
              "      <script>\n",
              "        const buttonEl =\n",
              "          document.querySelector('#df-85146ad4-4f4b-482d-ae87-83f366fa02e7 button.colab-df-convert');\n",
              "        buttonEl.style.display =\n",
              "          google.colab.kernel.accessAllowed ? 'block' : 'none';\n",
              "\n",
              "        async function convertToInteractive(key) {\n",
              "          const element = document.querySelector('#df-85146ad4-4f4b-482d-ae87-83f366fa02e7');\n",
              "          const dataTable =\n",
              "            await google.colab.kernel.invokeFunction('convertToInteractive',\n",
              "                                                     [key], {});\n",
              "          if (!dataTable) return;\n",
              "\n",
              "          const docLinkHtml = 'Like what you see? Visit the ' +\n",
              "            '<a target=\"_blank\" href=https://colab.research.google.com/notebooks/data_table.ipynb>data table notebook</a>'\n",
              "            + ' to learn more about interactive tables.';\n",
              "          element.innerHTML = '';\n",
              "          dataTable['output_type'] = 'display_data';\n",
              "          await google.colab.output.renderOutput(dataTable, element);\n",
              "          const docLink = document.createElement('div');\n",
              "          docLink.innerHTML = docLinkHtml;\n",
              "          element.appendChild(docLink);\n",
              "        }\n",
              "      </script>\n",
              "    </div>\n",
              "  </div>\n",
              "  "
            ]
          },
          "metadata": {},
          "execution_count": 145
        }
      ],
      "source": [
        "train_predictions = conv_model.predict(X_train1).flatten()\n",
        "train_results = pd.DataFrame(data={'Train Predictions':train_predictions, 'Actuals':y_train1})\n",
        "train_results"
      ]
    },
    {
      "cell_type": "code",
      "execution_count": 146,
      "metadata": {
        "id": "mxnTXHq29FD1",
        "colab": {
          "base_uri": "https://localhost:8080/",
          "height": 282
        },
        "outputId": "3a1afe4f-fea8-42bf-8bc1-8bf9b0c7acb5"
      },
      "outputs": [
        {
          "output_type": "execute_result",
          "data": {
            "text/plain": [
              "<matplotlib.legend.Legend at 0x7fd7a9ef2250>"
            ]
          },
          "metadata": {},
          "execution_count": 146
        },
        {
          "output_type": "display_data",
          "data": {
            "text/plain": [
              "<Figure size 432x288 with 1 Axes>"
            ],
            "image/png": "[encoded data removed]"
          },
          "metadata": {
            "needs_background": "light"
          }
        }
      ],
      "source": [
        "plt.plot(train_results['Train Predictions'][50:150], label='Train Predictions(Conv 1h)')\n",
        "plt.plot(train_results['Actuals'][50:150], label='Actual')\n",
        "plt.ylabel('[T (degC), normalised] ')\n",
        "plt.legend()"
      ]
    },
    {
      "cell_type": "code",
      "execution_count": 147,
      "metadata": {
        "id": "0RfGFDiK9yxj",
        "colab": {
          "base_uri": "https://localhost:8080/",
          "height": 441
        },
        "outputId": "2d609232-cd65-4f32-9754-35e9b45473e9"
      },
      "outputs": [
        {
          "output_type": "stream",
          "name": "stdout",
          "text": [
            "444/444 [==============================] - 1s 2ms/step\n"
          ]
        },
        {
          "output_type": "execute_result",
          "data": {
            "text/plain": [
              "       Val Predictions   Actuals\n",
              "0            -0.490008 -0.802580\n",
              "1             1.046742  0.806638\n",
              "2            -0.218067 -0.229989\n",
              "3             0.462509  0.451378\n",
              "4             0.954922  0.945608\n",
              "...                ...       ...\n",
              "14185        -1.556035 -1.566101\n",
              "14186        -1.139314 -1.117608\n",
              "14187         1.583405  2.036404\n",
              "14188        -0.242123 -0.232912\n",
              "14189         0.315813  0.321090\n",
              "\n",
              "[14190 rows x 2 columns]"
            ],
            "text/html": [
              "\n",
              "  <div id=\"df-f303d5b5-85a4-4f35-aeac-2fb1b8ee6752\">\n",
              "    <div class=\"colab-df-container\">\n",
              "      <div>\n",
              "<style scoped>\n",
              "    .dataframe tbody tr th:only-of-type {\n",
              "        vertical-align: middle;\n",
              "    }\n",
              "\n",
              "    .dataframe tbody tr th {\n",
              "        vertical-align: top;\n",
              "    }\n",
              "\n",
              "    .dataframe thead th {\n",
              "        text-align: right;\n",
              "    }\n",
              "</style>\n",
              "<table border=\"1\" class=\"dataframe\">\n",
              "  <thead>\n",
              "    <tr style=\"text-align: right;\">\n",
              "      <th></th>\n",
              "      <th>Val Predictions</th>\n",
              "      <th>Actuals</th>\n",
              "    </tr>\n",
              "  </thead>\n",
              "  <tbody>\n",
              "    <tr>\n",
              "      <th>0</th>\n",
              "      <td>-0.490008</td>\n",
              "      <td>-0.802580</td>\n",
              "    </tr>\n",
              "    <tr>\n",
              "      <th>1</th>\n",
              "      <td>1.046742</td>\n",
              "      <td>0.806638</td>\n",
              "    </tr>\n",
              "    <tr>\n",
              "      <th>2</th>\n",
              "      <td>-0.218067</td>\n",
              "      <td>-0.229989</td>\n",
              "    </tr>\n",
              "    <tr>\n",
              "      <th>3</th>\n",
              "      <td>0.462509</td>\n",
              "      <td>0.451378</td>\n",
              "    </tr>\n",
              "    <tr>\n",
              "      <th>4</th>\n",
              "      <td>0.954922</td>\n",
              "      <td>0.945608</td>\n",
              "    </tr>\n",
              "    <tr>\n",
              "      <th>...</th>\n",
              "      <td>...</td>\n",
              "      <td>...</td>\n",
              "    </tr>\n",
              "    <tr>\n",
              "      <th>14185</th>\n",
              "      <td>-1.556035</td>\n",
              "      <td>-1.566101</td>\n",
              "    </tr>\n",
              "    <tr>\n",
              "      <th>14186</th>\n",
              "      <td>-1.139314</td>\n",
              "      <td>-1.117608</td>\n",
              "    </tr>\n",
              "    <tr>\n",
              "      <th>14187</th>\n",
              "      <td>1.583405</td>\n",
              "      <td>2.036404</td>\n",
              "    </tr>\n",
              "    <tr>\n",
              "      <th>14188</th>\n",
              "      <td>-0.242123</td>\n",
              "      <td>-0.232912</td>\n",
              "    </tr>\n",
              "    <tr>\n",
              "      <th>14189</th>\n",
              "      <td>0.315813</td>\n",
              "      <td>0.321090</td>\n",
              "    </tr>\n",
              "  </tbody>\n",
              "</table>\n",
              "<p>14190 rows × 2 columns</p>\n",
              "</div>\n",
              "      <button class=\"colab-df-convert\" onclick=\"convertToInteractive('df-f303d5b5-85a4-4f35-aeac-2fb1b8ee6752')\"\n",
              "              title=\"Convert this dataframe to an interactive table.\"\n",
              "              style=\"display:none;\">\n",
              "        \n",
              "  <svg xmlns=\"http://www.w3.org/2000/svg\" height=\"24px\"viewBox=\"0 0 24 24\"\n",
              "       width=\"24px\">\n",
              "    <path d=\"M0 0h24v24H0V0z\" fill=\"none\"/>\n",
              "    <path d=\"M18.56 5.44l.94 2.06.94-2.06 2.06-.94-2.06-.94-.94-2.06-.94 2.06-2.06.94zm-11 1L8.5 8.5l.94-2.06 2.06-.94-2.06-.94L8.5 2.5l-.94 2.06-2.06.94zm10 10l.94 2.06.94-2.06 2.06-.94-2.06-.94-.94-2.06-.94 2.06-2.06.94z\"/><path d=\"M17.41 7.96l-1.37-1.37c-.4-.4-.92-.59-1.43-.59-.52 0-1.04.2-1.43.59L10.3 9.45l-7.72 7.72c-.78.78-.78 2.05 0 2.83L4 21.41c.39.39.9.59 1.41.59.51 0 1.02-.2 1.41-.59l7.78-7.78 2.81-2.81c.8-.78.8-2.07 0-2.86zM5.41 20L4 18.59l7.72-7.72 1.47 1.35L5.41 20z\"/>\n",
              "  </svg>\n",
              "      </button>\n",
              "      \n",
              "  <style>\n",
              "    .colab-df-container {\n",
              "      display:flex;\n",
              "      flex-wrap:wrap;\n",
              "      gap: 12px;\n",
              "    }\n",
              "\n",
              "    .colab-df-convert {\n",
              "      background-color: #E8F0FE;\n",
              "      border: none;\n",
              "      border-radius: 50%;\n",
              "      cursor: pointer;\n",
              "      display: none;\n",
              "      fill: #1967D2;\n",
              "      height: 32px;\n",
              "      padding: 0 0 0 0;\n",
              "      width: 32px;\n",
              "    }\n",
              "\n",
              "    .colab-df-convert:hover {\n",
              "      background-color: #E2EBFA;\n",
              "      box-shadow: 0px 1px 2px rgba(60, 64, 67, 0.3), 0px 1px 3px 1px rgba(60, 64, 67, 0.15);\n",
              "      fill: #174EA6;\n",
              "    }\n",
              "\n",
              "    [theme=dark] .colab-df-convert {\n",
              "      background-color: #3B4455;\n",
              "      fill: #D2E3FC;\n",
              "    }\n",
              "\n",
              "    [theme=dark] .colab-df-convert:hover {\n",
              "      background-color: #434B5C;\n",
              "      box-shadow: 0px 1px 3px 1px rgba(0, 0, 0, 0.15);\n",
              "      filter: drop-shadow(0px 1px 2px rgba(0, 0, 0, 0.3));\n",
              "      fill: #FFFFFF;\n",
              "    }\n",
              "  </style>\n",
              "\n",
              "      <script>\n",
              "        const buttonEl =\n",
              "          document.querySelector('#df-f303d5b5-85a4-4f35-aeac-2fb1b8ee6752 button.colab-df-convert');\n",
              "        buttonEl.style.display =\n",
              "          google.colab.kernel.accessAllowed ? 'block' : 'none';\n",
              "\n",
              "        async function convertToInteractive(key) {\n",
              "          const element = document.querySelector('#df-f303d5b5-85a4-4f35-aeac-2fb1b8ee6752');\n",
              "          const dataTable =\n",
              "            await google.colab.kernel.invokeFunction('convertToInteractive',\n",
              "                                                     [key], {});\n",
              "          if (!dataTable) return;\n",
              "\n",
              "          const docLinkHtml = 'Like what you see? Visit the ' +\n",
              "            '<a target=\"_blank\" href=https://colab.research.google.com/notebooks/data_table.ipynb>data table notebook</a>'\n",
              "            + ' to learn more about interactive tables.';\n",
              "          element.innerHTML = '';\n",
              "          dataTable['output_type'] = 'display_data';\n",
              "          await google.colab.output.renderOutput(dataTable, element);\n",
              "          const docLink = document.createElement('div');\n",
              "          docLink.innerHTML = docLinkHtml;\n",
              "          element.appendChild(docLink);\n",
              "        }\n",
              "      </script>\n",
              "    </div>\n",
              "  </div>\n",
              "  "
            ]
          },
          "metadata": {},
          "execution_count": 147
        }
      ],
      "source": [
        "val_predictions = model1.predict(X_val1).flatten()\n",
        "val_results = pd.DataFrame(data={'Val Predictions':val_predictions, 'Actuals':y_val1})\n",
        "val_results"
      ]
    },
    {
      "cell_type": "code",
      "execution_count": 148,
      "metadata": {
        "id": "xnVz1Um0934J",
        "colab": {
          "base_uri": "https://localhost:8080/",
          "height": 282
        },
        "outputId": "3793509d-bc1f-468b-a44c-541fcc0f587e"
      },
      "outputs": [
        {
          "output_type": "execute_result",
          "data": {
            "text/plain": [
              "<matplotlib.legend.Legend at 0x7fd7a0854d90>"
            ]
          },
          "metadata": {},
          "execution_count": 148
        },
        {
          "output_type": "display_data",
          "data": {
            "text/plain": [
              "<Figure size 432x288 with 1 Axes>"
            ],
            "image/png": "[encoded data removed]"
          },
          "metadata": {
            "needs_background": "light"
          }
        }
      ],
      "source": [
        "plt.plot(val_results['Val Predictions'][:100], label='Val Predictions(Conv 1h)')\n",
        "plt.plot(val_results['Actuals'][:100], label='Actual')\n",
        "plt.ylabel('[T (degC), normalised] ')\n",
        "plt.legend()"
      ]
    },
    {
      "cell_type": "code",
      "execution_count": 149,
      "metadata": {
        "id": "r-881qXP982G",
        "colab": {
          "base_uri": "https://localhost:8080/",
          "height": 441
        },
        "outputId": "b7b04db9-b7f0-4080-fa21-29a575fc572c"
      },
      "outputs": [
        {
          "output_type": "stream",
          "name": "stdout",
          "text": [
            "222/222 [==============================] - 0s 2ms/step\n"
          ]
        },
        {
          "output_type": "execute_result",
          "data": {
            "text/plain": [
              "      Test Predictions   Actuals\n",
              "0             0.961616  0.967930\n",
              "1             2.189769  2.192565\n",
              "2             1.161936  1.163321\n",
              "3             1.084947  1.101940\n",
              "4             1.044116  1.061994\n",
              "...                ...       ...\n",
              "7091          0.030354  0.033062\n",
              "7092         -0.156701 -0.166750\n",
              "7093         -0.170261 -0.160109\n",
              "7094         -0.059854 -0.059672\n",
              "7095         -0.244657 -0.249564\n",
              "\n",
              "[7096 rows x 2 columns]"
            ],
            "text/html": [
              "\n",
              "  <div id=\"df-b71019f7-6dd8-45a9-9e5e-9bbe6e10164a\">\n",
              "    <div class=\"colab-df-container\">\n",
              "      <div>\n",
              "<style scoped>\n",
              "    .dataframe tbody tr th:only-of-type {\n",
              "        vertical-align: middle;\n",
              "    }\n",
              "\n",
              "    .dataframe tbody tr th {\n",
              "        vertical-align: top;\n",
              "    }\n",
              "\n",
              "    .dataframe thead th {\n",
              "        text-align: right;\n",
              "    }\n",
              "</style>\n",
              "<table border=\"1\" class=\"dataframe\">\n",
              "  <thead>\n",
              "    <tr style=\"text-align: right;\">\n",
              "      <th></th>\n",
              "      <th>Test Predictions</th>\n",
              "      <th>Actuals</th>\n",
              "    </tr>\n",
              "  </thead>\n",
              "  <tbody>\n",
              "    <tr>\n",
              "      <th>0</th>\n",
              "      <td>0.961616</td>\n",
              "      <td>0.967930</td>\n",
              "    </tr>\n",
              "    <tr>\n",
              "      <th>1</th>\n",
              "      <td>2.189769</td>\n",
              "      <td>2.192565</td>\n",
              "    </tr>\n",
              "    <tr>\n",
              "      <th>2</th>\n",
              "      <td>1.161936</td>\n",
              "      <td>1.163321</td>\n",
              "    </tr>\n",
              "    <tr>\n",
              "      <th>3</th>\n",
              "      <td>1.084947</td>\n",
              "      <td>1.101940</td>\n",
              "    </tr>\n",
              "    <tr>\n",
              "      <th>4</th>\n",
              "      <td>1.044116</td>\n",
              "      <td>1.061994</td>\n",
              "    </tr>\n",
              "    <tr>\n",
              "      <th>...</th>\n",
              "      <td>...</td>\n",
              "      <td>...</td>\n",
              "    </tr>\n",
              "    <tr>\n",
              "      <th>7091</th>\n",
              "      <td>0.030354</td>\n",
              "      <td>0.033062</td>\n",
              "    </tr>\n",
              "    <tr>\n",
              "      <th>7092</th>\n",
              "      <td>-0.156701</td>\n",
              "      <td>-0.166750</td>\n",
              "    </tr>\n",
              "    <tr>\n",
              "      <th>7093</th>\n",
              "      <td>-0.170261</td>\n",
              "      <td>-0.160109</td>\n",
              "    </tr>\n",
              "    <tr>\n",
              "      <th>7094</th>\n",
              "      <td>-0.059854</td>\n",
              "      <td>-0.059672</td>\n",
              "    </tr>\n",
              "    <tr>\n",
              "      <th>7095</th>\n",
              "      <td>-0.244657</td>\n",
              "      <td>-0.249564</td>\n",
              "    </tr>\n",
              "  </tbody>\n",
              "</table>\n",
              "<p>7096 rows × 2 columns</p>\n",
              "</div>\n",
              "      <button class=\"colab-df-convert\" onclick=\"convertToInteractive('df-b71019f7-6dd8-45a9-9e5e-9bbe6e10164a')\"\n",
              "              title=\"Convert this dataframe to an interactive table.\"\n",
              "              style=\"display:none;\">\n",
              "        \n",
              "  <svg xmlns=\"http://www.w3.org/2000/svg\" height=\"24px\"viewBox=\"0 0 24 24\"\n",
              "       width=\"24px\">\n",
              "    <path d=\"M0 0h24v24H0V0z\" fill=\"none\"/>\n",
              "    <path d=\"M18.56 5.44l.94 2.06.94-2.06 2.06-.94-2.06-.94-.94-2.06-.94 2.06-2.06.94zm-11 1L8.5 8.5l.94-2.06 2.06-.94-2.06-.94L8.5 2.5l-.94 2.06-2.06.94zm10 10l.94 2.06.94-2.06 2.06-.94-2.06-.94-.94-2.06-.94 2.06-2.06.94z\"/><path d=\"M17.41 7.96l-1.37-1.37c-.4-.4-.92-.59-1.43-.59-.52 0-1.04.2-1.43.59L10.3 9.45l-7.72 7.72c-.78.78-.78 2.05 0 2.83L4 21.41c.39.39.9.59 1.41.59.51 0 1.02-.2 1.41-.59l7.78-7.78 2.81-2.81c.8-.78.8-2.07 0-2.86zM5.41 20L4 18.59l7.72-7.72 1.47 1.35L5.41 20z\"/>\n",
              "  </svg>\n",
              "      </button>\n",
              "      \n",
              "  <style>\n",
              "    .colab-df-container {\n",
              "      display:flex;\n",
              "      flex-wrap:wrap;\n",
              "      gap: 12px;\n",
              "    }\n",
              "\n",
              "    .colab-df-convert {\n",
              "      background-color: #E8F0FE;\n",
              "      border: none;\n",
              "      border-radius: 50%;\n",
              "      cursor: pointer;\n",
              "      display: none;\n",
              "      fill: #1967D2;\n",
              "      height: 32px;\n",
              "      padding: 0 0 0 0;\n",
              "      width: 32px;\n",
              "    }\n",
              "\n",
              "    .colab-df-convert:hover {\n",
              "      background-color: #E2EBFA;\n",
              "      box-shadow: 0px 1px 2px rgba(60, 64, 67, 0.3), 0px 1px 3px 1px rgba(60, 64, 67, 0.15);\n",
              "      fill: #174EA6;\n",
              "    }\n",
              "\n",
              "    [theme=dark] .colab-df-convert {\n",
              "      background-color: #3B4455;\n",
              "      fill: #D2E3FC;\n",
              "    }\n",
              "\n",
              "    [theme=dark] .colab-df-convert:hover {\n",
              "      background-color: #434B5C;\n",
              "      box-shadow: 0px 1px 3px 1px rgba(0, 0, 0, 0.15);\n",
              "      filter: drop-shadow(0px 1px 2px rgba(0, 0, 0, 0.3));\n",
              "      fill: #FFFFFF;\n",
              "    }\n",
              "  </style>\n",
              "\n",
              "      <script>\n",
              "        const buttonEl =\n",
              "          document.querySelector('#df-b71019f7-6dd8-45a9-9e5e-9bbe6e10164a button.colab-df-convert');\n",
              "        buttonEl.style.display =\n",
              "          google.colab.kernel.accessAllowed ? 'block' : 'none';\n",
              "\n",
              "        async function convertToInteractive(key) {\n",
              "          const element = document.querySelector('#df-b71019f7-6dd8-45a9-9e5e-9bbe6e10164a');\n",
              "          const dataTable =\n",
              "            await google.colab.kernel.invokeFunction('convertToInteractive',\n",
              "                                                     [key], {});\n",
              "          if (!dataTable) return;\n",
              "\n",
              "          const docLinkHtml = 'Like what you see? Visit the ' +\n",
              "            '<a target=\"_blank\" href=https://colab.research.google.com/notebooks/data_table.ipynb>data table notebook</a>'\n",
              "            + ' to learn more about interactive tables.';\n",
              "          element.innerHTML = '';\n",
              "          dataTable['output_type'] = 'display_data';\n",
              "          await google.colab.output.renderOutput(dataTable, element);\n",
              "          const docLink = document.createElement('div');\n",
              "          docLink.innerHTML = docLinkHtml;\n",
              "          element.appendChild(docLink);\n",
              "        }\n",
              "      </script>\n",
              "    </div>\n",
              "  </div>\n",
              "  "
            ]
          },
          "metadata": {},
          "execution_count": 149
        }
      ],
      "source": [
        "test_predictions = conv_model.predict(X_test1).flatten()\n",
        "test_results = pd.DataFrame(data={'Test Predictions':test_predictions, 'Actuals':y_test1})\n",
        "test_results"
      ]
    },
    {
      "cell_type": "code",
      "execution_count": 150,
      "metadata": {
        "id": "IBsoLH2P-CPU",
        "colab": {
          "base_uri": "https://localhost:8080/",
          "height": 282
        },
        "outputId": "bcdd5208-4dee-44c7-d78f-a47dc3e0ed62"
      },
      "outputs": [
        {
          "output_type": "execute_result",
          "data": {
            "text/plain": [
              "<matplotlib.legend.Legend at 0x7fd7a94722d0>"
            ]
          },
          "metadata": {},
          "execution_count": 150
        },
        {
          "output_type": "display_data",
          "data": {
            "text/plain": [
              "<Figure size 432x288 with 1 Axes>"
            ],
            "image/png": "[encoded data removed]"
          },
          "metadata": {
            "needs_background": "light"
          }
        }
      ],
      "source": [
        "plt.plot(test_results['Test Predictions'][:100], label='Test Predictions(Conv 1h)')\n",
        "plt.plot(test_results['Actuals'][:100], label='Actual')\n",
        "plt.ylabel('[T (degC), normalised] ')\n",
        "plt.legend()"
      ]
    },
    {
      "cell_type": "code",
      "execution_count": 151,
      "metadata": {
        "id": "86hmkK-EzB2l",
        "colab": {
          "base_uri": "https://localhost:8080/"
        },
        "outputId": "0cce38c2-40af-48f2-b436-bbf366c83cb6"
      },
      "outputs": [
        {
          "output_type": "stream",
          "name": "stdout",
          "text": [
            "Model: \"sequential_6\"\n",
            "_________________________________________________________________\n",
            " Layer (type)                Output Shape              Param #   \n",
            "=================================================================\n",
            " lstm_1 (LSTM)               (None, 64)                16896     \n",
            "                                                                 \n",
            " dense_12 (Dense)            (None, 8)                 520       \n",
            "                                                                 \n",
            " dense_13 (Dense)            (None, 1)                 9         \n",
            "                                                                 \n",
            "=================================================================\n",
            "Total params: 17,425\n",
            "Trainable params: 17,425\n",
            "Non-trainable params: 0\n",
            "_________________________________________________________________\n"
          ]
        }
      ],
      "source": [
        "# LSTM Model\n",
        "\n",
        "lstm_model = Sequential()\n",
        "lstm_model.add(InputLayer((5, 1)))\n",
        "# model1.add(Reshape(target_shape=(5, 1)))\n",
        "lstm_model.add(LSTM(64))\n",
        "# lstm_model.add(LSTM(input_shape = (WINDOW_SIZE, 1), return_sequences = True, units = 100))\n",
        "# lstm_model.add(LSTM(input_shape = (WINDOW_SIZE, 1), units = 100))\n",
        "lstm_model.add(Dense(8, 'relu'))\n",
        "lstm_model.add(Dense(1))\n",
        "\n",
        "lstm_model.summary()"
      ]
    },
    {
      "cell_type": "code",
      "execution_count": 152,
      "metadata": {
        "id": "vjwJeTMf8iAc"
      },
      "outputs": [],
      "source": [
        "lstm_model.compile(loss=MeanSquaredError(), optimizer=Adam(learning_rate=0.0001), metrics=[tf.keras.metrics.RootMeanSquaredError()])"
      ]
    },
    {
      "cell_type": "code",
      "execution_count": 153,
      "metadata": {
        "colab": {
          "base_uri": "https://localhost:8080/"
        },
        "id": "jTrAmyxC8kvJ",
        "outputId": "293809bc-89fe-42b1-934f-cd42e4204ae1"
      },
      "outputs": [
        {
          "output_type": "stream",
          "name": "stdout",
          "text": [
            "Epoch 1/20\n",
            "1553/1553 [==============================] - 14s 7ms/step - loss: 0.3822 - root_mean_squared_error: 0.6182 - val_loss: 0.2095 - val_root_mean_squared_error: 0.4577\n",
            "Epoch 2/20\n",
            "1553/1553 [==============================] - 10s 7ms/step - loss: 0.1873 - root_mean_squared_error: 0.4328 - val_loss: 0.1693 - val_root_mean_squared_error: 0.4115\n",
            "Epoch 3/20\n",
            "1553/1553 [==============================] - 10s 7ms/step - loss: 0.1549 - root_mean_squared_error: 0.3936 - val_loss: 0.1397 - val_root_mean_squared_error: 0.3738\n",
            "Epoch 4/20\n",
            "1553/1553 [==============================] - 10s 7ms/step - loss: 0.1220 - root_mean_squared_error: 0.3493 - val_loss: 0.1052 - val_root_mean_squared_error: 0.3243\n",
            "Epoch 5/20\n",
            "1553/1553 [==============================] - 10s 7ms/step - loss: 0.0911 - root_mean_squared_error: 0.3019 - val_loss: 0.0787 - val_root_mean_squared_error: 0.2806\n",
            "Epoch 6/20\n",
            "1553/1553 [==============================] - 10s 7ms/step - loss: 0.0717 - root_mean_squared_error: 0.2678 - val_loss: 0.0667 - val_root_mean_squared_error: 0.2582\n",
            "Epoch 7/20\n",
            "1553/1553 [==============================] - 10s 7ms/step - loss: 0.0606 - root_mean_squared_error: 0.2462 - val_loss: 0.0566 - val_root_mean_squared_error: 0.2380\n",
            "Epoch 8/20\n",
            "1553/1553 [==============================] - 10s 7ms/step - loss: 0.0538 - root_mean_squared_error: 0.2320 - val_loss: 0.0499 - val_root_mean_squared_error: 0.2233\n",
            "Epoch 9/20\n",
            "1553/1553 [==============================] - 10s 7ms/step - loss: 0.0477 - root_mean_squared_error: 0.2183 - val_loss: 0.0470 - val_root_mean_squared_error: 0.2168\n",
            "Epoch 10/20\n",
            "1553/1553 [==============================] - 11s 7ms/step - loss: 0.0415 - root_mean_squared_error: 0.2037 - val_loss: 0.0382 - val_root_mean_squared_error: 0.1954\n",
            "Epoch 11/20\n",
            "1553/1553 [==============================] - 11s 7ms/step - loss: 0.0356 - root_mean_squared_error: 0.1887 - val_loss: 0.0338 - val_root_mean_squared_error: 0.1839\n",
            "Epoch 12/20\n",
            "1553/1553 [==============================] - 11s 7ms/step - loss: 0.0310 - root_mean_squared_error: 0.1759 - val_loss: 0.0298 - val_root_mean_squared_error: 0.1726\n",
            "Epoch 13/20\n",
            "1553/1553 [==============================] - 11s 7ms/step - loss: 0.0277 - root_mean_squared_error: 0.1665 - val_loss: 0.0255 - val_root_mean_squared_error: 0.1598\n",
            "Epoch 14/20\n",
            "1553/1553 [==============================] - 10s 7ms/step - loss: 0.0245 - root_mean_squared_error: 0.1565 - val_loss: 0.0230 - val_root_mean_squared_error: 0.1517\n",
            "Epoch 15/20\n",
            "1553/1553 [==============================] - 11s 7ms/step - loss: 0.0221 - root_mean_squared_error: 0.1486 - val_loss: 0.0208 - val_root_mean_squared_error: 0.1444\n",
            "Epoch 16/20\n",
            "1553/1553 [==============================] - 10s 7ms/step - loss: 0.0202 - root_mean_squared_error: 0.1423 - val_loss: 0.0213 - val_root_mean_squared_error: 0.1461\n",
            "Epoch 17/20\n",
            "1553/1553 [==============================] - 11s 7ms/step - loss: 0.0187 - root_mean_squared_error: 0.1368 - val_loss: 0.0181 - val_root_mean_squared_error: 0.1346\n",
            "Epoch 18/20\n",
            "1553/1553 [==============================] - 13s 8ms/step - loss: 0.0169 - root_mean_squared_error: 0.1300 - val_loss: 0.0152 - val_root_mean_squared_error: 0.1234\n",
            "Epoch 19/20\n",
            "1553/1553 [==============================] - 11s 7ms/step - loss: 0.0144 - root_mean_squared_error: 0.1200 - val_loss: 0.0135 - val_root_mean_squared_error: 0.1163\n",
            "Epoch 20/20\n",
            "1553/1553 [==============================] - 10s 7ms/step - loss: 0.0126 - root_mean_squared_error: 0.1123 - val_loss: 0.0133 - val_root_mean_squared_error: 0.1155\n"
          ]
        }
      ],
      "source": [
        "history = lstm_model.fit(X_train1, y_train1, validation_data=(X_val1, y_val1), epochs=20, callbacks=[cp1])"
      ]
    },
    {
      "cell_type": "code",
      "execution_count": 154,
      "metadata": {
        "colab": {
          "base_uri": "https://localhost:8080/"
        },
        "id": "R7Zru8Nv8zTO",
        "outputId": "5668b58d-c780-4604-918d-048f2e962fc6"
      },
      "outputs": [
        {
          "output_type": "stream",
          "name": "stdout",
          "text": [
            "444/444 [==============================] - 1s 3ms/step - loss: 0.0133 - root_mean_squared_error: 0.1155\n",
            "222/222 [==============================] - 1s 3ms/step - loss: 0.0133 - root_mean_squared_error: 0.1153\n"
          ]
        },
        {
          "output_type": "execute_result",
          "data": {
            "text/plain": [
              "{'MLP 1h': [0.00916055403649807, 0.09571078419685364],\n",
              " 'Convolutional 1h': [7.421489135595039e-05, 0.008614806458353996],\n",
              " 'LSTM 1h': [0.013290795497596264, 0.1152857095003128]}"
            ]
          },
          "metadata": {},
          "execution_count": 154
        }
      ],
      "source": [
        "val_performance['LSTM 1h'] = lstm_model.evaluate(X_val1, y_val1)\n",
        "performance['LSTM 1h'] = lstm_model.evaluate(X_test1, y_test1)\n",
        "\n",
        "performance"
      ]
    },
    {
      "cell_type": "code",
      "source": [
        "plt.plot(history.history['root_mean_squared_error'], '.-', label='Training RMSE (LSTM)')\n",
        "plt.plot(history.history['val_root_mean_squared_error'], '.-', label='Val RMSE (LSTM)')\n",
        "plt.ylabel('root_mean_squared_error')\n",
        "plt.xlabel('epochs')\n",
        "plt.legend()\n",
        "plt.show()"
      ],
      "metadata": {
        "colab": {
          "base_uri": "https://localhost:8080/",
          "height": 279
        },
        "id": "aBRC6RyjUOw_",
        "outputId": "6f0d1f80-6819-4626-ca53-8d31ca3490a1"
      },
      "execution_count": 155,
      "outputs": [
        {
          "output_type": "display_data",
          "data": {
            "text/plain": [
              "<Figure size 432x288 with 1 Axes>"
            ],
            "image/png": "[encoded data removed]"
          },
          "metadata": {
            "needs_background": "light"
          }
        }
      ]
    },
    {
      "cell_type": "code",
      "execution_count": 156,
      "metadata": {
        "colab": {
          "base_uri": "https://localhost:8080/"
        },
        "id": "8HpoPZd7QMS2",
        "outputId": "5fd17ebe-a8b7-40e0-ae44-eca502db1915"
      },
      "outputs": [
        {
          "output_type": "execute_result",
          "data": {
            "text/plain": [
              "{'MLP 1h': [0.009186048060655594, 0.09584387391805649],\n",
              " 'Convolutional 1h': [7.414424908347428e-05, 0.008610705845057964],\n",
              " 'LSTM 1h': [0.013336661271750927, 0.11548446118831635]}"
            ]
          },
          "metadata": {},
          "execution_count": 156
        }
      ],
      "source": [
        "val_performance"
      ]
    },
    {
      "cell_type": "code",
      "execution_count": 157,
      "metadata": {
        "id": "3JFnRHyg-PjP",
        "colab": {
          "base_uri": "https://localhost:8080/",
          "height": 441
        },
        "outputId": "4eb2f249-d14d-4c70-a7bc-98154374da3e"
      },
      "outputs": [
        {
          "output_type": "stream",
          "name": "stdout",
          "text": [
            "1553/1553 [==============================] - 5s 3ms/step\n"
          ]
        },
        {
          "output_type": "execute_result",
          "data": {
            "text/plain": [
              "       Train Predictions   Actuals\n",
              "0              -1.588048 -1.502865\n",
              "1              -0.254688  0.166181\n",
              "2              -0.259286 -0.285700\n",
              "3               0.038787 -0.007415\n",
              "4               0.723126  0.701682\n",
              "...                  ...       ...\n",
              "49660          -1.683239 -1.691774\n",
              "49661          -1.751522 -1.711435\n",
              "49662          -1.493452 -1.519250\n",
              "49663          -1.572785 -1.588064\n",
              "49664          -1.636350 -1.593291\n",
              "\n",
              "[49665 rows x 2 columns]"
            ],
            "text/html": [
              "\n",
              "  <div id=\"df-657e5704-459e-480d-bd58-14040bb7ace9\">\n",
              "    <div class=\"colab-df-container\">\n",
              "      <div>\n",
              "<style scoped>\n",
              "    .dataframe tbody tr th:only-of-type {\n",
              "        vertical-align: middle;\n",
              "    }\n",
              "\n",
              "    .dataframe tbody tr th {\n",
              "        vertical-align: top;\n",
              "    }\n",
              "\n",
              "    .dataframe thead th {\n",
              "        text-align: right;\n",
              "    }\n",
              "</style>\n",
              "<table border=\"1\" class=\"dataframe\">\n",
              "  <thead>\n",
              "    <tr style=\"text-align: right;\">\n",
              "      <th></th>\n",
              "      <th>Train Predictions</th>\n",
              "      <th>Actuals</th>\n",
              "    </tr>\n",
              "  </thead>\n",
              "  <tbody>\n",
              "    <tr>\n",
              "      <th>0</th>\n",
              "      <td>-1.588048</td>\n",
              "      <td>-1.502865</td>\n",
              "    </tr>\n",
              "    <tr>\n",
              "      <th>1</th>\n",
              "      <td>-0.254688</td>\n",
              "      <td>0.166181</td>\n",
              "    </tr>\n",
              "    <tr>\n",
              "      <th>2</th>\n",
              "      <td>-0.259286</td>\n",
              "      <td>-0.285700</td>\n",
              "    </tr>\n",
              "    <tr>\n",
              "      <th>3</th>\n",
              "      <td>0.038787</td>\n",
              "      <td>-0.007415</td>\n",
              "    </tr>\n",
              "    <tr>\n",
              "      <th>4</th>\n",
              "      <td>0.723126</td>\n",
              "      <td>0.701682</td>\n",
              "    </tr>\n",
              "    <tr>\n",
              "      <th>...</th>\n",
              "      <td>...</td>\n",
              "      <td>...</td>\n",
              "    </tr>\n",
              "    <tr>\n",
              "      <th>49660</th>\n",
              "      <td>-1.683239</td>\n",
              "      <td>-1.691774</td>\n",
              "    </tr>\n",
              "    <tr>\n",
              "      <th>49661</th>\n",
              "      <td>-1.751522</td>\n",
              "      <td>-1.711435</td>\n",
              "    </tr>\n",
              "    <tr>\n",
              "      <th>49662</th>\n",
              "      <td>-1.493452</td>\n",
              "      <td>-1.519250</td>\n",
              "    </tr>\n",
              "    <tr>\n",
              "      <th>49663</th>\n",
              "      <td>-1.572785</td>\n",
              "      <td>-1.588064</td>\n",
              "    </tr>\n",
              "    <tr>\n",
              "      <th>49664</th>\n",
              "      <td>-1.636350</td>\n",
              "      <td>-1.593291</td>\n",
              "    </tr>\n",
              "  </tbody>\n",
              "</table>\n",
              "<p>49665 rows × 2 columns</p>\n",
              "</div>\n",
              "      <button class=\"colab-df-convert\" onclick=\"convertToInteractive('df-657e5704-459e-480d-bd58-14040bb7ace9')\"\n",
              "              title=\"Convert this dataframe to an interactive table.\"\n",
              "              style=\"display:none;\">\n",
              "        \n",
              "  <svg xmlns=\"http://www.w3.org/2000/svg\" height=\"24px\"viewBox=\"0 0 24 24\"\n",
              "       width=\"24px\">\n",
              "    <path d=\"M0 0h24v24H0V0z\" fill=\"none\"/>\n",
              "    <path d=\"M18.56 5.44l.94 2.06.94-2.06 2.06-.94-2.06-.94-.94-2.06-.94 2.06-2.06.94zm-11 1L8.5 8.5l.94-2.06 2.06-.94-2.06-.94L8.5 2.5l-.94 2.06-2.06.94zm10 10l.94 2.06.94-2.06 2.06-.94-2.06-.94-.94-2.06-.94 2.06-2.06.94z\"/><path d=\"M17.41 7.96l-1.37-1.37c-.4-.4-.92-.59-1.43-.59-.52 0-1.04.2-1.43.59L10.3 9.45l-7.72 7.72c-.78.78-.78 2.05 0 2.83L4 21.41c.39.39.9.59 1.41.59.51 0 1.02-.2 1.41-.59l7.78-7.78 2.81-2.81c.8-.78.8-2.07 0-2.86zM5.41 20L4 18.59l7.72-7.72 1.47 1.35L5.41 20z\"/>\n",
              "  </svg>\n",
              "      </button>\n",
              "      \n",
              "  <style>\n",
              "    .colab-df-container {\n",
              "      display:flex;\n",
              "      flex-wrap:wrap;\n",
              "      gap: 12px;\n",
              "    }\n",
              "\n",
              "    .colab-df-convert {\n",
              "      background-color: #E8F0FE;\n",
              "      border: none;\n",
              "      border-radius: 50%;\n",
              "      cursor: pointer;\n",
              "      display: none;\n",
              "      fill: #1967D2;\n",
              "      height: 32px;\n",
              "      padding: 0 0 0 0;\n",
              "      width: 32px;\n",
              "    }\n",
              "\n",
              "    .colab-df-convert:hover {\n",
              "      background-color: #E2EBFA;\n",
              "      box-shadow: 0px 1px 2px rgba(60, 64, 67, 0.3), 0px 1px 3px 1px rgba(60, 64, 67, 0.15);\n",
              "      fill: #174EA6;\n",
              "    }\n",
              "\n",
              "    [theme=dark] .colab-df-convert {\n",
              "      background-color: #3B4455;\n",
              "      fill: #D2E3FC;\n",
              "    }\n",
              "\n",
              "    [theme=dark] .colab-df-convert:hover {\n",
              "      background-color: #434B5C;\n",
              "      box-shadow: 0px 1px 3px 1px rgba(0, 0, 0, 0.15);\n",
              "      filter: drop-shadow(0px 1px 2px rgba(0, 0, 0, 0.3));\n",
              "      fill: #FFFFFF;\n",
              "    }\n",
              "  </style>\n",
              "\n",
              "      <script>\n",
              "        const buttonEl =\n",
              "          document.querySelector('#df-657e5704-459e-480d-bd58-14040bb7ace9 button.colab-df-convert');\n",
              "        buttonEl.style.display =\n",
              "          google.colab.kernel.accessAllowed ? 'block' : 'none';\n",
              "\n",
              "        async function convertToInteractive(key) {\n",
              "          const element = document.querySelector('#df-657e5704-459e-480d-bd58-14040bb7ace9');\n",
              "          const dataTable =\n",
              "            await google.colab.kernel.invokeFunction('convertToInteractive',\n",
              "                                                     [key], {});\n",
              "          if (!dataTable) return;\n",
              "\n",
              "          const docLinkHtml = 'Like what you see? Visit the ' +\n",
              "            '<a target=\"_blank\" href=https://colab.research.google.com/notebooks/data_table.ipynb>data table notebook</a>'\n",
              "            + ' to learn more about interactive tables.';\n",
              "          element.innerHTML = '';\n",
              "          dataTable['output_type'] = 'display_data';\n",
              "          await google.colab.output.renderOutput(dataTable, element);\n",
              "          const docLink = document.createElement('div');\n",
              "          docLink.innerHTML = docLinkHtml;\n",
              "          element.appendChild(docLink);\n",
              "        }\n",
              "      </script>\n",
              "    </div>\n",
              "  </div>\n",
              "  "
            ]
          },
          "metadata": {},
          "execution_count": 157
        }
      ],
      "source": [
        "train_predictions = lstm_model.predict(X_train1).flatten()\n",
        "train_results = pd.DataFrame(data={'Train Predictions':train_predictions, 'Actuals':y_train1})\n",
        "train_results"
      ]
    },
    {
      "cell_type": "code",
      "execution_count": 158,
      "metadata": {
        "colab": {
          "base_uri": "https://localhost:8080/",
          "height": 282
        },
        "id": "yK7g5Oyv-Pw5",
        "outputId": "866f1a3a-81bd-490f-d8a1-5aac774fd0bb"
      },
      "outputs": [
        {
          "output_type": "execute_result",
          "data": {
            "text/plain": [
              "<matplotlib.legend.Legend at 0x7fd7a1a92850>"
            ]
          },
          "metadata": {},
          "execution_count": 158
        },
        {
          "output_type": "display_data",
          "data": {
            "text/plain": [
              "<Figure size 432x288 with 1 Axes>"
            ],
            "image/png": "[encoded data removed]"
          },
          "metadata": {
            "needs_background": "light"
          }
        }
      ],
      "source": [
        "plt.plot(train_results['Train Predictions'][50:150], label='Train Predictions(LSTM 1h)')\n",
        "plt.plot(train_results['Actuals'][50:150], label='Actual')\n",
        "plt.ylabel('[T (degC), normalised] ')\n",
        "plt.legend()"
      ]
    },
    {
      "cell_type": "code",
      "execution_count": 159,
      "metadata": {
        "colab": {
          "base_uri": "https://localhost:8080/",
          "height": 441
        },
        "id": "kcY3KIUz-P7c",
        "outputId": "8fc5d2a5-b639-4a64-d2d2-ce4eacee882d"
      },
      "outputs": [
        {
          "output_type": "stream",
          "name": "stdout",
          "text": [
            "444/444 [==============================] - 1s 3ms/step\n"
          ]
        },
        {
          "output_type": "execute_result",
          "data": {
            "text/plain": [
              "       Val Predictions   Actuals\n",
              "0            -0.723505 -0.802580\n",
              "1             0.947231  0.806638\n",
              "2            -0.180490 -0.229989\n",
              "3             0.484349  0.451378\n",
              "4             0.914757  0.945608\n",
              "...                ...       ...\n",
              "14185        -1.640704 -1.566101\n",
              "14186        -1.296005 -1.117608\n",
              "14187         1.263818  2.036404\n",
              "14188        -0.185004 -0.232912\n",
              "14189         0.353728  0.321090\n",
              "\n",
              "[14190 rows x 2 columns]"
            ],
            "text/html": [
              "\n",
              "  <div id=\"df-bb6d1db7-548e-441d-b55f-829b84ca17d0\">\n",
              "    <div class=\"colab-df-container\">\n",
              "      <div>\n",
              "<style scoped>\n",
              "    .dataframe tbody tr th:only-of-type {\n",
              "        vertical-align: middle;\n",
              "    }\n",
              "\n",
              "    .dataframe tbody tr th {\n",
              "        vertical-align: top;\n",
              "    }\n",
              "\n",
              "    .dataframe thead th {\n",
              "        text-align: right;\n",
              "    }\n",
              "</style>\n",
              "<table border=\"1\" class=\"dataframe\">\n",
              "  <thead>\n",
              "    <tr style=\"text-align: right;\">\n",
              "      <th></th>\n",
              "      <th>Val Predictions</th>\n",
              "      <th>Actuals</th>\n",
              "    </tr>\n",
              "  </thead>\n",
              "  <tbody>\n",
              "    <tr>\n",
              "      <th>0</th>\n",
              "      <td>-0.723505</td>\n",
              "      <td>-0.802580</td>\n",
              "    </tr>\n",
              "    <tr>\n",
              "      <th>1</th>\n",
              "      <td>0.947231</td>\n",
              "      <td>0.806638</td>\n",
              "    </tr>\n",
              "    <tr>\n",
              "      <th>2</th>\n",
              "      <td>-0.180490</td>\n",
              "      <td>-0.229989</td>\n",
              "    </tr>\n",
              "    <tr>\n",
              "      <th>3</th>\n",
              "      <td>0.484349</td>\n",
              "      <td>0.451378</td>\n",
              "    </tr>\n",
              "    <tr>\n",
              "      <th>4</th>\n",
              "      <td>0.914757</td>\n",
              "      <td>0.945608</td>\n",
              "    </tr>\n",
              "    <tr>\n",
              "      <th>...</th>\n",
              "      <td>...</td>\n",
              "      <td>...</td>\n",
              "    </tr>\n",
              "    <tr>\n",
              "      <th>14185</th>\n",
              "      <td>-1.640704</td>\n",
              "      <td>-1.566101</td>\n",
              "    </tr>\n",
              "    <tr>\n",
              "      <th>14186</th>\n",
              "      <td>-1.296005</td>\n",
              "      <td>-1.117608</td>\n",
              "    </tr>\n",
              "    <tr>\n",
              "      <th>14187</th>\n",
              "      <td>1.263818</td>\n",
              "      <td>2.036404</td>\n",
              "    </tr>\n",
              "    <tr>\n",
              "      <th>14188</th>\n",
              "      <td>-0.185004</td>\n",
              "      <td>-0.232912</td>\n",
              "    </tr>\n",
              "    <tr>\n",
              "      <th>14189</th>\n",
              "      <td>0.353728</td>\n",
              "      <td>0.321090</td>\n",
              "    </tr>\n",
              "  </tbody>\n",
              "</table>\n",
              "<p>14190 rows × 2 columns</p>\n",
              "</div>\n",
              "      <button class=\"colab-df-convert\" onclick=\"convertToInteractive('df-bb6d1db7-548e-441d-b55f-829b84ca17d0')\"\n",
              "              title=\"Convert this dataframe to an interactive table.\"\n",
              "              style=\"display:none;\">\n",
              "        \n",
              "  <svg xmlns=\"http://www.w3.org/2000/svg\" height=\"24px\"viewBox=\"0 0 24 24\"\n",
              "       width=\"24px\">\n",
              "    <path d=\"M0 0h24v24H0V0z\" fill=\"none\"/>\n",
              "    <path d=\"M18.56 5.44l.94 2.06.94-2.06 2.06-.94-2.06-.94-.94-2.06-.94 2.06-2.06.94zm-11 1L8.5 8.5l.94-2.06 2.06-.94-2.06-.94L8.5 2.5l-.94 2.06-2.06.94zm10 10l.94 2.06.94-2.06 2.06-.94-2.06-.94-.94-2.06-.94 2.06-2.06.94z\"/><path d=\"M17.41 7.96l-1.37-1.37c-.4-.4-.92-.59-1.43-.59-.52 0-1.04.2-1.43.59L10.3 9.45l-7.72 7.72c-.78.78-.78 2.05 0 2.83L4 21.41c.39.39.9.59 1.41.59.51 0 1.02-.2 1.41-.59l7.78-7.78 2.81-2.81c.8-.78.8-2.07 0-2.86zM5.41 20L4 18.59l7.72-7.72 1.47 1.35L5.41 20z\"/>\n",
              "  </svg>\n",
              "      </button>\n",
              "      \n",
              "  <style>\n",
              "    .colab-df-container {\n",
              "      display:flex;\n",
              "      flex-wrap:wrap;\n",
              "      gap: 12px;\n",
              "    }\n",
              "\n",
              "    .colab-df-convert {\n",
              "      background-color: #E8F0FE;\n",
              "      border: none;\n",
              "      border-radius: 50%;\n",
              "      cursor: pointer;\n",
              "      display: none;\n",
              "      fill: #1967D2;\n",
              "      height: 32px;\n",
              "      padding: 0 0 0 0;\n",
              "      width: 32px;\n",
              "    }\n",
              "\n",
              "    .colab-df-convert:hover {\n",
              "      background-color: #E2EBFA;\n",
              "      box-shadow: 0px 1px 2px rgba(60, 64, 67, 0.3), 0px 1px 3px 1px rgba(60, 64, 67, 0.15);\n",
              "      fill: #174EA6;\n",
              "    }\n",
              "\n",
              "    [theme=dark] .colab-df-convert {\n",
              "      background-color: #3B4455;\n",
              "      fill: #D2E3FC;\n",
              "    }\n",
              "\n",
              "    [theme=dark] .colab-df-convert:hover {\n",
              "      background-color: #434B5C;\n",
              "      box-shadow: 0px 1px 3px 1px rgba(0, 0, 0, 0.15);\n",
              "      filter: drop-shadow(0px 1px 2px rgba(0, 0, 0, 0.3));\n",
              "      fill: #FFFFFF;\n",
              "    }\n",
              "  </style>\n",
              "\n",
              "      <script>\n",
              "        const buttonEl =\n",
              "          document.querySelector('#df-bb6d1db7-548e-441d-b55f-829b84ca17d0 button.colab-df-convert');\n",
              "        buttonEl.style.display =\n",
              "          google.colab.kernel.accessAllowed ? 'block' : 'none';\n",
              "\n",
              "        async function convertToInteractive(key) {\n",
              "          const element = document.querySelector('#df-bb6d1db7-548e-441d-b55f-829b84ca17d0');\n",
              "          const dataTable =\n",
              "            await google.colab.kernel.invokeFunction('convertToInteractive',\n",
              "                                                     [key], {});\n",
              "          if (!dataTable) return;\n",
              "\n",
              "          const docLinkHtml = 'Like what you see? Visit the ' +\n",
              "            '<a target=\"_blank\" href=https://colab.research.google.com/notebooks/data_table.ipynb>data table notebook</a>'\n",
              "            + ' to learn more about interactive tables.';\n",
              "          element.innerHTML = '';\n",
              "          dataTable['output_type'] = 'display_data';\n",
              "          await google.colab.output.renderOutput(dataTable, element);\n",
              "          const docLink = document.createElement('div');\n",
              "          docLink.innerHTML = docLinkHtml;\n",
              "          element.appendChild(docLink);\n",
              "        }\n",
              "      </script>\n",
              "    </div>\n",
              "  </div>\n",
              "  "
            ]
          },
          "metadata": {},
          "execution_count": 159
        }
      ],
      "source": [
        "val_predictions = lstm_model.predict(X_val1).flatten()\n",
        "val_results = pd.DataFrame(data={'Val Predictions':val_predictions, 'Actuals':y_val1})\n",
        "val_results"
      ]
    },
    {
      "cell_type": "code",
      "execution_count": 160,
      "metadata": {
        "colab": {
          "base_uri": "https://localhost:8080/",
          "height": 282
        },
        "id": "MmDcc4Hw-QF5",
        "outputId": "03a8de20-7448-4cc8-f1e9-c20ef7f3c3c8"
      },
      "outputs": [
        {
          "output_type": "execute_result",
          "data": {
            "text/plain": [
              "<matplotlib.legend.Legend at 0x7fd79fff9650>"
            ]
          },
          "metadata": {},
          "execution_count": 160
        },
        {
          "output_type": "display_data",
          "data": {
            "text/plain": [
              "<Figure size 432x288 with 1 Axes>"
            ],
            "image/png": "[encoded data removed]"
          },
          "metadata": {
            "needs_background": "light"
          }
        }
      ],
      "source": [
        "plt.plot(val_results['Val Predictions'][:100], label='Val Predictions(LSTM 1h)')\n",
        "plt.plot(val_results['Actuals'][:100], label='Actual')\n",
        "plt.ylabel('[T (degC), normalised] ')\n",
        "plt.legend()"
      ]
    },
    {
      "cell_type": "code",
      "execution_count": 161,
      "metadata": {
        "colab": {
          "base_uri": "https://localhost:8080/",
          "height": 441
        },
        "id": "X9IH5JCz-QQ1",
        "outputId": "5b5ec227-50bb-4622-8a8f-4aa09755af36"
      },
      "outputs": [
        {
          "output_type": "stream",
          "name": "stdout",
          "text": [
            "222/222 [==============================] - 1s 3ms/step\n"
          ]
        },
        {
          "output_type": "execute_result",
          "data": {
            "text/plain": [
              "      Test Predictions   Actuals\n",
              "0             0.975853  0.967930\n",
              "1             2.199247  2.192565\n",
              "2             1.165926  1.163321\n",
              "3             1.107152  1.101940\n",
              "4             1.071144  1.061994\n",
              "...                ...       ...\n",
              "7091         -0.021306  0.033062\n",
              "7092         -0.144528 -0.166750\n",
              "7093         -0.163589 -0.160109\n",
              "7094         -0.071294 -0.059672\n",
              "7095         -0.123697 -0.249564\n",
              "\n",
              "[7096 rows x 2 columns]"
            ],
            "text/html": [
              "\n",
              "  <div id=\"df-5d220526-0e9b-4bec-958d-f641977fe7be\">\n",
              "    <div class=\"colab-df-container\">\n",
              "      <div>\n",
              "<style scoped>\n",
              "    .dataframe tbody tr th:only-of-type {\n",
              "        vertical-align: middle;\n",
              "    }\n",
              "\n",
              "    .dataframe tbody tr th {\n",
              "        vertical-align: top;\n",
              "    }\n",
              "\n",
              "    .dataframe thead th {\n",
              "        text-align: right;\n",
              "    }\n",
              "</style>\n",
              "<table border=\"1\" class=\"dataframe\">\n",
              "  <thead>\n",
              "    <tr style=\"text-align: right;\">\n",
              "      <th></th>\n",
              "      <th>Test Predictions</th>\n",
              "      <th>Actuals</th>\n",
              "    </tr>\n",
              "  </thead>\n",
              "  <tbody>\n",
              "    <tr>\n",
              "      <th>0</th>\n",
              "      <td>0.975853</td>\n",
              "      <td>0.967930</td>\n",
              "    </tr>\n",
              "    <tr>\n",
              "      <th>1</th>\n",
              "      <td>2.199247</td>\n",
              "      <td>2.192565</td>\n",
              "    </tr>\n",
              "    <tr>\n",
              "      <th>2</th>\n",
              "      <td>1.165926</td>\n",
              "      <td>1.163321</td>\n",
              "    </tr>\n",
              "    <tr>\n",
              "      <th>3</th>\n",
              "      <td>1.107152</td>\n",
              "      <td>1.101940</td>\n",
              "    </tr>\n",
              "    <tr>\n",
              "      <th>4</th>\n",
              "      <td>1.071144</td>\n",
              "      <td>1.061994</td>\n",
              "    </tr>\n",
              "    <tr>\n",
              "      <th>...</th>\n",
              "      <td>...</td>\n",
              "      <td>...</td>\n",
              "    </tr>\n",
              "    <tr>\n",
              "      <th>7091</th>\n",
              "      <td>-0.021306</td>\n",
              "      <td>0.033062</td>\n",
              "    </tr>\n",
              "    <tr>\n",
              "      <th>7092</th>\n",
              "      <td>-0.144528</td>\n",
              "      <td>-0.166750</td>\n",
              "    </tr>\n",
              "    <tr>\n",
              "      <th>7093</th>\n",
              "      <td>-0.163589</td>\n",
              "      <td>-0.160109</td>\n",
              "    </tr>\n",
              "    <tr>\n",
              "      <th>7094</th>\n",
              "      <td>-0.071294</td>\n",
              "      <td>-0.059672</td>\n",
              "    </tr>\n",
              "    <tr>\n",
              "      <th>7095</th>\n",
              "      <td>-0.123697</td>\n",
              "      <td>-0.249564</td>\n",
              "    </tr>\n",
              "  </tbody>\n",
              "</table>\n",
              "<p>7096 rows × 2 columns</p>\n",
              "</div>\n",
              "      <button class=\"colab-df-convert\" onclick=\"convertToInteractive('df-5d220526-0e9b-4bec-958d-f641977fe7be')\"\n",
              "              title=\"Convert this dataframe to an interactive table.\"\n",
              "              style=\"display:none;\">\n",
              "        \n",
              "  <svg xmlns=\"http://www.w3.org/2000/svg\" height=\"24px\"viewBox=\"0 0 24 24\"\n",
              "       width=\"24px\">\n",
              "    <path d=\"M0 0h24v24H0V0z\" fill=\"none\"/>\n",
              "    <path d=\"M18.56 5.44l.94 2.06.94-2.06 2.06-.94-2.06-.94-.94-2.06-.94 2.06-2.06.94zm-11 1L8.5 8.5l.94-2.06 2.06-.94-2.06-.94L8.5 2.5l-.94 2.06-2.06.94zm10 10l.94 2.06.94-2.06 2.06-.94-2.06-.94-.94-2.06-.94 2.06-2.06.94z\"/><path d=\"M17.41 7.96l-1.37-1.37c-.4-.4-.92-.59-1.43-.59-.52 0-1.04.2-1.43.59L10.3 9.45l-7.72 7.72c-.78.78-.78 2.05 0 2.83L4 21.41c.39.39.9.59 1.41.59.51 0 1.02-.2 1.41-.59l7.78-7.78 2.81-2.81c.8-.78.8-2.07 0-2.86zM5.41 20L4 18.59l7.72-7.72 1.47 1.35L5.41 20z\"/>\n",
              "  </svg>\n",
              "      </button>\n",
              "      \n",
              "  <style>\n",
              "    .colab-df-container {\n",
              "      display:flex;\n",
              "      flex-wrap:wrap;\n",
              "      gap: 12px;\n",
              "    }\n",
              "\n",
              "    .colab-df-convert {\n",
              "      background-color: #E8F0FE;\n",
              "      border: none;\n",
              "      border-radius: 50%;\n",
              "      cursor: pointer;\n",
              "      display: none;\n",
              "      fill: #1967D2;\n",
              "      height: 32px;\n",
              "      padding: 0 0 0 0;\n",
              "      width: 32px;\n",
              "    }\n",
              "\n",
              "    .colab-df-convert:hover {\n",
              "      background-color: #E2EBFA;\n",
              "      box-shadow: 0px 1px 2px rgba(60, 64, 67, 0.3), 0px 1px 3px 1px rgba(60, 64, 67, 0.15);\n",
              "      fill: #174EA6;\n",
              "    }\n",
              "\n",
              "    [theme=dark] .colab-df-convert {\n",
              "      background-color: #3B4455;\n",
              "      fill: #D2E3FC;\n",
              "    }\n",
              "\n",
              "    [theme=dark] .colab-df-convert:hover {\n",
              "      background-color: #434B5C;\n",
              "      box-shadow: 0px 1px 3px 1px rgba(0, 0, 0, 0.15);\n",
              "      filter: drop-shadow(0px 1px 2px rgba(0, 0, 0, 0.3));\n",
              "      fill: #FFFFFF;\n",
              "    }\n",
              "  </style>\n",
              "\n",
              "      <script>\n",
              "        const buttonEl =\n",
              "          document.querySelector('#df-5d220526-0e9b-4bec-958d-f641977fe7be button.colab-df-convert');\n",
              "        buttonEl.style.display =\n",
              "          google.colab.kernel.accessAllowed ? 'block' : 'none';\n",
              "\n",
              "        async function convertToInteractive(key) {\n",
              "          const element = document.querySelector('#df-5d220526-0e9b-4bec-958d-f641977fe7be');\n",
              "          const dataTable =\n",
              "            await google.colab.kernel.invokeFunction('convertToInteractive',\n",
              "                                                     [key], {});\n",
              "          if (!dataTable) return;\n",
              "\n",
              "          const docLinkHtml = 'Like what you see? Visit the ' +\n",
              "            '<a target=\"_blank\" href=https://colab.research.google.com/notebooks/data_table.ipynb>data table notebook</a>'\n",
              "            + ' to learn more about interactive tables.';\n",
              "          element.innerHTML = '';\n",
              "          dataTable['output_type'] = 'display_data';\n",
              "          await google.colab.output.renderOutput(dataTable, element);\n",
              "          const docLink = document.createElement('div');\n",
              "          docLink.innerHTML = docLinkHtml;\n",
              "          element.appendChild(docLink);\n",
              "        }\n",
              "      </script>\n",
              "    </div>\n",
              "  </div>\n",
              "  "
            ]
          },
          "metadata": {},
          "execution_count": 161
        }
      ],
      "source": [
        "test_predictions = lstm_model.predict(X_test1).flatten()\n",
        "test_results = pd.DataFrame(data={'Test Predictions':test_predictions, 'Actuals':y_test1})\n",
        "test_results"
      ]
    },
    {
      "cell_type": "code",
      "execution_count": 162,
      "metadata": {
        "colab": {
          "base_uri": "https://localhost:8080/",
          "height": 282
        },
        "id": "FFEeoBpa-Qbm",
        "outputId": "d52cd239-25e7-4b7c-c513-872d93dc6fb4"
      },
      "outputs": [
        {
          "output_type": "execute_result",
          "data": {
            "text/plain": [
              "<matplotlib.legend.Legend at 0x7fd79fff5cd0>"
            ]
          },
          "metadata": {},
          "execution_count": 162
        },
        {
          "output_type": "display_data",
          "data": {
            "text/plain": [
              "<Figure size 432x288 with 1 Axes>"
            ],
            "image/png": "[encoded data removed]"
          },
          "metadata": {
            "needs_background": "light"
          }
        }
      ],
      "source": [
        "plt.plot(test_results['Test Predictions'][:100], label='Test Predictions(LSTM 1h)')\n",
        "plt.plot(test_results['Actuals'][:100], label='Actual')\n",
        "plt.ylabel('[T (degC), normalised] ')\n",
        "plt.legend()"
      ]
    },
    {
      "cell_type": "code",
      "execution_count": 163,
      "metadata": {
        "id": "ug_wgO3Xthjf"
      },
      "outputs": [],
      "source": [
        "# trained models\n",
        "\n",
        "DENSE_MODEL_NAME = 'dense_hour_norm.h5'\n",
        "CONV_MODEL_NAME = 'conv_hour_norm.h5'\n",
        "LSTM_MODEL_NAME = 'lstm_hour_norm.h5'"
      ]
    },
    {
      "cell_type": "code",
      "execution_count": 164,
      "metadata": {
        "id": "oKIzVQDguF-3"
      },
      "outputs": [],
      "source": [
        "model1.save(DENSE_MODEL_NAME)\n",
        "conv_model.save(CONV_MODEL_NAME)\n",
        "lstm_model.save(LSTM_MODEL_NAME)\n"
      ]
    },
    {
      "cell_type": "code",
      "execution_count": 165,
      "metadata": {
        "id": "dhH2f48x7wu8"
      },
      "outputs": [],
      "source": [
        "def get_file_size(file_path):\n",
        "  \"\"\"calculates file size of trained model\"\"\"\n",
        "    size = os.path.getsize(file_path)\n",
        "    return size"
      ]
    },
    {
      "cell_type": "code",
      "execution_count": 166,
      "metadata": {
        "id": "qABs9WXH7l5e"
      },
      "outputs": [],
      "source": [
        "def convert_bytes(size, unit=None):\n",
        "    if unit == \"KB\":\n",
        "        return print('File size: ' + str(round(size / 1024, 3)) + ' Kilobytes')\n",
        "    elif unit == \"MB\":\n",
        "        return print('File size: ' + str(round(size / (1024 * 1024), 3)) + ' Megabytes')\n",
        "    else:\n",
        "        return print('File size: ' + str(size) + ' bytes')"
      ]
    },
    {
      "cell_type": "code",
      "execution_count": 167,
      "metadata": {
        "id": "DPhd4jfbuVe-",
        "colab": {
          "base_uri": "https://localhost:8080/"
        },
        "outputId": "ba615755-b1dd-443b-c3f3-dc1356520378"
      },
      "outputs": [
        {
          "output_type": "stream",
          "name": "stdout",
          "text": [
            "File size: 0.017 Megabytes\n"
          ]
        }
      ],
      "source": [
        "from sklearn.metrics import accuracy_score\n",
        "from sys import getsizeof\n",
        "\n",
        "convert_bytes(get_file_size(DENSE_MODEL_NAME), \"MB\")"
      ]
    },
    {
      "cell_type": "code",
      "execution_count": 168,
      "metadata": {
        "id": "UdnTckH0ulkA",
        "colab": {
          "base_uri": "https://localhost:8080/"
        },
        "outputId": "89bc2440-4732-4df5-fcf4-88670d20f89d"
      },
      "outputs": [
        {
          "output_type": "stream",
          "name": "stdout",
          "text": [
            "File size: 0.181 Megabytes\n"
          ]
        }
      ],
      "source": [
        "convert_bytes(get_file_size(CONV_MODEL_NAME), \"MB\")\n"
      ]
    },
    {
      "cell_type": "code",
      "execution_count": 169,
      "metadata": {
        "id": "aHY9W9yqunnT",
        "colab": {
          "base_uri": "https://localhost:8080/"
        },
        "outputId": "e62353b1-3431-4928-b8da-8f88357faaaa"
      },
      "outputs": [
        {
          "output_type": "stream",
          "name": "stdout",
          "text": [
            "File size: 0.235 Megabytes\n"
          ]
        }
      ],
      "source": [
        "convert_bytes(get_file_size(LSTM_MODEL_NAME), \"MB\")\n"
      ]
    },
    {
      "cell_type": "code",
      "execution_count": 170,
      "metadata": {
        "id": "c_i63ExVBusr",
        "colab": {
          "base_uri": "https://localhost:8080/",
          "height": 336
        },
        "outputId": "bd7c7cdb-dd04-4aab-bf47-ccfa1e7c8b51"
      },
      "outputs": [
        {
          "output_type": "display_data",
          "data": {
            "text/plain": [
              "<Figure size 432x288 with 1 Axes>"
            ],
            "image/png": "[encoded data removed]"
          },
          "metadata": {
            "needs_background": "light"
          }
        }
      ],
      "source": [
        "x = np.arange(len(performance))\n",
        "width = 0.3\n",
        "metric_name = 'root_mean_squared_error'\n",
        "metric_index = lstm_model.metrics_names.index('root_mean_squared_error')\n",
        "val_mae = [v[metric_index] for v in val_performance.values()]\n",
        "test_mae = [v[metric_index] for v in performance.values()]\n",
        "\n",
        "plt.ylabel('root_mean_squared_error [T (degC), normalised] ')\n",
        "plt.bar(x - 0.17, val_mae, width, label='Validation')\n",
        "plt.bar(x + 0.17, test_mae, width, label='Test')\n",
        "plt.xticks(ticks=x, labels=performance.keys(),\n",
        "           rotation=45)\n",
        "_ = plt.legend()\n"
      ]
    },
    {
      "cell_type": "code",
      "execution_count": 171,
      "metadata": {
        "id": "qpKx1PkWQi-0"
      },
      "outputs": [],
      "source": [
        "# uncomment for interger quantization\n",
        "\n",
        "\n",
        "# def representative_data_gen():\n",
        "#   for input_value in tf.data.Dataset.from_tensor_slices(X_train1).batch(1).take(100):\n",
        "#     # Model has only one input so each data point has one element.\n",
        "#     yield [input_value]"
      ]
    },
    {
      "cell_type": "code",
      "execution_count": 172,
      "metadata": {
        "id": "TKcCqwtHupCo"
      },
      "outputs": [],
      "source": [
        "converter = tf.lite.TFLiteConverter.from_keras_model(model1)\n",
        "\n",
        "converter.optimizations = [tf.lite.Optimize.DEFAULT]\n",
        "# converter.representative_dataset = representative_data_gen\n",
        "converter.target_spec.supported_ops = [tf.lite.OpsSet.TFLITE_BUILTINS, tf.lite.OpsSet.SELECT_TF_OPS]\n",
        "                                        # tf.lite.OpsSet.TFLITE_BUILTINS_INT8]\n",
        "# converter.inference_input_type = tf.int8  # or tf.uint8\n",
        "# converter.inference_output_type = tf.int8\n",
        "converter.target_spec.supported_types = [tf.float16]\n",
        "\n",
        "tflite_model = converter.convert()\n",
        "\n",
        "# Save the model.\n",
        "with open('dense_modelr4.tflite', 'wb') as f:\n",
        "  f.write(tflite_model)"
      ]
    },
    {
      "cell_type": "markdown",
      "source": [
        "## Conversion to TensorFlow Lite"
      ],
      "metadata": {
        "id": "1I_p2gxw-bzp"
      }
    },
    {
      "cell_type": "code",
      "execution_count": 183,
      "metadata": {
        "id": "BeumRJ1z-_T6",
        "colab": {
          "base_uri": "https://localhost:8080/"
        },
        "outputId": "81f6d286-0a5e-4898-8363-b92c3ef29b5d"
      },
      "outputs": [
        {
          "output_type": "stream",
          "name": "stderr",
          "text": [
            "WARNING:absl:Found untraced functions such as _jit_compiled_convolution_op while saving (showing 1 of 1). These functions will not be directly callable after loading.\n"
          ]
        }
      ],
      "source": [
        "converter = tf.lite.TFLiteConverter.from_keras_model(conv_model)\n",
        "\n",
        "converter.optimizations = [tf.lite.Optimize.DEFAULT]\n",
        "# converter.representative_dataset = representative_data_gen\n",
        "converter.target_spec.supported_ops = [tf.lite.OpsSet.TFLITE_BUILTINS, tf.lite.OpsSet.SELECT_TF_OPS]\n",
        "                                        # tf.lite.OpsSet.TFLITE_BUILTINS_INT8]\n",
        "# converter.inference_input_type = tf.int8  # or tf.uint8\n",
        "# converter.inference_output_type = tf.int8\n",
        "# converter.target_spec.supported_types = [tf.float16]\n",
        "\n",
        "conv_tflite_model = converter.convert()\n",
        "\n",
        "# Save the model.\n",
        "with open('conv_modelr4.tflite', 'wb') as f:\n",
        "  f.write(conv_tflite_model)"
      ]
    },
    {
      "cell_type": "code",
      "execution_count": 184,
      "metadata": {
        "id": "KVfMUnZH_AYB",
        "colab": {
          "base_uri": "https://localhost:8080/"
        },
        "outputId": "a68401b7-ed1c-46ba-e0c3-51ab9b1880c6"
      },
      "outputs": [
        {
          "output_type": "stream",
          "name": "stderr",
          "text": [
            "WARNING:absl:Found untraced functions such as lstm_cell_1_layer_call_fn, lstm_cell_1_layer_call_and_return_conditional_losses while saving (showing 2 of 2). These functions will not be directly callable after loading.\n"
          ]
        }
      ],
      "source": [
        "converter = tf.lite.TFLiteConverter.from_keras_model(lstm_model)\n",
        "\n",
        "converter.optimizations = [tf.lite.Optimize.DEFAULT]\n",
        "# converter.representative_dataset = representative_data_gen\n",
        "converter.target_spec.supported_ops = [tf.lite.OpsSet.TFLITE_BUILTINS, tf.lite.OpsSet.SELECT_TF_OPS]\n",
        "                                        # tf.lite.OpsSet.TFLITE_BUILTINS_INT8]\n",
        "# converter.inference_input_type = tf.int8  # or tf.uint8\n",
        "# converter.inference_output_type = tf.int8\n",
        "converter.target_spec.supported_types = [tf.float16]\n",
        "\n",
        "lstm_tflite_model = converter.convert()\n",
        "\n",
        "# Save the model.\n",
        "with open('lstm_modelr4.tflite', 'wb') as f:\n",
        "  f.write(lstm_tflite_model)"
      ]
    },
    {
      "cell_type": "markdown",
      "source": [
        "## Converted Model Size"
      ],
      "metadata": {
        "id": "5_R0Wi1a-hiH"
      }
    },
    {
      "cell_type": "code",
      "execution_count": 185,
      "metadata": {
        "id": "8BDs2cVs8ZqR",
        "colab": {
          "base_uri": "https://localhost:8080/"
        },
        "outputId": "93f7c77d-11bb-4905-b5cf-07f4827a51b6"
      },
      "outputs": [
        {
          "output_type": "stream",
          "name": "stdout",
          "text": [
            "File size: 3.441 Kilobytes\n"
          ]
        }
      ],
      "source": [
        "convert_bytes(get_file_size('dense_modelr4.tflite'), \"KB\")"
      ]
    },
    {
      "cell_type": "code",
      "execution_count": 186,
      "metadata": {
        "id": "YcQBIhLC8aKa",
        "colab": {
          "base_uri": "https://localhost:8080/"
        },
        "outputId": "1f63b514-d549-4c3c-dfbe-b9346b0c43ab"
      },
      "outputs": [
        {
          "output_type": "stream",
          "name": "stdout",
          "text": [
            "File size: 16.297 Kilobytes\n"
          ]
        }
      ],
      "source": [
        "convert_bytes(get_file_size('conv_modelr4.tflite'), \"KB\")"
      ]
    },
    {
      "cell_type": "code",
      "execution_count": 187,
      "metadata": {
        "id": "JnOFuN2f8aYD",
        "colab": {
          "base_uri": "https://localhost:8080/"
        },
        "outputId": "1778ed98-0180-4b9d-cb23-555313728e34"
      },
      "outputs": [
        {
          "output_type": "stream",
          "name": "stdout",
          "text": [
            "File size: 44.707 Kilobytes\n"
          ]
        }
      ],
      "source": [
        "convert_bytes(get_file_size('lstm_modelr4.tflite'), \"KB\")"
      ]
    },
    {
      "cell_type": "markdown",
      "source": [
        "## Converted Model Analysis"
      ],
      "metadata": {
        "id": "yraIsbYF-lUf"
      }
    },
    {
      "cell_type": "code",
      "execution_count": 188,
      "metadata": {
        "id": "9c4Ok261cma9",
        "colab": {
          "base_uri": "https://localhost:8080/"
        },
        "outputId": "89e8b0bd-f8f4-4ebd-bfaa-1dbe310d2cf7"
      },
      "outputs": [
        {
          "output_type": "stream",
          "name": "stdout",
          "text": [
            "=== TFLite ModelAnalyzer ===\n",
            "\n",
            "Your TFLite model has '1' subgraph(s). In the subgraph description below,\n",
            "T# represents the Tensor numbers. For example, in Subgraph#0, the DEQUANTIZE op takes\n",
            "tensor #4 as input and produces tensor #5 as output.\n",
            "\n",
            "Subgraph#0 main(T#0) -> [T#10]\n",
            "  Op#0 DEQUANTIZE(T#4) -> [T#5]\n",
            "  Op#1 DEQUANTIZE(T#3) -> [T#6]\n",
            "  Op#2 DEQUANTIZE(T#2) -> [T#7]\n",
            "  Op#3 DEQUANTIZE(T#1) -> [T#8]\n",
            "  Op#4 FULLY_CONNECTED(T#0, T#6, T#7) -> [T#9]\n",
            "  Op#5 FULLY_CONNECTED(T#9, T#5, T#8) -> [T#10]\n",
            "\n",
            "Tensors of Subgraph#0\n",
            "  T#0(serving_default_dense_8_input:0) shape_signature:[-1, 5], type:FLOAT32\n",
            "  T#1(sequential_4/dense_9/BiasAdd/ReadVariableOp) shape:[1], type:FLOAT16 RO 2 bytes\n",
            "  T#2(sequential_4/dense_8/BiasAdd/ReadVariableOp) shape:[100], type:FLOAT16 RO 200 bytes\n",
            "  T#3(sequential_4/dense_8/MatMul) shape:[100, 5], type:FLOAT16 RO 1000 bytes\n",
            "  T#4(sequential_4/dense_9/MatMul) shape:[1, 100], type:FLOAT16 RO 200 bytes\n",
            "  T#5(sequential_4/dense_9/MatMul1) shape:[1, 100], type:FLOAT32\n",
            "  T#6(sequential_4/dense_8/MatMul1) shape:[100, 5], type:FLOAT32\n",
            "  T#7(sequential_4/dense_8/BiasAdd/ReadVariableOp1) shape:[100], type:FLOAT32\n",
            "  T#8(sequential_4/dense_9/BiasAdd/ReadVariableOp1) shape:[1], type:FLOAT32\n",
            "  T#9(sequential_4/dense_8/MatMul;sequential_4/dense_8/Relu;sequential_4/dense_8/BiasAdd) shape_signature:[-1, 100], type:FLOAT32\n",
            "  T#10(StatefulPartitionedCall:0) shape_signature:[-1, 1], type:FLOAT32\n",
            "\n",
            "---------------------------------------------------------------\n",
            "Your TFLite model has ‘1’ signature_def(s).\n",
            "\n",
            "Signature#0 key: 'serving_default'\n",
            "- Subgraph: Subgraph#0\n",
            "- Inputs: \n",
            "    'dense_8_input' : T#0\n",
            "- Outputs: \n",
            "    'dense_9' : T#10\n",
            "\n",
            "---------------------------------------------------------------\n",
            "              Model size:       3524 bytes\n",
            "    Non-data buffer size:       1999 bytes (56.73 %)\n",
            "  Total data buffer size:       1525 bytes (43.27 %)\n",
            "    (Zero value buffers):          0 bytes (00.00 %)\n",
            "\n",
            "* Buffers of TFLite model are mostly used for constant tensors.\n",
            "  And zero value buffers are buffers filled with zeros.\n",
            "  Non-data buffers area are used to store operators, subgraphs and etc.\n",
            "  You can find more details from https://github.com/tensorflow/tensorflow/blob/master/tensorflow/lite/schema/schema.fbs\n",
            "\n"
          ]
        }
      ],
      "source": [
        "tf.lite.experimental.Analyzer.analyze(model_content=tflite_model)"
      ]
    },
    {
      "cell_type": "code",
      "execution_count": 189,
      "metadata": {
        "id": "S3H0ztUW-ZCj",
        "colab": {
          "base_uri": "https://localhost:8080/"
        },
        "outputId": "fad08b7c-a1e7-48c7-d775-0dfe36938448"
      },
      "outputs": [
        {
          "output_type": "stream",
          "name": "stdout",
          "text": [
            "input shape:  [1 5]\n",
            "input type: <class 'numpy.float32'>\n",
            "output shape:  [1 1]\n",
            "output type: <class 'numpy.float32'>\n"
          ]
        }
      ],
      "source": [
        "interpreter = tf.lite.Interpreter(model_path = \"dense_modelr4.tflite\")\n",
        "\n",
        "interpreter.allocate_tensors()\n",
        "\n",
        "input_details = interpreter.get_input_details()\n",
        "output_details = interpreter.get_output_details()[0]\n",
        "print(\"input shape: \", input_details[0][\"shape\"])\n",
        "print(\"input type:\", input_details[0][\"dtype\"])\n",
        "print(\"output shape: \", output_details[\"shape\"])\n",
        "print(\"output type:\", output_details[\"dtype\"])"
      ]
    },
    {
      "cell_type": "code",
      "execution_count": null,
      "metadata": {
        "id": "05OWLhD8-b0t"
      },
      "outputs": [],
      "source": [
        "input_shape = input_details[0]['shape']\n",
        "# input_data = np.array(np.random.random_sample(input_shape), dtype=np.float32)\n",
        "input_data = np.array(X_test1, dtype=np.float32)\n",
        "interpreter.set_tensor(input_details[0], input_data)\n",
        "\n",
        "interpreter.invoke()"
      ]
    },
    {
      "cell_type": "code",
      "execution_count": null,
      "metadata": {
        "id": "mVLks_1f-esE"
      },
      "outputs": [],
      "source": [
        "input_shape = interpreter.get_tensor(input_details[0]['index'])"
      ]
    },
    {
      "cell_type": "code",
      "execution_count": null,
      "metadata": {
        "id": "ZQspt0mG-hlN"
      },
      "outputs": [],
      "source": [
        "input_data"
      ]
    },
    {
      "cell_type": "code",
      "execution_count": null,
      "metadata": {
        "id": "16_zyC_p-j0y"
      },
      "outputs": [],
      "source": [
        "output_data = interpreter.get_tensor(output_details['index'])"
      ]
    },
    {
      "cell_type": "code",
      "execution_count": null,
      "metadata": {
        "id": "UHdcLAzO-mMi"
      },
      "outputs": [],
      "source": [
        "output_data"
      ]
    },
    {
      "cell_type": "code",
      "execution_count": null,
      "metadata": {
        "id": "GqGBo1JfyWt0"
      },
      "outputs": [],
      "source": [
        "prediction_classes = np.argmax(output_data, axis=1)\n"
      ]
    },
    {
      "cell_type": "code",
      "execution_count": null,
      "metadata": {
        "id": "59tTnpJaymN6"
      },
      "outputs": [],
      "source": [
        "acc = accuracy_score(prediction_classes, y_test1)"
      ]
    },
    {
      "cell_type": "code",
      "execution_count": null,
      "metadata": {
        "id": "xaWRW3f9-ooP"
      },
      "outputs": [],
      "source": [
        "interpreter.get_input_details()"
      ]
    },
    {
      "cell_type": "code",
      "execution_count": null,
      "metadata": {
        "id": "vc5zTkcA_4uX"
      },
      "outputs": [],
      "source": [
        "tf.dtypes.cast(input_details[0]['shape_signature'], dtype=tf.int8)\n",
        "input_details[0]['shape_signature']"
      ]
    },
    {
      "cell_type": "code",
      "execution_count": null,
      "metadata": {
        "id": "3jfNzJyh_utg"
      },
      "outputs": [],
      "source": [
        "tf.lite.experimental.Analyzer.analyze(model_content=conv_tflite_model)"
      ]
    },
    {
      "cell_type": "code",
      "execution_count": null,
      "metadata": {
        "id": "89q1cfrx_a8I"
      },
      "outputs": [],
      "source": [
        "tf.lite.experimental.Analyzer.analyze(model_content=lstm_tflite_model)"
      ]
    },
    {
      "cell_type": "code",
      "execution_count": null,
      "metadata": {
        "id": "WOelmSDvIq6h"
      },
      "outputs": [],
      "source": []
    }
  ],
  "metadata": {
    "colab": {
      "collapsed_sections": [],
      "provenance": []
    },
    "kernelspec": {
      "display_name": "Python 3",
      "name": "python3"
    },
    "language_info": {
      "name": "python"
    }
  },
  "nbformat": 4,
  "nbformat_minor": 0
}